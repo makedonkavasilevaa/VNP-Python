{
  "nbformat": 4,
  "nbformat_minor": 0,
  "metadata": {
    "colab": {
      "provenance": []
    },
    "kernelspec": {
      "name": "python3",
      "display_name": "Python 3"
    },
    "language_info": {
      "name": "python"
    }
  },
  "cells": [
    {
      "cell_type": "markdown",
      "source": [
        "# Requirements"
      ],
      "metadata": {
        "id": "rODb9vHvIEbp"
      }
    },
    {
      "cell_type": "code",
      "execution_count": null,
      "metadata": {
        "id": "-rgNa1IOH9KV"
      },
      "outputs": [],
      "source": [
        "import pandas as pd\n",
        "import missingno as msno\n",
        "from sklearn.impute import SimpleImputer\n",
        "from sklearn.neighbors import KNeighborsClassifier"
      ]
    },
    {
      "cell_type": "code",
      "source": [
        "# Add as many imports as you need.\n",
        "from google.colab import drive\n",
        "drive.mount('/content/drive')\n",
        "#path = \"/content/drive/MyDrive/Lab2-VNP\"\n",
        "#file_path = path + \"/nulled.csv\""
      ],
      "metadata": {
        "id": "U4KmHBd2cdx9",
        "colab": {
          "base_uri": "https://localhost:8080/"
        },
        "outputId": "888cb494-79ed-4baf-ab2b-7502b97293f5"
      },
      "execution_count": null,
      "outputs": [
        {
          "output_type": "stream",
          "name": "stdout",
          "text": [
            "Drive already mounted at /content/drive; to attempt to forcibly remount, call drive.mount(\"/content/drive\", force_remount=True).\n"
          ]
        }
      ]
    },
    {
      "cell_type": "markdown",
      "source": [
        "# Laboratory Exercise - Run Mode (8 points)"
      ],
      "metadata": {
        "id": "KNMMoUiUIW3L"
      }
    },
    {
      "cell_type": "markdown",
      "source": [
        "## Introduction\n",
        "Mammography is the most effective method for breast cancer screening available today. However, the low positive predictive value of breast biopsy resulting from mammogram interpretation leads to approximately 70% unnecessary biopsies with benign outcomes. To reduce the high number of unnecessary breast biopsies, several computer-aided diagnosis (CAD) systems have been proposed in the last years.These system help physicians in their decision to perform a breast biopsy on a suspicious lesion seen in a mammogram or to perform a short term follow-up examination instead. This data set can be used to predict the severity (benign or malignant) of a mammographic mass lesion from BI-RADS attributes and the patient's age. It contains a BI-RADS assessment, the patient's age and three BI-RADS attributes together with the ground truth (the severity field) for 516 benign and 445 malignant masses that have been identified on full field digital mammograms collected at the Institute of Radiology of the University Erlangen-Nuremberg between 2003 and 2006. Each instance has an associated BI-RADS assessment ranging from 1 (definitely benign) to 5 (highly suggestive of malignancy) assigned in a double-review process by physicians. Assuming that all cases with BI-RADS assessments greater or equal a given value (varying from 1 to 5), are malignant and the other cases benign, sensitivities and associated specificities can be calculated. These can be an indication of how well a CAD system performs compared to the radiologists. For more details visit https://archive.ics.uci.edu/dataset/161/mammographic+mass."
      ],
      "metadata": {
        "id": "_rAh_91OIjeS"
      }
    },
    {
      "cell_type": "markdown",
      "source": [
        "## The Mammographic Mass Dataset"
      ],
      "metadata": {
        "id": "zBYI-EypaWom"
      }
    },
    {
      "cell_type": "markdown",
      "source": [
        "## Downloading the Mammographic Mass Dataset"
      ],
      "metadata": {
        "id": "IDW_23TIK6iv"
      }
    },
    {
      "cell_type": "code",
      "source": [
        "!gdown 1CyiAL5d2jJHvpzt3XaY3dTto9c2d_h5R # Download the dataset."
      ],
      "metadata": {
        "colab": {
          "base_uri": "https://localhost:8080/"
        },
        "id": "NNtbofJTIWqK",
        "outputId": "597e5e56-c969-42fa-b8f7-086a9425e299"
      },
      "execution_count": null,
      "outputs": [
        {
          "output_type": "stream",
          "name": "stdout",
          "text": [
            "Downloading...\n",
            "From: https://drive.google.com/uc?id=1CyiAL5d2jJHvpzt3XaY3dTto9c2d_h5R\n",
            "To: /content/mammographic-mass.csv\n",
            "\r  0% 0.00/13.3k [00:00<?, ?B/s]\r100% 13.3k/13.3k [00:00<00:00, 39.0MB/s]\n"
          ]
        }
      ]
    },
    {
      "cell_type": "markdown",
      "source": [
        "## Exploring the Mammographic Mass Dataset\n",
        "The Mammographic Mass dataset contains six attributes, among which there is a target attribute and a non-predictive attribute. The target attribute, denoted as 'Severity', is binomial, distinguishing between benign (0) and malignant (1) cases. The non-predictive attribute, 'BI-RADS assessment', is an ordinal scale ranging from 1 to 5. The remaining four attributes are predictive, including 'Age', represented in years as an integer, 'Shape' categorizing mass shape as round (1), oval (2), lobular (3), or irregular (4). 'Margin' classifies mass margins into circumscribed (1), microlobulated (2), obscured (3), ill-defined (4), or spiculated (5). 'Density' indicates mass density as high (1), iso (2), low (3), or fat-containing (4)."
      ],
      "metadata": {
        "id": "iAtPoYzAZo1v"
      }
    },
    {
      "cell_type": "markdown",
      "source": [
        "Load the dataset into a `pandas` data frame."
      ],
      "metadata": {
        "id": "DCm1qm1mZwMr"
      }
    },
    {
      "cell_type": "code",
      "source": [
        "# Write your code here. Add as many boxes as you need.\n",
        "df = pd.read_csv('/content/mammographic-mass.csv')\n",
        "df"
      ],
      "metadata": {
        "id": "KMOn4fgcZn8s",
        "colab": {
          "base_uri": "https://localhost:8080/",
          "height": 423
        },
        "outputId": "a1473752-57b1-4935-9e96-483c44ea52e1"
      },
      "execution_count": null,
      "outputs": [
        {
          "output_type": "execute_result",
          "data": {
            "text/plain": [
              "     BI-RADS assessment   Age  Shape  Margin  Density  Severity\n",
              "0                   5.0  67.0    3.0     5.0      3.0         1\n",
              "1                   4.0  43.0    1.0     1.0      NaN         1\n",
              "2                   5.0  58.0    4.0     5.0      3.0         1\n",
              "3                   4.0  28.0    1.0     1.0      3.0         0\n",
              "4                   5.0  74.0    1.0     5.0      NaN         1\n",
              "..                  ...   ...    ...     ...      ...       ...\n",
              "956                 4.0  47.0    2.0     1.0      3.0         0\n",
              "957                 4.0  56.0    4.0     5.0      3.0         1\n",
              "958                 4.0  64.0    4.0     5.0      3.0         0\n",
              "959                 5.0  66.0    4.0     5.0      3.0         1\n",
              "960                 4.0  62.0    3.0     3.0      3.0         0\n",
              "\n",
              "[961 rows x 6 columns]"
            ],
            "text/html": [
              "\n",
              "  <div id=\"df-b64f7cb3-9236-4b2b-99ee-575c44b2f62e\" class=\"colab-df-container\">\n",
              "    <div>\n",
              "<style scoped>\n",
              "    .dataframe tbody tr th:only-of-type {\n",
              "        vertical-align: middle;\n",
              "    }\n",
              "\n",
              "    .dataframe tbody tr th {\n",
              "        vertical-align: top;\n",
              "    }\n",
              "\n",
              "    .dataframe thead th {\n",
              "        text-align: right;\n",
              "    }\n",
              "</style>\n",
              "<table border=\"1\" class=\"dataframe\">\n",
              "  <thead>\n",
              "    <tr style=\"text-align: right;\">\n",
              "      <th></th>\n",
              "      <th>BI-RADS assessment</th>\n",
              "      <th>Age</th>\n",
              "      <th>Shape</th>\n",
              "      <th>Margin</th>\n",
              "      <th>Density</th>\n",
              "      <th>Severity</th>\n",
              "    </tr>\n",
              "  </thead>\n",
              "  <tbody>\n",
              "    <tr>\n",
              "      <th>0</th>\n",
              "      <td>5.0</td>\n",
              "      <td>67.0</td>\n",
              "      <td>3.0</td>\n",
              "      <td>5.0</td>\n",
              "      <td>3.0</td>\n",
              "      <td>1</td>\n",
              "    </tr>\n",
              "    <tr>\n",
              "      <th>1</th>\n",
              "      <td>4.0</td>\n",
              "      <td>43.0</td>\n",
              "      <td>1.0</td>\n",
              "      <td>1.0</td>\n",
              "      <td>NaN</td>\n",
              "      <td>1</td>\n",
              "    </tr>\n",
              "    <tr>\n",
              "      <th>2</th>\n",
              "      <td>5.0</td>\n",
              "      <td>58.0</td>\n",
              "      <td>4.0</td>\n",
              "      <td>5.0</td>\n",
              "      <td>3.0</td>\n",
              "      <td>1</td>\n",
              "    </tr>\n",
              "    <tr>\n",
              "      <th>3</th>\n",
              "      <td>4.0</td>\n",
              "      <td>28.0</td>\n",
              "      <td>1.0</td>\n",
              "      <td>1.0</td>\n",
              "      <td>3.0</td>\n",
              "      <td>0</td>\n",
              "    </tr>\n",
              "    <tr>\n",
              "      <th>4</th>\n",
              "      <td>5.0</td>\n",
              "      <td>74.0</td>\n",
              "      <td>1.0</td>\n",
              "      <td>5.0</td>\n",
              "      <td>NaN</td>\n",
              "      <td>1</td>\n",
              "    </tr>\n",
              "    <tr>\n",
              "      <th>...</th>\n",
              "      <td>...</td>\n",
              "      <td>...</td>\n",
              "      <td>...</td>\n",
              "      <td>...</td>\n",
              "      <td>...</td>\n",
              "      <td>...</td>\n",
              "    </tr>\n",
              "    <tr>\n",
              "      <th>956</th>\n",
              "      <td>4.0</td>\n",
              "      <td>47.0</td>\n",
              "      <td>2.0</td>\n",
              "      <td>1.0</td>\n",
              "      <td>3.0</td>\n",
              "      <td>0</td>\n",
              "    </tr>\n",
              "    <tr>\n",
              "      <th>957</th>\n",
              "      <td>4.0</td>\n",
              "      <td>56.0</td>\n",
              "      <td>4.0</td>\n",
              "      <td>5.0</td>\n",
              "      <td>3.0</td>\n",
              "      <td>1</td>\n",
              "    </tr>\n",
              "    <tr>\n",
              "      <th>958</th>\n",
              "      <td>4.0</td>\n",
              "      <td>64.0</td>\n",
              "      <td>4.0</td>\n",
              "      <td>5.0</td>\n",
              "      <td>3.0</td>\n",
              "      <td>0</td>\n",
              "    </tr>\n",
              "    <tr>\n",
              "      <th>959</th>\n",
              "      <td>5.0</td>\n",
              "      <td>66.0</td>\n",
              "      <td>4.0</td>\n",
              "      <td>5.0</td>\n",
              "      <td>3.0</td>\n",
              "      <td>1</td>\n",
              "    </tr>\n",
              "    <tr>\n",
              "      <th>960</th>\n",
              "      <td>4.0</td>\n",
              "      <td>62.0</td>\n",
              "      <td>3.0</td>\n",
              "      <td>3.0</td>\n",
              "      <td>3.0</td>\n",
              "      <td>0</td>\n",
              "    </tr>\n",
              "  </tbody>\n",
              "</table>\n",
              "<p>961 rows × 6 columns</p>\n",
              "</div>\n",
              "    <div class=\"colab-df-buttons\">\n",
              "\n",
              "  <div class=\"colab-df-container\">\n",
              "    <button class=\"colab-df-convert\" onclick=\"convertToInteractive('df-b64f7cb3-9236-4b2b-99ee-575c44b2f62e')\"\n",
              "            title=\"Convert this dataframe to an interactive table.\"\n",
              "            style=\"display:none;\">\n",
              "\n",
              "  <svg xmlns=\"http://www.w3.org/2000/svg\" height=\"24px\" viewBox=\"0 -960 960 960\">\n",
              "    <path d=\"M120-120v-720h720v720H120Zm60-500h600v-160H180v160Zm220 220h160v-160H400v160Zm0 220h160v-160H400v160ZM180-400h160v-160H180v160Zm440 0h160v-160H620v160ZM180-180h160v-160H180v160Zm440 0h160v-160H620v160Z\"/>\n",
              "  </svg>\n",
              "    </button>\n",
              "\n",
              "  <style>\n",
              "    .colab-df-container {\n",
              "      display:flex;\n",
              "      gap: 12px;\n",
              "    }\n",
              "\n",
              "    .colab-df-convert {\n",
              "      background-color: #E8F0FE;\n",
              "      border: none;\n",
              "      border-radius: 50%;\n",
              "      cursor: pointer;\n",
              "      display: none;\n",
              "      fill: #1967D2;\n",
              "      height: 32px;\n",
              "      padding: 0 0 0 0;\n",
              "      width: 32px;\n",
              "    }\n",
              "\n",
              "    .colab-df-convert:hover {\n",
              "      background-color: #E2EBFA;\n",
              "      box-shadow: 0px 1px 2px rgba(60, 64, 67, 0.3), 0px 1px 3px 1px rgba(60, 64, 67, 0.15);\n",
              "      fill: #174EA6;\n",
              "    }\n",
              "\n",
              "    .colab-df-buttons div {\n",
              "      margin-bottom: 4px;\n",
              "    }\n",
              "\n",
              "    [theme=dark] .colab-df-convert {\n",
              "      background-color: #3B4455;\n",
              "      fill: #D2E3FC;\n",
              "    }\n",
              "\n",
              "    [theme=dark] .colab-df-convert:hover {\n",
              "      background-color: #434B5C;\n",
              "      box-shadow: 0px 1px 3px 1px rgba(0, 0, 0, 0.15);\n",
              "      filter: drop-shadow(0px 1px 2px rgba(0, 0, 0, 0.3));\n",
              "      fill: #FFFFFF;\n",
              "    }\n",
              "  </style>\n",
              "\n",
              "    <script>\n",
              "      const buttonEl =\n",
              "        document.querySelector('#df-b64f7cb3-9236-4b2b-99ee-575c44b2f62e button.colab-df-convert');\n",
              "      buttonEl.style.display =\n",
              "        google.colab.kernel.accessAllowed ? 'block' : 'none';\n",
              "\n",
              "      async function convertToInteractive(key) {\n",
              "        const element = document.querySelector('#df-b64f7cb3-9236-4b2b-99ee-575c44b2f62e');\n",
              "        const dataTable =\n",
              "          await google.colab.kernel.invokeFunction('convertToInteractive',\n",
              "                                                    [key], {});\n",
              "        if (!dataTable) return;\n",
              "\n",
              "        const docLinkHtml = 'Like what you see? Visit the ' +\n",
              "          '<a target=\"_blank\" href=https://colab.research.google.com/notebooks/data_table.ipynb>data table notebook</a>'\n",
              "          + ' to learn more about interactive tables.';\n",
              "        element.innerHTML = '';\n",
              "        dataTable['output_type'] = 'display_data';\n",
              "        await google.colab.output.renderOutput(dataTable, element);\n",
              "        const docLink = document.createElement('div');\n",
              "        docLink.innerHTML = docLinkHtml;\n",
              "        element.appendChild(docLink);\n",
              "      }\n",
              "    </script>\n",
              "  </div>\n",
              "\n",
              "\n",
              "<div id=\"df-901fecfe-9b4f-4e54-813f-f22b997f09cd\">\n",
              "  <button class=\"colab-df-quickchart\" onclick=\"quickchart('df-901fecfe-9b4f-4e54-813f-f22b997f09cd')\"\n",
              "            title=\"Suggest charts\"\n",
              "            style=\"display:none;\">\n",
              "\n",
              "<svg xmlns=\"http://www.w3.org/2000/svg\" height=\"24px\"viewBox=\"0 0 24 24\"\n",
              "     width=\"24px\">\n",
              "    <g>\n",
              "        <path d=\"M19 3H5c-1.1 0-2 .9-2 2v14c0 1.1.9 2 2 2h14c1.1 0 2-.9 2-2V5c0-1.1-.9-2-2-2zM9 17H7v-7h2v7zm4 0h-2V7h2v10zm4 0h-2v-4h2v4z\"/>\n",
              "    </g>\n",
              "</svg>\n",
              "  </button>\n",
              "\n",
              "<style>\n",
              "  .colab-df-quickchart {\n",
              "      --bg-color: #E8F0FE;\n",
              "      --fill-color: #1967D2;\n",
              "      --hover-bg-color: #E2EBFA;\n",
              "      --hover-fill-color: #174EA6;\n",
              "      --disabled-fill-color: #AAA;\n",
              "      --disabled-bg-color: #DDD;\n",
              "  }\n",
              "\n",
              "  [theme=dark] .colab-df-quickchart {\n",
              "      --bg-color: #3B4455;\n",
              "      --fill-color: #D2E3FC;\n",
              "      --hover-bg-color: #434B5C;\n",
              "      --hover-fill-color: #FFFFFF;\n",
              "      --disabled-bg-color: #3B4455;\n",
              "      --disabled-fill-color: #666;\n",
              "  }\n",
              "\n",
              "  .colab-df-quickchart {\n",
              "    background-color: var(--bg-color);\n",
              "    border: none;\n",
              "    border-radius: 50%;\n",
              "    cursor: pointer;\n",
              "    display: none;\n",
              "    fill: var(--fill-color);\n",
              "    height: 32px;\n",
              "    padding: 0;\n",
              "    width: 32px;\n",
              "  }\n",
              "\n",
              "  .colab-df-quickchart:hover {\n",
              "    background-color: var(--hover-bg-color);\n",
              "    box-shadow: 0 1px 2px rgba(60, 64, 67, 0.3), 0 1px 3px 1px rgba(60, 64, 67, 0.15);\n",
              "    fill: var(--button-hover-fill-color);\n",
              "  }\n",
              "\n",
              "  .colab-df-quickchart-complete:disabled,\n",
              "  .colab-df-quickchart-complete:disabled:hover {\n",
              "    background-color: var(--disabled-bg-color);\n",
              "    fill: var(--disabled-fill-color);\n",
              "    box-shadow: none;\n",
              "  }\n",
              "\n",
              "  .colab-df-spinner {\n",
              "    border: 2px solid var(--fill-color);\n",
              "    border-color: transparent;\n",
              "    border-bottom-color: var(--fill-color);\n",
              "    animation:\n",
              "      spin 1s steps(1) infinite;\n",
              "  }\n",
              "\n",
              "  @keyframes spin {\n",
              "    0% {\n",
              "      border-color: transparent;\n",
              "      border-bottom-color: var(--fill-color);\n",
              "      border-left-color: var(--fill-color);\n",
              "    }\n",
              "    20% {\n",
              "      border-color: transparent;\n",
              "      border-left-color: var(--fill-color);\n",
              "      border-top-color: var(--fill-color);\n",
              "    }\n",
              "    30% {\n",
              "      border-color: transparent;\n",
              "      border-left-color: var(--fill-color);\n",
              "      border-top-color: var(--fill-color);\n",
              "      border-right-color: var(--fill-color);\n",
              "    }\n",
              "    40% {\n",
              "      border-color: transparent;\n",
              "      border-right-color: var(--fill-color);\n",
              "      border-top-color: var(--fill-color);\n",
              "    }\n",
              "    60% {\n",
              "      border-color: transparent;\n",
              "      border-right-color: var(--fill-color);\n",
              "    }\n",
              "    80% {\n",
              "      border-color: transparent;\n",
              "      border-right-color: var(--fill-color);\n",
              "      border-bottom-color: var(--fill-color);\n",
              "    }\n",
              "    90% {\n",
              "      border-color: transparent;\n",
              "      border-bottom-color: var(--fill-color);\n",
              "    }\n",
              "  }\n",
              "</style>\n",
              "\n",
              "  <script>\n",
              "    async function quickchart(key) {\n",
              "      const quickchartButtonEl =\n",
              "        document.querySelector('#' + key + ' button');\n",
              "      quickchartButtonEl.disabled = true;  // To prevent multiple clicks.\n",
              "      quickchartButtonEl.classList.add('colab-df-spinner');\n",
              "      try {\n",
              "        const charts = await google.colab.kernel.invokeFunction(\n",
              "            'suggestCharts', [key], {});\n",
              "      } catch (error) {\n",
              "        console.error('Error during call to suggestCharts:', error);\n",
              "      }\n",
              "      quickchartButtonEl.classList.remove('colab-df-spinner');\n",
              "      quickchartButtonEl.classList.add('colab-df-quickchart-complete');\n",
              "    }\n",
              "    (() => {\n",
              "      let quickchartButtonEl =\n",
              "        document.querySelector('#df-901fecfe-9b4f-4e54-813f-f22b997f09cd button');\n",
              "      quickchartButtonEl.style.display =\n",
              "        google.colab.kernel.accessAllowed ? 'block' : 'none';\n",
              "    })();\n",
              "  </script>\n",
              "</div>\n",
              "    </div>\n",
              "  </div>\n"
            ]
          },
          "metadata": {},
          "execution_count": 62
        }
      ]
    },
    {
      "cell_type": "markdown",
      "source": [
        "Drop the column `BI-RADS assessment` as it shouldn't be used for prediction."
      ],
      "metadata": {
        "id": "NVmYTdTnZ55G"
      }
    },
    {
      "cell_type": "code",
      "source": [
        "# Write your code here. Add as many boxes as you need.\n",
        "df.drop('BI-RADS assessment', axis=1, inplace=True)"
      ],
      "metadata": {
        "id": "PBr72e9jZ4Jt"
      },
      "execution_count": null,
      "outputs": []
    },
    {
      "cell_type": "code",
      "source": [
        "df"
      ],
      "metadata": {
        "colab": {
          "base_uri": "https://localhost:8080/",
          "height": 423
        },
        "id": "aOm48sOVDUWM",
        "outputId": "be1a1af4-56b4-4a73-c3eb-36dbac62168e"
      },
      "execution_count": null,
      "outputs": [
        {
          "output_type": "execute_result",
          "data": {
            "text/plain": [
              "      Age  Shape  Margin  Density  Severity\n",
              "0    67.0    3.0     5.0      3.0         1\n",
              "1    43.0    1.0     1.0      NaN         1\n",
              "2    58.0    4.0     5.0      3.0         1\n",
              "3    28.0    1.0     1.0      3.0         0\n",
              "4    74.0    1.0     5.0      NaN         1\n",
              "..    ...    ...     ...      ...       ...\n",
              "956  47.0    2.0     1.0      3.0         0\n",
              "957  56.0    4.0     5.0      3.0         1\n",
              "958  64.0    4.0     5.0      3.0         0\n",
              "959  66.0    4.0     5.0      3.0         1\n",
              "960  62.0    3.0     3.0      3.0         0\n",
              "\n",
              "[961 rows x 5 columns]"
            ],
            "text/html": [
              "\n",
              "  <div id=\"df-2c5d7604-f6d0-429c-810d-479b67da83ef\" class=\"colab-df-container\">\n",
              "    <div>\n",
              "<style scoped>\n",
              "    .dataframe tbody tr th:only-of-type {\n",
              "        vertical-align: middle;\n",
              "    }\n",
              "\n",
              "    .dataframe tbody tr th {\n",
              "        vertical-align: top;\n",
              "    }\n",
              "\n",
              "    .dataframe thead th {\n",
              "        text-align: right;\n",
              "    }\n",
              "</style>\n",
              "<table border=\"1\" class=\"dataframe\">\n",
              "  <thead>\n",
              "    <tr style=\"text-align: right;\">\n",
              "      <th></th>\n",
              "      <th>Age</th>\n",
              "      <th>Shape</th>\n",
              "      <th>Margin</th>\n",
              "      <th>Density</th>\n",
              "      <th>Severity</th>\n",
              "    </tr>\n",
              "  </thead>\n",
              "  <tbody>\n",
              "    <tr>\n",
              "      <th>0</th>\n",
              "      <td>67.0</td>\n",
              "      <td>3.0</td>\n",
              "      <td>5.0</td>\n",
              "      <td>3.0</td>\n",
              "      <td>1</td>\n",
              "    </tr>\n",
              "    <tr>\n",
              "      <th>1</th>\n",
              "      <td>43.0</td>\n",
              "      <td>1.0</td>\n",
              "      <td>1.0</td>\n",
              "      <td>NaN</td>\n",
              "      <td>1</td>\n",
              "    </tr>\n",
              "    <tr>\n",
              "      <th>2</th>\n",
              "      <td>58.0</td>\n",
              "      <td>4.0</td>\n",
              "      <td>5.0</td>\n",
              "      <td>3.0</td>\n",
              "      <td>1</td>\n",
              "    </tr>\n",
              "    <tr>\n",
              "      <th>3</th>\n",
              "      <td>28.0</td>\n",
              "      <td>1.0</td>\n",
              "      <td>1.0</td>\n",
              "      <td>3.0</td>\n",
              "      <td>0</td>\n",
              "    </tr>\n",
              "    <tr>\n",
              "      <th>4</th>\n",
              "      <td>74.0</td>\n",
              "      <td>1.0</td>\n",
              "      <td>5.0</td>\n",
              "      <td>NaN</td>\n",
              "      <td>1</td>\n",
              "    </tr>\n",
              "    <tr>\n",
              "      <th>...</th>\n",
              "      <td>...</td>\n",
              "      <td>...</td>\n",
              "      <td>...</td>\n",
              "      <td>...</td>\n",
              "      <td>...</td>\n",
              "    </tr>\n",
              "    <tr>\n",
              "      <th>956</th>\n",
              "      <td>47.0</td>\n",
              "      <td>2.0</td>\n",
              "      <td>1.0</td>\n",
              "      <td>3.0</td>\n",
              "      <td>0</td>\n",
              "    </tr>\n",
              "    <tr>\n",
              "      <th>957</th>\n",
              "      <td>56.0</td>\n",
              "      <td>4.0</td>\n",
              "      <td>5.0</td>\n",
              "      <td>3.0</td>\n",
              "      <td>1</td>\n",
              "    </tr>\n",
              "    <tr>\n",
              "      <th>958</th>\n",
              "      <td>64.0</td>\n",
              "      <td>4.0</td>\n",
              "      <td>5.0</td>\n",
              "      <td>3.0</td>\n",
              "      <td>0</td>\n",
              "    </tr>\n",
              "    <tr>\n",
              "      <th>959</th>\n",
              "      <td>66.0</td>\n",
              "      <td>4.0</td>\n",
              "      <td>5.0</td>\n",
              "      <td>3.0</td>\n",
              "      <td>1</td>\n",
              "    </tr>\n",
              "    <tr>\n",
              "      <th>960</th>\n",
              "      <td>62.0</td>\n",
              "      <td>3.0</td>\n",
              "      <td>3.0</td>\n",
              "      <td>3.0</td>\n",
              "      <td>0</td>\n",
              "    </tr>\n",
              "  </tbody>\n",
              "</table>\n",
              "<p>961 rows × 5 columns</p>\n",
              "</div>\n",
              "    <div class=\"colab-df-buttons\">\n",
              "\n",
              "  <div class=\"colab-df-container\">\n",
              "    <button class=\"colab-df-convert\" onclick=\"convertToInteractive('df-2c5d7604-f6d0-429c-810d-479b67da83ef')\"\n",
              "            title=\"Convert this dataframe to an interactive table.\"\n",
              "            style=\"display:none;\">\n",
              "\n",
              "  <svg xmlns=\"http://www.w3.org/2000/svg\" height=\"24px\" viewBox=\"0 -960 960 960\">\n",
              "    <path d=\"M120-120v-720h720v720H120Zm60-500h600v-160H180v160Zm220 220h160v-160H400v160Zm0 220h160v-160H400v160ZM180-400h160v-160H180v160Zm440 0h160v-160H620v160ZM180-180h160v-160H180v160Zm440 0h160v-160H620v160Z\"/>\n",
              "  </svg>\n",
              "    </button>\n",
              "\n",
              "  <style>\n",
              "    .colab-df-container {\n",
              "      display:flex;\n",
              "      gap: 12px;\n",
              "    }\n",
              "\n",
              "    .colab-df-convert {\n",
              "      background-color: #E8F0FE;\n",
              "      border: none;\n",
              "      border-radius: 50%;\n",
              "      cursor: pointer;\n",
              "      display: none;\n",
              "      fill: #1967D2;\n",
              "      height: 32px;\n",
              "      padding: 0 0 0 0;\n",
              "      width: 32px;\n",
              "    }\n",
              "\n",
              "    .colab-df-convert:hover {\n",
              "      background-color: #E2EBFA;\n",
              "      box-shadow: 0px 1px 2px rgba(60, 64, 67, 0.3), 0px 1px 3px 1px rgba(60, 64, 67, 0.15);\n",
              "      fill: #174EA6;\n",
              "    }\n",
              "\n",
              "    .colab-df-buttons div {\n",
              "      margin-bottom: 4px;\n",
              "    }\n",
              "\n",
              "    [theme=dark] .colab-df-convert {\n",
              "      background-color: #3B4455;\n",
              "      fill: #D2E3FC;\n",
              "    }\n",
              "\n",
              "    [theme=dark] .colab-df-convert:hover {\n",
              "      background-color: #434B5C;\n",
              "      box-shadow: 0px 1px 3px 1px rgba(0, 0, 0, 0.15);\n",
              "      filter: drop-shadow(0px 1px 2px rgba(0, 0, 0, 0.3));\n",
              "      fill: #FFFFFF;\n",
              "    }\n",
              "  </style>\n",
              "\n",
              "    <script>\n",
              "      const buttonEl =\n",
              "        document.querySelector('#df-2c5d7604-f6d0-429c-810d-479b67da83ef button.colab-df-convert');\n",
              "      buttonEl.style.display =\n",
              "        google.colab.kernel.accessAllowed ? 'block' : 'none';\n",
              "\n",
              "      async function convertToInteractive(key) {\n",
              "        const element = document.querySelector('#df-2c5d7604-f6d0-429c-810d-479b67da83ef');\n",
              "        const dataTable =\n",
              "          await google.colab.kernel.invokeFunction('convertToInteractive',\n",
              "                                                    [key], {});\n",
              "        if (!dataTable) return;\n",
              "\n",
              "        const docLinkHtml = 'Like what you see? Visit the ' +\n",
              "          '<a target=\"_blank\" href=https://colab.research.google.com/notebooks/data_table.ipynb>data table notebook</a>'\n",
              "          + ' to learn more about interactive tables.';\n",
              "        element.innerHTML = '';\n",
              "        dataTable['output_type'] = 'display_data';\n",
              "        await google.colab.output.renderOutput(dataTable, element);\n",
              "        const docLink = document.createElement('div');\n",
              "        docLink.innerHTML = docLinkHtml;\n",
              "        element.appendChild(docLink);\n",
              "      }\n",
              "    </script>\n",
              "  </div>\n",
              "\n",
              "\n",
              "<div id=\"df-f05e6020-0aa5-4425-8dda-c1319ff56d82\">\n",
              "  <button class=\"colab-df-quickchart\" onclick=\"quickchart('df-f05e6020-0aa5-4425-8dda-c1319ff56d82')\"\n",
              "            title=\"Suggest charts\"\n",
              "            style=\"display:none;\">\n",
              "\n",
              "<svg xmlns=\"http://www.w3.org/2000/svg\" height=\"24px\"viewBox=\"0 0 24 24\"\n",
              "     width=\"24px\">\n",
              "    <g>\n",
              "        <path d=\"M19 3H5c-1.1 0-2 .9-2 2v14c0 1.1.9 2 2 2h14c1.1 0 2-.9 2-2V5c0-1.1-.9-2-2-2zM9 17H7v-7h2v7zm4 0h-2V7h2v10zm4 0h-2v-4h2v4z\"/>\n",
              "    </g>\n",
              "</svg>\n",
              "  </button>\n",
              "\n",
              "<style>\n",
              "  .colab-df-quickchart {\n",
              "      --bg-color: #E8F0FE;\n",
              "      --fill-color: #1967D2;\n",
              "      --hover-bg-color: #E2EBFA;\n",
              "      --hover-fill-color: #174EA6;\n",
              "      --disabled-fill-color: #AAA;\n",
              "      --disabled-bg-color: #DDD;\n",
              "  }\n",
              "\n",
              "  [theme=dark] .colab-df-quickchart {\n",
              "      --bg-color: #3B4455;\n",
              "      --fill-color: #D2E3FC;\n",
              "      --hover-bg-color: #434B5C;\n",
              "      --hover-fill-color: #FFFFFF;\n",
              "      --disabled-bg-color: #3B4455;\n",
              "      --disabled-fill-color: #666;\n",
              "  }\n",
              "\n",
              "  .colab-df-quickchart {\n",
              "    background-color: var(--bg-color);\n",
              "    border: none;\n",
              "    border-radius: 50%;\n",
              "    cursor: pointer;\n",
              "    display: none;\n",
              "    fill: var(--fill-color);\n",
              "    height: 32px;\n",
              "    padding: 0;\n",
              "    width: 32px;\n",
              "  }\n",
              "\n",
              "  .colab-df-quickchart:hover {\n",
              "    background-color: var(--hover-bg-color);\n",
              "    box-shadow: 0 1px 2px rgba(60, 64, 67, 0.3), 0 1px 3px 1px rgba(60, 64, 67, 0.15);\n",
              "    fill: var(--button-hover-fill-color);\n",
              "  }\n",
              "\n",
              "  .colab-df-quickchart-complete:disabled,\n",
              "  .colab-df-quickchart-complete:disabled:hover {\n",
              "    background-color: var(--disabled-bg-color);\n",
              "    fill: var(--disabled-fill-color);\n",
              "    box-shadow: none;\n",
              "  }\n",
              "\n",
              "  .colab-df-spinner {\n",
              "    border: 2px solid var(--fill-color);\n",
              "    border-color: transparent;\n",
              "    border-bottom-color: var(--fill-color);\n",
              "    animation:\n",
              "      spin 1s steps(1) infinite;\n",
              "  }\n",
              "\n",
              "  @keyframes spin {\n",
              "    0% {\n",
              "      border-color: transparent;\n",
              "      border-bottom-color: var(--fill-color);\n",
              "      border-left-color: var(--fill-color);\n",
              "    }\n",
              "    20% {\n",
              "      border-color: transparent;\n",
              "      border-left-color: var(--fill-color);\n",
              "      border-top-color: var(--fill-color);\n",
              "    }\n",
              "    30% {\n",
              "      border-color: transparent;\n",
              "      border-left-color: var(--fill-color);\n",
              "      border-top-color: var(--fill-color);\n",
              "      border-right-color: var(--fill-color);\n",
              "    }\n",
              "    40% {\n",
              "      border-color: transparent;\n",
              "      border-right-color: var(--fill-color);\n",
              "      border-top-color: var(--fill-color);\n",
              "    }\n",
              "    60% {\n",
              "      border-color: transparent;\n",
              "      border-right-color: var(--fill-color);\n",
              "    }\n",
              "    80% {\n",
              "      border-color: transparent;\n",
              "      border-right-color: var(--fill-color);\n",
              "      border-bottom-color: var(--fill-color);\n",
              "    }\n",
              "    90% {\n",
              "      border-color: transparent;\n",
              "      border-bottom-color: var(--fill-color);\n",
              "    }\n",
              "  }\n",
              "</style>\n",
              "\n",
              "  <script>\n",
              "    async function quickchart(key) {\n",
              "      const quickchartButtonEl =\n",
              "        document.querySelector('#' + key + ' button');\n",
              "      quickchartButtonEl.disabled = true;  // To prevent multiple clicks.\n",
              "      quickchartButtonEl.classList.add('colab-df-spinner');\n",
              "      try {\n",
              "        const charts = await google.colab.kernel.invokeFunction(\n",
              "            'suggestCharts', [key], {});\n",
              "      } catch (error) {\n",
              "        console.error('Error during call to suggestCharts:', error);\n",
              "      }\n",
              "      quickchartButtonEl.classList.remove('colab-df-spinner');\n",
              "      quickchartButtonEl.classList.add('colab-df-quickchart-complete');\n",
              "    }\n",
              "    (() => {\n",
              "      let quickchartButtonEl =\n",
              "        document.querySelector('#df-f05e6020-0aa5-4425-8dda-c1319ff56d82 button');\n",
              "      quickchartButtonEl.style.display =\n",
              "        google.colab.kernel.accessAllowed ? 'block' : 'none';\n",
              "    })();\n",
              "  </script>\n",
              "</div>\n",
              "    </div>\n",
              "  </div>\n"
            ]
          },
          "metadata": {},
          "execution_count": 64
        }
      ]
    },
    {
      "cell_type": "markdown",
      "source": [
        "Explore the dataset using visualizations of your choice."
      ],
      "metadata": {
        "id": "5slwyyhCKRo9"
      }
    },
    {
      "cell_type": "code",
      "source": [
        "# Write your code here. Add as many boxes as you need.\n",
        "df.columns"
      ],
      "metadata": {
        "id": "DFY6TKhGKOY4",
        "colab": {
          "base_uri": "https://localhost:8080/"
        },
        "outputId": "3dbb2942-5b0b-4978-bd02-a01a51575340"
      },
      "execution_count": null,
      "outputs": [
        {
          "output_type": "execute_result",
          "data": {
            "text/plain": [
              "Index(['Age', 'Shape', 'Margin', 'Density', 'Severity'], dtype='object')"
            ]
          },
          "metadata": {},
          "execution_count": 65
        }
      ]
    },
    {
      "cell_type": "code",
      "source": [
        "df.info()"
      ],
      "metadata": {
        "colab": {
          "base_uri": "https://localhost:8080/"
        },
        "id": "9yTC0QseDsaU",
        "outputId": "93777358-c61e-4a7b-bc91-c38868cd8e5b"
      },
      "execution_count": null,
      "outputs": [
        {
          "output_type": "stream",
          "name": "stdout",
          "text": [
            "<class 'pandas.core.frame.DataFrame'>\n",
            "RangeIndex: 961 entries, 0 to 960\n",
            "Data columns (total 5 columns):\n",
            " #   Column    Non-Null Count  Dtype  \n",
            "---  ------    --------------  -----  \n",
            " 0   Age       956 non-null    float64\n",
            " 1   Shape     930 non-null    float64\n",
            " 2   Margin    913 non-null    float64\n",
            " 3   Density   885 non-null    float64\n",
            " 4   Severity  961 non-null    int64  \n",
            "dtypes: float64(4), int64(1)\n",
            "memory usage: 37.7 KB\n"
          ]
        }
      ]
    },
    {
      "cell_type": "code",
      "source": [
        "df.shape\n",
        "df.isnull()"
      ],
      "metadata": {
        "colab": {
          "base_uri": "https://localhost:8080/",
          "height": 423
        },
        "id": "a96jDWrsD13d",
        "outputId": "1fd347f4-ffa5-4fc6-d0f3-c515dcd5947b"
      },
      "execution_count": null,
      "outputs": [
        {
          "output_type": "execute_result",
          "data": {
            "text/plain": [
              "       Age  Shape  Margin  Density  Severity\n",
              "0    False  False   False    False     False\n",
              "1    False  False   False     True     False\n",
              "2    False  False   False    False     False\n",
              "3    False  False   False    False     False\n",
              "4    False  False   False     True     False\n",
              "..     ...    ...     ...      ...       ...\n",
              "956  False  False   False    False     False\n",
              "957  False  False   False    False     False\n",
              "958  False  False   False    False     False\n",
              "959  False  False   False    False     False\n",
              "960  False  False   False    False     False\n",
              "\n",
              "[961 rows x 5 columns]"
            ],
            "text/html": [
              "\n",
              "  <div id=\"df-0c2fdde0-0a57-4908-a4c8-bcd58982e80a\" class=\"colab-df-container\">\n",
              "    <div>\n",
              "<style scoped>\n",
              "    .dataframe tbody tr th:only-of-type {\n",
              "        vertical-align: middle;\n",
              "    }\n",
              "\n",
              "    .dataframe tbody tr th {\n",
              "        vertical-align: top;\n",
              "    }\n",
              "\n",
              "    .dataframe thead th {\n",
              "        text-align: right;\n",
              "    }\n",
              "</style>\n",
              "<table border=\"1\" class=\"dataframe\">\n",
              "  <thead>\n",
              "    <tr style=\"text-align: right;\">\n",
              "      <th></th>\n",
              "      <th>Age</th>\n",
              "      <th>Shape</th>\n",
              "      <th>Margin</th>\n",
              "      <th>Density</th>\n",
              "      <th>Severity</th>\n",
              "    </tr>\n",
              "  </thead>\n",
              "  <tbody>\n",
              "    <tr>\n",
              "      <th>0</th>\n",
              "      <td>False</td>\n",
              "      <td>False</td>\n",
              "      <td>False</td>\n",
              "      <td>False</td>\n",
              "      <td>False</td>\n",
              "    </tr>\n",
              "    <tr>\n",
              "      <th>1</th>\n",
              "      <td>False</td>\n",
              "      <td>False</td>\n",
              "      <td>False</td>\n",
              "      <td>True</td>\n",
              "      <td>False</td>\n",
              "    </tr>\n",
              "    <tr>\n",
              "      <th>2</th>\n",
              "      <td>False</td>\n",
              "      <td>False</td>\n",
              "      <td>False</td>\n",
              "      <td>False</td>\n",
              "      <td>False</td>\n",
              "    </tr>\n",
              "    <tr>\n",
              "      <th>3</th>\n",
              "      <td>False</td>\n",
              "      <td>False</td>\n",
              "      <td>False</td>\n",
              "      <td>False</td>\n",
              "      <td>False</td>\n",
              "    </tr>\n",
              "    <tr>\n",
              "      <th>4</th>\n",
              "      <td>False</td>\n",
              "      <td>False</td>\n",
              "      <td>False</td>\n",
              "      <td>True</td>\n",
              "      <td>False</td>\n",
              "    </tr>\n",
              "    <tr>\n",
              "      <th>...</th>\n",
              "      <td>...</td>\n",
              "      <td>...</td>\n",
              "      <td>...</td>\n",
              "      <td>...</td>\n",
              "      <td>...</td>\n",
              "    </tr>\n",
              "    <tr>\n",
              "      <th>956</th>\n",
              "      <td>False</td>\n",
              "      <td>False</td>\n",
              "      <td>False</td>\n",
              "      <td>False</td>\n",
              "      <td>False</td>\n",
              "    </tr>\n",
              "    <tr>\n",
              "      <th>957</th>\n",
              "      <td>False</td>\n",
              "      <td>False</td>\n",
              "      <td>False</td>\n",
              "      <td>False</td>\n",
              "      <td>False</td>\n",
              "    </tr>\n",
              "    <tr>\n",
              "      <th>958</th>\n",
              "      <td>False</td>\n",
              "      <td>False</td>\n",
              "      <td>False</td>\n",
              "      <td>False</td>\n",
              "      <td>False</td>\n",
              "    </tr>\n",
              "    <tr>\n",
              "      <th>959</th>\n",
              "      <td>False</td>\n",
              "      <td>False</td>\n",
              "      <td>False</td>\n",
              "      <td>False</td>\n",
              "      <td>False</td>\n",
              "    </tr>\n",
              "    <tr>\n",
              "      <th>960</th>\n",
              "      <td>False</td>\n",
              "      <td>False</td>\n",
              "      <td>False</td>\n",
              "      <td>False</td>\n",
              "      <td>False</td>\n",
              "    </tr>\n",
              "  </tbody>\n",
              "</table>\n",
              "<p>961 rows × 5 columns</p>\n",
              "</div>\n",
              "    <div class=\"colab-df-buttons\">\n",
              "\n",
              "  <div class=\"colab-df-container\">\n",
              "    <button class=\"colab-df-convert\" onclick=\"convertToInteractive('df-0c2fdde0-0a57-4908-a4c8-bcd58982e80a')\"\n",
              "            title=\"Convert this dataframe to an interactive table.\"\n",
              "            style=\"display:none;\">\n",
              "\n",
              "  <svg xmlns=\"http://www.w3.org/2000/svg\" height=\"24px\" viewBox=\"0 -960 960 960\">\n",
              "    <path d=\"M120-120v-720h720v720H120Zm60-500h600v-160H180v160Zm220 220h160v-160H400v160Zm0 220h160v-160H400v160ZM180-400h160v-160H180v160Zm440 0h160v-160H620v160ZM180-180h160v-160H180v160Zm440 0h160v-160H620v160Z\"/>\n",
              "  </svg>\n",
              "    </button>\n",
              "\n",
              "  <style>\n",
              "    .colab-df-container {\n",
              "      display:flex;\n",
              "      gap: 12px;\n",
              "    }\n",
              "\n",
              "    .colab-df-convert {\n",
              "      background-color: #E8F0FE;\n",
              "      border: none;\n",
              "      border-radius: 50%;\n",
              "      cursor: pointer;\n",
              "      display: none;\n",
              "      fill: #1967D2;\n",
              "      height: 32px;\n",
              "      padding: 0 0 0 0;\n",
              "      width: 32px;\n",
              "    }\n",
              "\n",
              "    .colab-df-convert:hover {\n",
              "      background-color: #E2EBFA;\n",
              "      box-shadow: 0px 1px 2px rgba(60, 64, 67, 0.3), 0px 1px 3px 1px rgba(60, 64, 67, 0.15);\n",
              "      fill: #174EA6;\n",
              "    }\n",
              "\n",
              "    .colab-df-buttons div {\n",
              "      margin-bottom: 4px;\n",
              "    }\n",
              "\n",
              "    [theme=dark] .colab-df-convert {\n",
              "      background-color: #3B4455;\n",
              "      fill: #D2E3FC;\n",
              "    }\n",
              "\n",
              "    [theme=dark] .colab-df-convert:hover {\n",
              "      background-color: #434B5C;\n",
              "      box-shadow: 0px 1px 3px 1px rgba(0, 0, 0, 0.15);\n",
              "      filter: drop-shadow(0px 1px 2px rgba(0, 0, 0, 0.3));\n",
              "      fill: #FFFFFF;\n",
              "    }\n",
              "  </style>\n",
              "\n",
              "    <script>\n",
              "      const buttonEl =\n",
              "        document.querySelector('#df-0c2fdde0-0a57-4908-a4c8-bcd58982e80a button.colab-df-convert');\n",
              "      buttonEl.style.display =\n",
              "        google.colab.kernel.accessAllowed ? 'block' : 'none';\n",
              "\n",
              "      async function convertToInteractive(key) {\n",
              "        const element = document.querySelector('#df-0c2fdde0-0a57-4908-a4c8-bcd58982e80a');\n",
              "        const dataTable =\n",
              "          await google.colab.kernel.invokeFunction('convertToInteractive',\n",
              "                                                    [key], {});\n",
              "        if (!dataTable) return;\n",
              "\n",
              "        const docLinkHtml = 'Like what you see? Visit the ' +\n",
              "          '<a target=\"_blank\" href=https://colab.research.google.com/notebooks/data_table.ipynb>data table notebook</a>'\n",
              "          + ' to learn more about interactive tables.';\n",
              "        element.innerHTML = '';\n",
              "        dataTable['output_type'] = 'display_data';\n",
              "        await google.colab.output.renderOutput(dataTable, element);\n",
              "        const docLink = document.createElement('div');\n",
              "        docLink.innerHTML = docLinkHtml;\n",
              "        element.appendChild(docLink);\n",
              "      }\n",
              "    </script>\n",
              "  </div>\n",
              "\n",
              "\n",
              "<div id=\"df-3b358947-d8fe-4a00-b5b4-f4d75faba9de\">\n",
              "  <button class=\"colab-df-quickchart\" onclick=\"quickchart('df-3b358947-d8fe-4a00-b5b4-f4d75faba9de')\"\n",
              "            title=\"Suggest charts\"\n",
              "            style=\"display:none;\">\n",
              "\n",
              "<svg xmlns=\"http://www.w3.org/2000/svg\" height=\"24px\"viewBox=\"0 0 24 24\"\n",
              "     width=\"24px\">\n",
              "    <g>\n",
              "        <path d=\"M19 3H5c-1.1 0-2 .9-2 2v14c0 1.1.9 2 2 2h14c1.1 0 2-.9 2-2V5c0-1.1-.9-2-2-2zM9 17H7v-7h2v7zm4 0h-2V7h2v10zm4 0h-2v-4h2v4z\"/>\n",
              "    </g>\n",
              "</svg>\n",
              "  </button>\n",
              "\n",
              "<style>\n",
              "  .colab-df-quickchart {\n",
              "      --bg-color: #E8F0FE;\n",
              "      --fill-color: #1967D2;\n",
              "      --hover-bg-color: #E2EBFA;\n",
              "      --hover-fill-color: #174EA6;\n",
              "      --disabled-fill-color: #AAA;\n",
              "      --disabled-bg-color: #DDD;\n",
              "  }\n",
              "\n",
              "  [theme=dark] .colab-df-quickchart {\n",
              "      --bg-color: #3B4455;\n",
              "      --fill-color: #D2E3FC;\n",
              "      --hover-bg-color: #434B5C;\n",
              "      --hover-fill-color: #FFFFFF;\n",
              "      --disabled-bg-color: #3B4455;\n",
              "      --disabled-fill-color: #666;\n",
              "  }\n",
              "\n",
              "  .colab-df-quickchart {\n",
              "    background-color: var(--bg-color);\n",
              "    border: none;\n",
              "    border-radius: 50%;\n",
              "    cursor: pointer;\n",
              "    display: none;\n",
              "    fill: var(--fill-color);\n",
              "    height: 32px;\n",
              "    padding: 0;\n",
              "    width: 32px;\n",
              "  }\n",
              "\n",
              "  .colab-df-quickchart:hover {\n",
              "    background-color: var(--hover-bg-color);\n",
              "    box-shadow: 0 1px 2px rgba(60, 64, 67, 0.3), 0 1px 3px 1px rgba(60, 64, 67, 0.15);\n",
              "    fill: var(--button-hover-fill-color);\n",
              "  }\n",
              "\n",
              "  .colab-df-quickchart-complete:disabled,\n",
              "  .colab-df-quickchart-complete:disabled:hover {\n",
              "    background-color: var(--disabled-bg-color);\n",
              "    fill: var(--disabled-fill-color);\n",
              "    box-shadow: none;\n",
              "  }\n",
              "\n",
              "  .colab-df-spinner {\n",
              "    border: 2px solid var(--fill-color);\n",
              "    border-color: transparent;\n",
              "    border-bottom-color: var(--fill-color);\n",
              "    animation:\n",
              "      spin 1s steps(1) infinite;\n",
              "  }\n",
              "\n",
              "  @keyframes spin {\n",
              "    0% {\n",
              "      border-color: transparent;\n",
              "      border-bottom-color: var(--fill-color);\n",
              "      border-left-color: var(--fill-color);\n",
              "    }\n",
              "    20% {\n",
              "      border-color: transparent;\n",
              "      border-left-color: var(--fill-color);\n",
              "      border-top-color: var(--fill-color);\n",
              "    }\n",
              "    30% {\n",
              "      border-color: transparent;\n",
              "      border-left-color: var(--fill-color);\n",
              "      border-top-color: var(--fill-color);\n",
              "      border-right-color: var(--fill-color);\n",
              "    }\n",
              "    40% {\n",
              "      border-color: transparent;\n",
              "      border-right-color: var(--fill-color);\n",
              "      border-top-color: var(--fill-color);\n",
              "    }\n",
              "    60% {\n",
              "      border-color: transparent;\n",
              "      border-right-color: var(--fill-color);\n",
              "    }\n",
              "    80% {\n",
              "      border-color: transparent;\n",
              "      border-right-color: var(--fill-color);\n",
              "      border-bottom-color: var(--fill-color);\n",
              "    }\n",
              "    90% {\n",
              "      border-color: transparent;\n",
              "      border-bottom-color: var(--fill-color);\n",
              "    }\n",
              "  }\n",
              "</style>\n",
              "\n",
              "  <script>\n",
              "    async function quickchart(key) {\n",
              "      const quickchartButtonEl =\n",
              "        document.querySelector('#' + key + ' button');\n",
              "      quickchartButtonEl.disabled = true;  // To prevent multiple clicks.\n",
              "      quickchartButtonEl.classList.add('colab-df-spinner');\n",
              "      try {\n",
              "        const charts = await google.colab.kernel.invokeFunction(\n",
              "            'suggestCharts', [key], {});\n",
              "      } catch (error) {\n",
              "        console.error('Error during call to suggestCharts:', error);\n",
              "      }\n",
              "      quickchartButtonEl.classList.remove('colab-df-spinner');\n",
              "      quickchartButtonEl.classList.add('colab-df-quickchart-complete');\n",
              "    }\n",
              "    (() => {\n",
              "      let quickchartButtonEl =\n",
              "        document.querySelector('#df-3b358947-d8fe-4a00-b5b4-f4d75faba9de button');\n",
              "      quickchartButtonEl.style.display =\n",
              "        google.colab.kernel.accessAllowed ? 'block' : 'none';\n",
              "    })();\n",
              "  </script>\n",
              "</div>\n",
              "    </div>\n",
              "  </div>\n"
            ]
          },
          "metadata": {},
          "execution_count": 67
        }
      ]
    },
    {
      "cell_type": "markdown",
      "source": [
        "Check if the dataset is balanced."
      ],
      "metadata": {
        "id": "aHu0QDOtM-mK"
      }
    },
    {
      "cell_type": "code",
      "source": [
        "# Write your code here. Add as many boxes as you need.\n",
        "\n",
        "class_counts = df['Severity'].value_counts()\n",
        "min_count = class_counts.min()\n",
        "max_count = class_counts.max()\n",
        "range_counts = max_count - min_count\n",
        "std_deviation = class_counts.std()"
      ],
      "metadata": {
        "id": "y-gl5hyJM_vG"
      },
      "execution_count": null,
      "outputs": []
    },
    {
      "cell_type": "code",
      "source": [
        "class_counts"
      ],
      "metadata": {
        "colab": {
          "base_uri": "https://localhost:8080/"
        },
        "id": "e5rqeY--E2hx",
        "outputId": "c49fc954-0241-4a1e-ad9a-f8bf420ee33f"
      },
      "execution_count": null,
      "outputs": [
        {
          "output_type": "execute_result",
          "data": {
            "text/plain": [
              "0    516\n",
              "1    445\n",
              "Name: Severity, dtype: int64"
            ]
          },
          "metadata": {},
          "execution_count": 69
        }
      ]
    },
    {
      "cell_type": "code",
      "source": [
        "min_count"
      ],
      "metadata": {
        "colab": {
          "base_uri": "https://localhost:8080/"
        },
        "id": "eG-PskRLE2nn",
        "outputId": "62e6522a-9dbc-41ec-8f41-0d190970f0af"
      },
      "execution_count": null,
      "outputs": [
        {
          "output_type": "execute_result",
          "data": {
            "text/plain": [
              "445"
            ]
          },
          "metadata": {},
          "execution_count": 70
        }
      ]
    },
    {
      "cell_type": "code",
      "source": [
        "max_count"
      ],
      "metadata": {
        "colab": {
          "base_uri": "https://localhost:8080/"
        },
        "id": "BWMzR9AQE2ve",
        "outputId": "a468aa6e-fcff-44b9-f5a4-84511bc10ac7"
      },
      "execution_count": null,
      "outputs": [
        {
          "output_type": "execute_result",
          "data": {
            "text/plain": [
              "516"
            ]
          },
          "metadata": {},
          "execution_count": 71
        }
      ]
    },
    {
      "cell_type": "code",
      "source": [
        "range_counts"
      ],
      "metadata": {
        "colab": {
          "base_uri": "https://localhost:8080/"
        },
        "id": "PnU6oHCqE23S",
        "outputId": "8ffdbd2f-22e2-403f-e6f2-3f9935779bfc"
      },
      "execution_count": null,
      "outputs": [
        {
          "output_type": "execute_result",
          "data": {
            "text/plain": [
              "71"
            ]
          },
          "metadata": {},
          "execution_count": 72
        }
      ]
    },
    {
      "cell_type": "code",
      "source": [
        "std_deviation"
      ],
      "metadata": {
        "colab": {
          "base_uri": "https://localhost:8080/"
        },
        "id": "bDBTYQ5uFCEl",
        "outputId": "a7d2c5ff-72a5-45ce-ee76-4a33a5c815e5"
      },
      "execution_count": null,
      "outputs": [
        {
          "output_type": "execute_result",
          "data": {
            "text/plain": [
              "50.204581464244875"
            ]
          },
          "metadata": {},
          "execution_count": 73
        }
      ]
    },
    {
      "cell_type": "code",
      "source": [
        "class_counts = df['Density'].value_counts()\n",
        "min_count = class_counts.min()\n",
        "max_count = class_counts.max()\n",
        "range_counts = max_count - min_count\n",
        "std_deviation = class_counts.std()"
      ],
      "metadata": {
        "id": "T_f9XoV7F5Un"
      },
      "execution_count": null,
      "outputs": []
    },
    {
      "cell_type": "code",
      "source": [
        "class_counts"
      ],
      "metadata": {
        "colab": {
          "base_uri": "https://localhost:8080/"
        },
        "id": "t3RpLUd0F_xP",
        "outputId": "0aa278ec-c89a-4635-b639-eda8a0150167"
      },
      "execution_count": null,
      "outputs": [
        {
          "output_type": "execute_result",
          "data": {
            "text/plain": [
              "3.0    798\n",
              "2.0     59\n",
              "1.0     16\n",
              "4.0     12\n",
              "Name: Density, dtype: int64"
            ]
          },
          "metadata": {},
          "execution_count": 75
        }
      ]
    },
    {
      "cell_type": "code",
      "source": [
        "min_count"
      ],
      "metadata": {
        "colab": {
          "base_uri": "https://localhost:8080/"
        },
        "id": "6lgjae9FF_2P",
        "outputId": "f81f92be-5ed1-426f-8eeb-a9ff3b261f49"
      },
      "execution_count": null,
      "outputs": [
        {
          "output_type": "execute_result",
          "data": {
            "text/plain": [
              "12"
            ]
          },
          "metadata": {},
          "execution_count": 76
        }
      ]
    },
    {
      "cell_type": "code",
      "source": [
        "max_count"
      ],
      "metadata": {
        "colab": {
          "base_uri": "https://localhost:8080/"
        },
        "id": "41h2vnOxF_7b",
        "outputId": "b3b9f08d-b7e1-4998-8f86-04f87fb4fcd4"
      },
      "execution_count": null,
      "outputs": [
        {
          "output_type": "execute_result",
          "data": {
            "text/plain": [
              "798"
            ]
          },
          "metadata": {},
          "execution_count": 77
        }
      ]
    },
    {
      "cell_type": "code",
      "source": [
        "range_counts"
      ],
      "metadata": {
        "colab": {
          "base_uri": "https://localhost:8080/"
        },
        "id": "JkQaLBzrF___",
        "outputId": "e996726e-f81b-4f1f-a8a8-b6f658fbf936"
      },
      "execution_count": null,
      "outputs": [
        {
          "output_type": "execute_result",
          "data": {
            "text/plain": [
              "786"
            ]
          },
          "metadata": {},
          "execution_count": 78
        }
      ]
    },
    {
      "cell_type": "code",
      "source": [
        "std_deviation"
      ],
      "metadata": {
        "colab": {
          "base_uri": "https://localhost:8080/"
        },
        "id": "7XC0KDIXGAGl",
        "outputId": "54dbf28e-23e3-4922-c70a-180744d7ca77"
      },
      "execution_count": null,
      "outputs": [
        {
          "output_type": "execute_result",
          "data": {
            "text/plain": [
              "385.08819336181506"
            ]
          },
          "metadata": {},
          "execution_count": 79
        }
      ]
    },
    {
      "cell_type": "code",
      "source": [
        "class_counts = df['Age'].value_counts()\n",
        "min_count = class_counts.min()\n",
        "max_count = class_counts.max()\n",
        "range_counts = max_count - min_count\n",
        "std_deviation = class_counts.std()"
      ],
      "metadata": {
        "id": "12OAENQcPEWD"
      },
      "execution_count": null,
      "outputs": []
    },
    {
      "cell_type": "code",
      "source": [
        "class_counts"
      ],
      "metadata": {
        "colab": {
          "base_uri": "https://localhost:8080/"
        },
        "id": "_PinCjViPEQi",
        "outputId": "12e95f5c-89ce-46de-a0f7-2fb5a7e6d6f8"
      },
      "execution_count": null,
      "outputs": [
        {
          "output_type": "execute_result",
          "data": {
            "text/plain": [
              "59.0    36\n",
              "67.0    32\n",
              "57.0    32\n",
              "66.0    31\n",
              "46.0    28\n",
              "        ..\n",
              "18.0     1\n",
              "82.0     1\n",
              "93.0     1\n",
              "96.0     1\n",
              "20.0     1\n",
              "Name: Age, Length: 73, dtype: int64"
            ]
          },
          "metadata": {},
          "execution_count": 147
        }
      ]
    },
    {
      "cell_type": "code",
      "source": [
        "class_counts = df['Shape'].value_counts()\n",
        "min_count = class_counts.min()\n",
        "max_count = class_counts.max()\n",
        "range_counts = max_count - min_count\n",
        "std_deviation = class_counts.std()"
      ],
      "metadata": {
        "id": "zH-AKSZ2PENa"
      },
      "execution_count": null,
      "outputs": []
    },
    {
      "cell_type": "code",
      "source": [
        "class_counts"
      ],
      "metadata": {
        "colab": {
          "base_uri": "https://localhost:8080/"
        },
        "id": "PX_1LFyhPEGn",
        "outputId": "20a9295c-ed8d-454b-fe8f-a34838629bb3"
      },
      "execution_count": null,
      "outputs": [
        {
          "output_type": "execute_result",
          "data": {
            "text/plain": [
              "4.0    400\n",
              "1.0    224\n",
              "2.0    211\n",
              "3.0     95\n",
              "Name: Shape, dtype: int64"
            ]
          },
          "metadata": {},
          "execution_count": 149
        }
      ]
    },
    {
      "cell_type": "code",
      "source": [
        "class_counts = df['Margin'].value_counts()\n",
        "min_count = class_counts.min()\n",
        "max_count = class_counts.max()\n",
        "range_counts = max_count - min_count\n",
        "std_deviation = class_counts.std()"
      ],
      "metadata": {
        "id": "4IAQx77ZPRTa"
      },
      "execution_count": null,
      "outputs": []
    },
    {
      "cell_type": "code",
      "source": [
        "class_counts"
      ],
      "metadata": {
        "colab": {
          "base_uri": "https://localhost:8080/"
        },
        "id": "HYZTprfvPT1N",
        "outputId": "70bf32e5-33f7-400c-ea14-abeb9073a067"
      },
      "execution_count": null,
      "outputs": [
        {
          "output_type": "execute_result",
          "data": {
            "text/plain": [
              "1.0    357\n",
              "4.0    280\n",
              "5.0    136\n",
              "3.0    116\n",
              "2.0     24\n",
              "Name: Margin, dtype: int64"
            ]
          },
          "metadata": {},
          "execution_count": 151
        }
      ]
    },
    {
      "cell_type": "markdown",
      "source": [
        "## Detecting Missing Values\n",
        "Calculate the percentage of missing values present in each column of the dataset."
      ],
      "metadata": {
        "id": "KwGjJs4rLi0P"
      }
    },
    {
      "cell_type": "code",
      "source": [
        "# Write your code here. Add as many boxes as you need.\n",
        "\n",
        "missing_value_count = df.isnull().sum()\n",
        "missing_value_count"
      ],
      "metadata": {
        "id": "L1l_JV-nL3ND",
        "colab": {
          "base_uri": "https://localhost:8080/"
        },
        "outputId": "a7fc3a90-8045-4077-d8f6-a9e86c9f7fc7"
      },
      "execution_count": null,
      "outputs": [
        {
          "output_type": "execute_result",
          "data": {
            "text/plain": [
              "Age          5\n",
              "Shape       31\n",
              "Margin      48\n",
              "Density     76\n",
              "Severity     0\n",
              "dtype: int64"
            ]
          },
          "metadata": {},
          "execution_count": 80
        }
      ]
    },
    {
      "cell_type": "code",
      "source": [
        "missing_value_percentage = 100*missing_value_count / len(df)\n",
        "missing_value_percentage"
      ],
      "metadata": {
        "colab": {
          "base_uri": "https://localhost:8080/"
        },
        "id": "Wk89YTkUFQ_C",
        "outputId": "bcd306aa-2660-4f0d-bbd2-27b5cebdadd0"
      },
      "execution_count": null,
      "outputs": [
        {
          "output_type": "execute_result",
          "data": {
            "text/plain": [
              "Age         0.520291\n",
              "Shape       3.225806\n",
              "Margin      4.994797\n",
              "Density     7.908429\n",
              "Severity    0.000000\n",
              "dtype: float64"
            ]
          },
          "metadata": {},
          "execution_count": 81
        }
      ]
    },
    {
      "cell_type": "code",
      "source": [
        "missing = pd.concat([missing_value_count, missing_value_percentage], axis=1)\n",
        "missing.columns = ['# of missing values', '% of missing values']\n",
        "missing"
      ],
      "metadata": {
        "colab": {
          "base_uri": "https://localhost:8080/",
          "height": 206
        },
        "id": "bFA_uNWsFT0E",
        "outputId": "be3f578b-25b8-416e-f4fc-1305f629f062"
      },
      "execution_count": null,
      "outputs": [
        {
          "output_type": "execute_result",
          "data": {
            "text/plain": [
              "          # of missing values  % of missing values\n",
              "Age                         5             0.520291\n",
              "Shape                      31             3.225806\n",
              "Margin                     48             4.994797\n",
              "Density                    76             7.908429\n",
              "Severity                    0             0.000000"
            ],
            "text/html": [
              "\n",
              "  <div id=\"df-b6af366b-80f6-428a-a424-7c501e513a8a\" class=\"colab-df-container\">\n",
              "    <div>\n",
              "<style scoped>\n",
              "    .dataframe tbody tr th:only-of-type {\n",
              "        vertical-align: middle;\n",
              "    }\n",
              "\n",
              "    .dataframe tbody tr th {\n",
              "        vertical-align: top;\n",
              "    }\n",
              "\n",
              "    .dataframe thead th {\n",
              "        text-align: right;\n",
              "    }\n",
              "</style>\n",
              "<table border=\"1\" class=\"dataframe\">\n",
              "  <thead>\n",
              "    <tr style=\"text-align: right;\">\n",
              "      <th></th>\n",
              "      <th># of missing values</th>\n",
              "      <th>% of missing values</th>\n",
              "    </tr>\n",
              "  </thead>\n",
              "  <tbody>\n",
              "    <tr>\n",
              "      <th>Age</th>\n",
              "      <td>5</td>\n",
              "      <td>0.520291</td>\n",
              "    </tr>\n",
              "    <tr>\n",
              "      <th>Shape</th>\n",
              "      <td>31</td>\n",
              "      <td>3.225806</td>\n",
              "    </tr>\n",
              "    <tr>\n",
              "      <th>Margin</th>\n",
              "      <td>48</td>\n",
              "      <td>4.994797</td>\n",
              "    </tr>\n",
              "    <tr>\n",
              "      <th>Density</th>\n",
              "      <td>76</td>\n",
              "      <td>7.908429</td>\n",
              "    </tr>\n",
              "    <tr>\n",
              "      <th>Severity</th>\n",
              "      <td>0</td>\n",
              "      <td>0.000000</td>\n",
              "    </tr>\n",
              "  </tbody>\n",
              "</table>\n",
              "</div>\n",
              "    <div class=\"colab-df-buttons\">\n",
              "\n",
              "  <div class=\"colab-df-container\">\n",
              "    <button class=\"colab-df-convert\" onclick=\"convertToInteractive('df-b6af366b-80f6-428a-a424-7c501e513a8a')\"\n",
              "            title=\"Convert this dataframe to an interactive table.\"\n",
              "            style=\"display:none;\">\n",
              "\n",
              "  <svg xmlns=\"http://www.w3.org/2000/svg\" height=\"24px\" viewBox=\"0 -960 960 960\">\n",
              "    <path d=\"M120-120v-720h720v720H120Zm60-500h600v-160H180v160Zm220 220h160v-160H400v160Zm0 220h160v-160H400v160ZM180-400h160v-160H180v160Zm440 0h160v-160H620v160ZM180-180h160v-160H180v160Zm440 0h160v-160H620v160Z\"/>\n",
              "  </svg>\n",
              "    </button>\n",
              "\n",
              "  <style>\n",
              "    .colab-df-container {\n",
              "      display:flex;\n",
              "      gap: 12px;\n",
              "    }\n",
              "\n",
              "    .colab-df-convert {\n",
              "      background-color: #E8F0FE;\n",
              "      border: none;\n",
              "      border-radius: 50%;\n",
              "      cursor: pointer;\n",
              "      display: none;\n",
              "      fill: #1967D2;\n",
              "      height: 32px;\n",
              "      padding: 0 0 0 0;\n",
              "      width: 32px;\n",
              "    }\n",
              "\n",
              "    .colab-df-convert:hover {\n",
              "      background-color: #E2EBFA;\n",
              "      box-shadow: 0px 1px 2px rgba(60, 64, 67, 0.3), 0px 1px 3px 1px rgba(60, 64, 67, 0.15);\n",
              "      fill: #174EA6;\n",
              "    }\n",
              "\n",
              "    .colab-df-buttons div {\n",
              "      margin-bottom: 4px;\n",
              "    }\n",
              "\n",
              "    [theme=dark] .colab-df-convert {\n",
              "      background-color: #3B4455;\n",
              "      fill: #D2E3FC;\n",
              "    }\n",
              "\n",
              "    [theme=dark] .colab-df-convert:hover {\n",
              "      background-color: #434B5C;\n",
              "      box-shadow: 0px 1px 3px 1px rgba(0, 0, 0, 0.15);\n",
              "      filter: drop-shadow(0px 1px 2px rgba(0, 0, 0, 0.3));\n",
              "      fill: #FFFFFF;\n",
              "    }\n",
              "  </style>\n",
              "\n",
              "    <script>\n",
              "      const buttonEl =\n",
              "        document.querySelector('#df-b6af366b-80f6-428a-a424-7c501e513a8a button.colab-df-convert');\n",
              "      buttonEl.style.display =\n",
              "        google.colab.kernel.accessAllowed ? 'block' : 'none';\n",
              "\n",
              "      async function convertToInteractive(key) {\n",
              "        const element = document.querySelector('#df-b6af366b-80f6-428a-a424-7c501e513a8a');\n",
              "        const dataTable =\n",
              "          await google.colab.kernel.invokeFunction('convertToInteractive',\n",
              "                                                    [key], {});\n",
              "        if (!dataTable) return;\n",
              "\n",
              "        const docLinkHtml = 'Like what you see? Visit the ' +\n",
              "          '<a target=\"_blank\" href=https://colab.research.google.com/notebooks/data_table.ipynb>data table notebook</a>'\n",
              "          + ' to learn more about interactive tables.';\n",
              "        element.innerHTML = '';\n",
              "        dataTable['output_type'] = 'display_data';\n",
              "        await google.colab.output.renderOutput(dataTable, element);\n",
              "        const docLink = document.createElement('div');\n",
              "        docLink.innerHTML = docLinkHtml;\n",
              "        element.appendChild(docLink);\n",
              "      }\n",
              "    </script>\n",
              "  </div>\n",
              "\n",
              "\n",
              "<div id=\"df-b514406b-3693-4664-996d-4e41e4c27d7d\">\n",
              "  <button class=\"colab-df-quickchart\" onclick=\"quickchart('df-b514406b-3693-4664-996d-4e41e4c27d7d')\"\n",
              "            title=\"Suggest charts\"\n",
              "            style=\"display:none;\">\n",
              "\n",
              "<svg xmlns=\"http://www.w3.org/2000/svg\" height=\"24px\"viewBox=\"0 0 24 24\"\n",
              "     width=\"24px\">\n",
              "    <g>\n",
              "        <path d=\"M19 3H5c-1.1 0-2 .9-2 2v14c0 1.1.9 2 2 2h14c1.1 0 2-.9 2-2V5c0-1.1-.9-2-2-2zM9 17H7v-7h2v7zm4 0h-2V7h2v10zm4 0h-2v-4h2v4z\"/>\n",
              "    </g>\n",
              "</svg>\n",
              "  </button>\n",
              "\n",
              "<style>\n",
              "  .colab-df-quickchart {\n",
              "      --bg-color: #E8F0FE;\n",
              "      --fill-color: #1967D2;\n",
              "      --hover-bg-color: #E2EBFA;\n",
              "      --hover-fill-color: #174EA6;\n",
              "      --disabled-fill-color: #AAA;\n",
              "      --disabled-bg-color: #DDD;\n",
              "  }\n",
              "\n",
              "  [theme=dark] .colab-df-quickchart {\n",
              "      --bg-color: #3B4455;\n",
              "      --fill-color: #D2E3FC;\n",
              "      --hover-bg-color: #434B5C;\n",
              "      --hover-fill-color: #FFFFFF;\n",
              "      --disabled-bg-color: #3B4455;\n",
              "      --disabled-fill-color: #666;\n",
              "  }\n",
              "\n",
              "  .colab-df-quickchart {\n",
              "    background-color: var(--bg-color);\n",
              "    border: none;\n",
              "    border-radius: 50%;\n",
              "    cursor: pointer;\n",
              "    display: none;\n",
              "    fill: var(--fill-color);\n",
              "    height: 32px;\n",
              "    padding: 0;\n",
              "    width: 32px;\n",
              "  }\n",
              "\n",
              "  .colab-df-quickchart:hover {\n",
              "    background-color: var(--hover-bg-color);\n",
              "    box-shadow: 0 1px 2px rgba(60, 64, 67, 0.3), 0 1px 3px 1px rgba(60, 64, 67, 0.15);\n",
              "    fill: var(--button-hover-fill-color);\n",
              "  }\n",
              "\n",
              "  .colab-df-quickchart-complete:disabled,\n",
              "  .colab-df-quickchart-complete:disabled:hover {\n",
              "    background-color: var(--disabled-bg-color);\n",
              "    fill: var(--disabled-fill-color);\n",
              "    box-shadow: none;\n",
              "  }\n",
              "\n",
              "  .colab-df-spinner {\n",
              "    border: 2px solid var(--fill-color);\n",
              "    border-color: transparent;\n",
              "    border-bottom-color: var(--fill-color);\n",
              "    animation:\n",
              "      spin 1s steps(1) infinite;\n",
              "  }\n",
              "\n",
              "  @keyframes spin {\n",
              "    0% {\n",
              "      border-color: transparent;\n",
              "      border-bottom-color: var(--fill-color);\n",
              "      border-left-color: var(--fill-color);\n",
              "    }\n",
              "    20% {\n",
              "      border-color: transparent;\n",
              "      border-left-color: var(--fill-color);\n",
              "      border-top-color: var(--fill-color);\n",
              "    }\n",
              "    30% {\n",
              "      border-color: transparent;\n",
              "      border-left-color: var(--fill-color);\n",
              "      border-top-color: var(--fill-color);\n",
              "      border-right-color: var(--fill-color);\n",
              "    }\n",
              "    40% {\n",
              "      border-color: transparent;\n",
              "      border-right-color: var(--fill-color);\n",
              "      border-top-color: var(--fill-color);\n",
              "    }\n",
              "    60% {\n",
              "      border-color: transparent;\n",
              "      border-right-color: var(--fill-color);\n",
              "    }\n",
              "    80% {\n",
              "      border-color: transparent;\n",
              "      border-right-color: var(--fill-color);\n",
              "      border-bottom-color: var(--fill-color);\n",
              "    }\n",
              "    90% {\n",
              "      border-color: transparent;\n",
              "      border-bottom-color: var(--fill-color);\n",
              "    }\n",
              "  }\n",
              "</style>\n",
              "\n",
              "  <script>\n",
              "    async function quickchart(key) {\n",
              "      const quickchartButtonEl =\n",
              "        document.querySelector('#' + key + ' button');\n",
              "      quickchartButtonEl.disabled = true;  // To prevent multiple clicks.\n",
              "      quickchartButtonEl.classList.add('colab-df-spinner');\n",
              "      try {\n",
              "        const charts = await google.colab.kernel.invokeFunction(\n",
              "            'suggestCharts', [key], {});\n",
              "      } catch (error) {\n",
              "        console.error('Error during call to suggestCharts:', error);\n",
              "      }\n",
              "      quickchartButtonEl.classList.remove('colab-df-spinner');\n",
              "      quickchartButtonEl.classList.add('colab-df-quickchart-complete');\n",
              "    }\n",
              "    (() => {\n",
              "      let quickchartButtonEl =\n",
              "        document.querySelector('#df-b514406b-3693-4664-996d-4e41e4c27d7d button');\n",
              "      quickchartButtonEl.style.display =\n",
              "        google.colab.kernel.accessAllowed ? 'block' : 'none';\n",
              "    })();\n",
              "  </script>\n",
              "</div>\n",
              "    </div>\n",
              "  </div>\n"
            ]
          },
          "metadata": {},
          "execution_count": 82
        }
      ]
    },
    {
      "cell_type": "markdown",
      "source": [
        "## Understanding the Causes Behind Missing Values\n",
        "Using visualization tools such as heatmaps, and dendrograms, illustrate the interdependence between attributes with missing values. Also, visualize the distribution of the missing values within the dataset using matrices and bar charts. To achieve this use the `missingno` library."
      ],
      "metadata": {
        "id": "_5n7SWKfL46j"
      }
    },
    {
      "cell_type": "code",
      "source": [
        "# Write your code here. Add as many boxes as you need.\n",
        "msno.bar(df)"
      ],
      "metadata": {
        "id": "Wa7uzbI5L4kL",
        "colab": {
          "base_uri": "https://localhost:8080/",
          "height": 676
        },
        "outputId": "d4ccee44-5e1a-4a9f-9dc6-29d014a5c35f"
      },
      "execution_count": null,
      "outputs": [
        {
          "output_type": "execute_result",
          "data": {
            "text/plain": [
              "<Axes: >"
            ]
          },
          "metadata": {},
          "execution_count": 83
        },
        {
          "output_type": "display_data",
          "data": {
            "text/plain": [
              "<Figure size 2500x1000 with 3 Axes>"
            ],
            "image/png": "[encoded data removed]"
          },
          "metadata": {}
        }
      ]
    },
    {
      "cell_type": "code",
      "source": [
        "msno.matrix(df)"
      ],
      "metadata": {
        "colab": {
          "base_uri": "https://localhost:8080/",
          "height": 657
        },
        "id": "IlWhFGmbFdIE",
        "outputId": "a598d504-ad1e-4b89-f930-9577c505856c"
      },
      "execution_count": null,
      "outputs": [
        {
          "output_type": "execute_result",
          "data": {
            "text/plain": [
              "<Axes: >"
            ]
          },
          "metadata": {},
          "execution_count": 84
        },
        {
          "output_type": "display_data",
          "data": {
            "text/plain": [
              "<Figure size 2500x1000 with 2 Axes>"
            ],
            "image/png": "[encoded data removed]"
          },
          "metadata": {}
        }
      ]
    },
    {
      "cell_type": "code",
      "source": [
        "msno.heatmap(df)"
      ],
      "metadata": {
        "colab": {
          "base_uri": "https://localhost:8080/",
          "height": 989
        },
        "id": "5pfvdBHuFdKr",
        "outputId": "02c152e3-66e3-4fde-9540-185ae96a1be0"
      },
      "execution_count": null,
      "outputs": [
        {
          "output_type": "execute_result",
          "data": {
            "text/plain": [
              "<Axes: >"
            ]
          },
          "metadata": {},
          "execution_count": 85
        },
        {
          "output_type": "display_data",
          "data": {
            "text/plain": [
              "<Figure size 2000x1200 with 2 Axes>"
            ],
            "image/png": "[encoded data removed]"
          },
          "metadata": {}
        }
      ]
    },
    {
      "cell_type": "code",
      "source": [
        "msno.dendrogram(df)"
      ],
      "metadata": {
        "colab": {
          "base_uri": "https://localhost:8080/",
          "height": 660
        },
        "id": "2zSmNnmCFdPo",
        "outputId": "53adef8c-c151-4fdc-ddaf-fa6839972603"
      },
      "execution_count": null,
      "outputs": [
        {
          "output_type": "execute_result",
          "data": {
            "text/plain": [
              "<Axes: >"
            ]
          },
          "metadata": {},
          "execution_count": 86
        },
        {
          "output_type": "display_data",
          "data": {
            "text/plain": [
              "<Figure size 2500x1000 with 1 Axes>"
            ],
            "image/png": "[encoded data removed]"
          },
          "metadata": {}
        }
      ]
    },
    {
      "cell_type": "code",
      "source": [],
      "metadata": {
        "id": "MFEWBfWZFdTd"
      },
      "execution_count": null,
      "outputs": []
    },
    {
      "cell_type": "markdown",
      "source": [
        "## Handling the Missing Values\n",
        "Handle the missing values using suitable method based on the insights obtained from the various visualizations."
      ],
      "metadata": {
        "id": "99Gjo6KhMKqt"
      }
    },
    {
      "cell_type": "code",
      "source": [
        "# Write your code here. Add as many boxes as you need.\n",
        "df_copy = df.copy()\n",
        "df_copy.isnull().sum()"
      ],
      "metadata": {
        "id": "urmTiMn2MKgV",
        "colab": {
          "base_uri": "https://localhost:8080/"
        },
        "outputId": "af4b7446-b277-4072-b02f-a0714dc6d0f8"
      },
      "execution_count": null,
      "outputs": [
        {
          "output_type": "execute_result",
          "data": {
            "text/plain": [
              "Age          5\n",
              "Shape       31\n",
              "Margin      48\n",
              "Density     76\n",
              "Severity     0\n",
              "dtype: int64"
            ]
          },
          "metadata": {},
          "execution_count": 102
        }
      ]
    },
    {
      "cell_type": "code",
      "source": [
        "df_copy['Density']"
      ],
      "metadata": {
        "colab": {
          "base_uri": "https://localhost:8080/"
        },
        "id": "FzKPUfPPJ_1Z",
        "outputId": "77f062fb-6ec4-4b91-e6cd-617d231110a2"
      },
      "execution_count": null,
      "outputs": [
        {
          "output_type": "execute_result",
          "data": {
            "text/plain": [
              "0      3.0\n",
              "1      NaN\n",
              "2      3.0\n",
              "3      3.0\n",
              "4      NaN\n",
              "      ... \n",
              "956    3.0\n",
              "957    3.0\n",
              "958    3.0\n",
              "959    3.0\n",
              "960    3.0\n",
              "Name: Density, Length: 961, dtype: float64"
            ]
          },
          "metadata": {},
          "execution_count": 103
        }
      ]
    },
    {
      "cell_type": "code",
      "source": [
        "df_copy = df.copy()\n",
        "imputer = SimpleImputer(strategy='most_frequent')\n",
        "df_copy['Density'].to_numpy().reshape(-1, 1)\n",
        "df_copy['Density'] = imputer.fit_transform(df_copy['Density'].to_numpy().reshape(-1, 1))\n",
        "df_copy['Density'].isnull().sum()"
      ],
      "metadata": {
        "colab": {
          "base_uri": "https://localhost:8080/"
        },
        "id": "shCy2zdcGZc2",
        "outputId": "2390fa35-0226-44d4-b3e6-a8a1175a59c9"
      },
      "execution_count": null,
      "outputs": [
        {
          "output_type": "execute_result",
          "data": {
            "text/plain": [
              "0"
            ]
          },
          "metadata": {},
          "execution_count": 108
        }
      ]
    },
    {
      "cell_type": "code",
      "source": [
        "df_copy['Density']"
      ],
      "metadata": {
        "colab": {
          "base_uri": "https://localhost:8080/"
        },
        "id": "WXNvycGsLU5H",
        "outputId": "044d7441-d2ba-4adf-82ef-05bdb82985d1"
      },
      "execution_count": null,
      "outputs": [
        {
          "output_type": "execute_result",
          "data": {
            "text/plain": [
              "0      3.0\n",
              "1      3.0\n",
              "2      3.0\n",
              "3      3.0\n",
              "4      3.0\n",
              "      ... \n",
              "956    3.0\n",
              "957    3.0\n",
              "958    3.0\n",
              "959    3.0\n",
              "960    3.0\n",
              "Name: Density, Length: 961, dtype: float64"
            ]
          },
          "metadata": {},
          "execution_count": 109
        }
      ]
    },
    {
      "cell_type": "code",
      "source": [
        "df_copy = imputer.fit_transform(df_copy)"
      ],
      "metadata": {
        "id": "rx-PD6CnGZjw"
      },
      "execution_count": null,
      "outputs": []
    },
    {
      "cell_type": "code",
      "source": [
        "df_copy"
      ],
      "metadata": {
        "colab": {
          "base_uri": "https://localhost:8080/"
        },
        "id": "Fp2fV--PGZmd",
        "outputId": "46af7bdb-83d2-404a-c14f-430ae2ed1027"
      },
      "execution_count": null,
      "outputs": [
        {
          "output_type": "execute_result",
          "data": {
            "text/plain": [
              "array([[67.,  3.,  5.,  3.,  1.],\n",
              "       [43.,  1.,  1.,  3.,  1.],\n",
              "       [58.,  4.,  5.,  3.,  1.],\n",
              "       ...,\n",
              "       [64.,  4.,  5.,  3.,  0.],\n",
              "       [66.,  4.,  5.,  3.,  1.],\n",
              "       [62.,  3.,  3.,  3.,  0.]])"
            ]
          },
          "metadata": {},
          "execution_count": 100
        }
      ]
    },
    {
      "cell_type": "code",
      "source": [
        "df_copy = df.copy()\n",
        "imputer = SimpleImputer(strategy='most_frequent')\n",
        "df_copy.iloc[:,:] = imputer.fit_transform(df_copy)\n",
        "df_copy.isnull().sum()"
      ],
      "metadata": {
        "colab": {
          "base_uri": "https://localhost:8080/"
        },
        "id": "A0HduLwFGZpD",
        "outputId": "cf257f01-a143-4bc7-ffe2-e1cb3b06437b"
      },
      "execution_count": null,
      "outputs": [
        {
          "output_type": "stream",
          "name": "stderr",
          "text": [
            "<ipython-input-123-68ac3209ebcf>:3: DeprecationWarning: In a future version, `df.iloc[:, i] = newvals` will attempt to set the values inplace instead of always setting a new array. To retain the old behavior, use either `df[df.columns[i]] = newvals` or, if columns are non-unique, `df.isetitem(i, newvals)`\n",
            "  df_copy.iloc[:,:] = imputer.fit_transform(df_copy)\n"
          ]
        },
        {
          "output_type": "execute_result",
          "data": {
            "text/plain": [
              "Age         0\n",
              "Shape       0\n",
              "Margin      0\n",
              "Density     0\n",
              "Severity    0\n",
              "dtype: int64"
            ]
          },
          "metadata": {},
          "execution_count": 123
        }
      ]
    },
    {
      "cell_type": "code",
      "source": [
        "df_copy"
      ],
      "metadata": {
        "colab": {
          "base_uri": "https://localhost:8080/",
          "height": 423
        },
        "id": "_BsQ89RcMVaH",
        "outputId": "ca682a94-d85f-40ad-b8af-e72965a51e52"
      },
      "execution_count": null,
      "outputs": [
        {
          "output_type": "execute_result",
          "data": {
            "text/plain": [
              "      Age  Shape  Margin  Density  Severity\n",
              "0    67.0    3.0     5.0      3.0         1\n",
              "1    43.0    1.0     1.0      NaN         1\n",
              "2    58.0    4.0     5.0      3.0         1\n",
              "3    28.0    1.0     1.0      3.0         0\n",
              "4    74.0    1.0     5.0      NaN         1\n",
              "..    ...    ...     ...      ...       ...\n",
              "956  47.0    2.0     1.0      3.0         0\n",
              "957  56.0    4.0     5.0      3.0         1\n",
              "958  64.0    4.0     5.0      3.0         0\n",
              "959  66.0    4.0     5.0      3.0         1\n",
              "960  62.0    3.0     3.0      3.0         0\n",
              "\n",
              "[961 rows x 5 columns]"
            ],
            "text/html": [
              "\n",
              "  <div id=\"df-8b938abb-a6d4-4f1d-a4ba-3bcb065ea6cb\" class=\"colab-df-container\">\n",
              "    <div>\n",
              "<style scoped>\n",
              "    .dataframe tbody tr th:only-of-type {\n",
              "        vertical-align: middle;\n",
              "    }\n",
              "\n",
              "    .dataframe tbody tr th {\n",
              "        vertical-align: top;\n",
              "    }\n",
              "\n",
              "    .dataframe thead th {\n",
              "        text-align: right;\n",
              "    }\n",
              "</style>\n",
              "<table border=\"1\" class=\"dataframe\">\n",
              "  <thead>\n",
              "    <tr style=\"text-align: right;\">\n",
              "      <th></th>\n",
              "      <th>Age</th>\n",
              "      <th>Shape</th>\n",
              "      <th>Margin</th>\n",
              "      <th>Density</th>\n",
              "      <th>Severity</th>\n",
              "    </tr>\n",
              "  </thead>\n",
              "  <tbody>\n",
              "    <tr>\n",
              "      <th>0</th>\n",
              "      <td>67.0</td>\n",
              "      <td>3.0</td>\n",
              "      <td>5.0</td>\n",
              "      <td>3.0</td>\n",
              "      <td>1</td>\n",
              "    </tr>\n",
              "    <tr>\n",
              "      <th>1</th>\n",
              "      <td>43.0</td>\n",
              "      <td>1.0</td>\n",
              "      <td>1.0</td>\n",
              "      <td>NaN</td>\n",
              "      <td>1</td>\n",
              "    </tr>\n",
              "    <tr>\n",
              "      <th>2</th>\n",
              "      <td>58.0</td>\n",
              "      <td>4.0</td>\n",
              "      <td>5.0</td>\n",
              "      <td>3.0</td>\n",
              "      <td>1</td>\n",
              "    </tr>\n",
              "    <tr>\n",
              "      <th>3</th>\n",
              "      <td>28.0</td>\n",
              "      <td>1.0</td>\n",
              "      <td>1.0</td>\n",
              "      <td>3.0</td>\n",
              "      <td>0</td>\n",
              "    </tr>\n",
              "    <tr>\n",
              "      <th>4</th>\n",
              "      <td>74.0</td>\n",
              "      <td>1.0</td>\n",
              "      <td>5.0</td>\n",
              "      <td>NaN</td>\n",
              "      <td>1</td>\n",
              "    </tr>\n",
              "    <tr>\n",
              "      <th>...</th>\n",
              "      <td>...</td>\n",
              "      <td>...</td>\n",
              "      <td>...</td>\n",
              "      <td>...</td>\n",
              "      <td>...</td>\n",
              "    </tr>\n",
              "    <tr>\n",
              "      <th>956</th>\n",
              "      <td>47.0</td>\n",
              "      <td>2.0</td>\n",
              "      <td>1.0</td>\n",
              "      <td>3.0</td>\n",
              "      <td>0</td>\n",
              "    </tr>\n",
              "    <tr>\n",
              "      <th>957</th>\n",
              "      <td>56.0</td>\n",
              "      <td>4.0</td>\n",
              "      <td>5.0</td>\n",
              "      <td>3.0</td>\n",
              "      <td>1</td>\n",
              "    </tr>\n",
              "    <tr>\n",
              "      <th>958</th>\n",
              "      <td>64.0</td>\n",
              "      <td>4.0</td>\n",
              "      <td>5.0</td>\n",
              "      <td>3.0</td>\n",
              "      <td>0</td>\n",
              "    </tr>\n",
              "    <tr>\n",
              "      <th>959</th>\n",
              "      <td>66.0</td>\n",
              "      <td>4.0</td>\n",
              "      <td>5.0</td>\n",
              "      <td>3.0</td>\n",
              "      <td>1</td>\n",
              "    </tr>\n",
              "    <tr>\n",
              "      <th>960</th>\n",
              "      <td>62.0</td>\n",
              "      <td>3.0</td>\n",
              "      <td>3.0</td>\n",
              "      <td>3.0</td>\n",
              "      <td>0</td>\n",
              "    </tr>\n",
              "  </tbody>\n",
              "</table>\n",
              "<p>961 rows × 5 columns</p>\n",
              "</div>\n",
              "    <div class=\"colab-df-buttons\">\n",
              "\n",
              "  <div class=\"colab-df-container\">\n",
              "    <button class=\"colab-df-convert\" onclick=\"convertToInteractive('df-8b938abb-a6d4-4f1d-a4ba-3bcb065ea6cb')\"\n",
              "            title=\"Convert this dataframe to an interactive table.\"\n",
              "            style=\"display:none;\">\n",
              "\n",
              "  <svg xmlns=\"http://www.w3.org/2000/svg\" height=\"24px\" viewBox=\"0 -960 960 960\">\n",
              "    <path d=\"M120-120v-720h720v720H120Zm60-500h600v-160H180v160Zm220 220h160v-160H400v160Zm0 220h160v-160H400v160ZM180-400h160v-160H180v160Zm440 0h160v-160H620v160ZM180-180h160v-160H180v160Zm440 0h160v-160H620v160Z\"/>\n",
              "  </svg>\n",
              "    </button>\n",
              "\n",
              "  <style>\n",
              "    .colab-df-container {\n",
              "      display:flex;\n",
              "      gap: 12px;\n",
              "    }\n",
              "\n",
              "    .colab-df-convert {\n",
              "      background-color: #E8F0FE;\n",
              "      border: none;\n",
              "      border-radius: 50%;\n",
              "      cursor: pointer;\n",
              "      display: none;\n",
              "      fill: #1967D2;\n",
              "      height: 32px;\n",
              "      padding: 0 0 0 0;\n",
              "      width: 32px;\n",
              "    }\n",
              "\n",
              "    .colab-df-convert:hover {\n",
              "      background-color: #E2EBFA;\n",
              "      box-shadow: 0px 1px 2px rgba(60, 64, 67, 0.3), 0px 1px 3px 1px rgba(60, 64, 67, 0.15);\n",
              "      fill: #174EA6;\n",
              "    }\n",
              "\n",
              "    .colab-df-buttons div {\n",
              "      margin-bottom: 4px;\n",
              "    }\n",
              "\n",
              "    [theme=dark] .colab-df-convert {\n",
              "      background-color: #3B4455;\n",
              "      fill: #D2E3FC;\n",
              "    }\n",
              "\n",
              "    [theme=dark] .colab-df-convert:hover {\n",
              "      background-color: #434B5C;\n",
              "      box-shadow: 0px 1px 3px 1px rgba(0, 0, 0, 0.15);\n",
              "      filter: drop-shadow(0px 1px 2px rgba(0, 0, 0, 0.3));\n",
              "      fill: #FFFFFF;\n",
              "    }\n",
              "  </style>\n",
              "\n",
              "    <script>\n",
              "      const buttonEl =\n",
              "        document.querySelector('#df-8b938abb-a6d4-4f1d-a4ba-3bcb065ea6cb button.colab-df-convert');\n",
              "      buttonEl.style.display =\n",
              "        google.colab.kernel.accessAllowed ? 'block' : 'none';\n",
              "\n",
              "      async function convertToInteractive(key) {\n",
              "        const element = document.querySelector('#df-8b938abb-a6d4-4f1d-a4ba-3bcb065ea6cb');\n",
              "        const dataTable =\n",
              "          await google.colab.kernel.invokeFunction('convertToInteractive',\n",
              "                                                    [key], {});\n",
              "        if (!dataTable) return;\n",
              "\n",
              "        const docLinkHtml = 'Like what you see? Visit the ' +\n",
              "          '<a target=\"_blank\" href=https://colab.research.google.com/notebooks/data_table.ipynb>data table notebook</a>'\n",
              "          + ' to learn more about interactive tables.';\n",
              "        element.innerHTML = '';\n",
              "        dataTable['output_type'] = 'display_data';\n",
              "        await google.colab.output.renderOutput(dataTable, element);\n",
              "        const docLink = document.createElement('div');\n",
              "        docLink.innerHTML = docLinkHtml;\n",
              "        element.appendChild(docLink);\n",
              "      }\n",
              "    </script>\n",
              "  </div>\n",
              "\n",
              "\n",
              "<div id=\"df-557ea3c5-d0a2-47a8-beb4-d8a161083859\">\n",
              "  <button class=\"colab-df-quickchart\" onclick=\"quickchart('df-557ea3c5-d0a2-47a8-beb4-d8a161083859')\"\n",
              "            title=\"Suggest charts\"\n",
              "            style=\"display:none;\">\n",
              "\n",
              "<svg xmlns=\"http://www.w3.org/2000/svg\" height=\"24px\"viewBox=\"0 0 24 24\"\n",
              "     width=\"24px\">\n",
              "    <g>\n",
              "        <path d=\"M19 3H5c-1.1 0-2 .9-2 2v14c0 1.1.9 2 2 2h14c1.1 0 2-.9 2-2V5c0-1.1-.9-2-2-2zM9 17H7v-7h2v7zm4 0h-2V7h2v10zm4 0h-2v-4h2v4z\"/>\n",
              "    </g>\n",
              "</svg>\n",
              "  </button>\n",
              "\n",
              "<style>\n",
              "  .colab-df-quickchart {\n",
              "      --bg-color: #E8F0FE;\n",
              "      --fill-color: #1967D2;\n",
              "      --hover-bg-color: #E2EBFA;\n",
              "      --hover-fill-color: #174EA6;\n",
              "      --disabled-fill-color: #AAA;\n",
              "      --disabled-bg-color: #DDD;\n",
              "  }\n",
              "\n",
              "  [theme=dark] .colab-df-quickchart {\n",
              "      --bg-color: #3B4455;\n",
              "      --fill-color: #D2E3FC;\n",
              "      --hover-bg-color: #434B5C;\n",
              "      --hover-fill-color: #FFFFFF;\n",
              "      --disabled-bg-color: #3B4455;\n",
              "      --disabled-fill-color: #666;\n",
              "  }\n",
              "\n",
              "  .colab-df-quickchart {\n",
              "    background-color: var(--bg-color);\n",
              "    border: none;\n",
              "    border-radius: 50%;\n",
              "    cursor: pointer;\n",
              "    display: none;\n",
              "    fill: var(--fill-color);\n",
              "    height: 32px;\n",
              "    padding: 0;\n",
              "    width: 32px;\n",
              "  }\n",
              "\n",
              "  .colab-df-quickchart:hover {\n",
              "    background-color: var(--hover-bg-color);\n",
              "    box-shadow: 0 1px 2px rgba(60, 64, 67, 0.3), 0 1px 3px 1px rgba(60, 64, 67, 0.15);\n",
              "    fill: var(--button-hover-fill-color);\n",
              "  }\n",
              "\n",
              "  .colab-df-quickchart-complete:disabled,\n",
              "  .colab-df-quickchart-complete:disabled:hover {\n",
              "    background-color: var(--disabled-bg-color);\n",
              "    fill: var(--disabled-fill-color);\n",
              "    box-shadow: none;\n",
              "  }\n",
              "\n",
              "  .colab-df-spinner {\n",
              "    border: 2px solid var(--fill-color);\n",
              "    border-color: transparent;\n",
              "    border-bottom-color: var(--fill-color);\n",
              "    animation:\n",
              "      spin 1s steps(1) infinite;\n",
              "  }\n",
              "\n",
              "  @keyframes spin {\n",
              "    0% {\n",
              "      border-color: transparent;\n",
              "      border-bottom-color: var(--fill-color);\n",
              "      border-left-color: var(--fill-color);\n",
              "    }\n",
              "    20% {\n",
              "      border-color: transparent;\n",
              "      border-left-color: var(--fill-color);\n",
              "      border-top-color: var(--fill-color);\n",
              "    }\n",
              "    30% {\n",
              "      border-color: transparent;\n",
              "      border-left-color: var(--fill-color);\n",
              "      border-top-color: var(--fill-color);\n",
              "      border-right-color: var(--fill-color);\n",
              "    }\n",
              "    40% {\n",
              "      border-color: transparent;\n",
              "      border-right-color: var(--fill-color);\n",
              "      border-top-color: var(--fill-color);\n",
              "    }\n",
              "    60% {\n",
              "      border-color: transparent;\n",
              "      border-right-color: var(--fill-color);\n",
              "    }\n",
              "    80% {\n",
              "      border-color: transparent;\n",
              "      border-right-color: var(--fill-color);\n",
              "      border-bottom-color: var(--fill-color);\n",
              "    }\n",
              "    90% {\n",
              "      border-color: transparent;\n",
              "      border-bottom-color: var(--fill-color);\n",
              "    }\n",
              "  }\n",
              "</style>\n",
              "\n",
              "  <script>\n",
              "    async function quickchart(key) {\n",
              "      const quickchartButtonEl =\n",
              "        document.querySelector('#' + key + ' button');\n",
              "      quickchartButtonEl.disabled = true;  // To prevent multiple clicks.\n",
              "      quickchartButtonEl.classList.add('colab-df-spinner');\n",
              "      try {\n",
              "        const charts = await google.colab.kernel.invokeFunction(\n",
              "            'suggestCharts', [key], {});\n",
              "      } catch (error) {\n",
              "        console.error('Error during call to suggestCharts:', error);\n",
              "      }\n",
              "      quickchartButtonEl.classList.remove('colab-df-spinner');\n",
              "      quickchartButtonEl.classList.add('colab-df-quickchart-complete');\n",
              "    }\n",
              "    (() => {\n",
              "      let quickchartButtonEl =\n",
              "        document.querySelector('#df-557ea3c5-d0a2-47a8-beb4-d8a161083859 button');\n",
              "      quickchartButtonEl.style.display =\n",
              "        google.colab.kernel.accessAllowed ? 'block' : 'none';\n",
              "    })();\n",
              "  </script>\n",
              "</div>\n",
              "    </div>\n",
              "  </div>\n"
            ]
          },
          "metadata": {},
          "execution_count": 117
        }
      ]
    },
    {
      "cell_type": "code",
      "source": [
        "df_copy.isnull().sum()"
      ],
      "metadata": {
        "colab": {
          "base_uri": "https://localhost:8080/"
        },
        "id": "WlGZqQKqMmiq",
        "outputId": "d788a769-48dd-494d-873f-3805f9e616c3"
      },
      "execution_count": null,
      "outputs": [
        {
          "output_type": "execute_result",
          "data": {
            "text/plain": [
              "Age         0\n",
              "Shape       0\n",
              "Margin      0\n",
              "Density     0\n",
              "Severity    0\n",
              "dtype: int64"
            ]
          },
          "metadata": {},
          "execution_count": 124
        }
      ]
    },
    {
      "cell_type": "markdown",
      "source": [
        "## Dataset Splitting\n",
        "Partition the dataset into training and testing sets with an 80:20 ratio."
      ],
      "metadata": {
        "id": "tls69_PrbJKW"
      }
    },
    {
      "cell_type": "code",
      "source": [
        "# Write your code here. Add as many boxes as you need.\n",
        "\n",
        "from sklearn.preprocessing import MinMaxScaler\n",
        "from sklearn.model_selection import train_test_split\n",
        "\n",
        "x_train, x_test,y_train, y_test = train_test_split(df_copy.iloc[:,:],df_copy['Severity'], test_size=0.2)"
      ],
      "metadata": {
        "id": "PjGGGMxebeoB"
      },
      "execution_count": null,
      "outputs": []
    },
    {
      "cell_type": "code",
      "source": [
        "from sklearn.neighbors import KNeighborsClassifier\n",
        "from sklearn.impute import KNNImputer\n",
        "k = 3\n",
        "\n",
        "imputer = KNNImputer(n_neighbors=k)\n",
        "knn = KNeighborsClassifier(n_neighbors=3)\n"
      ],
      "metadata": {
        "id": "gdsA6tYwL3Kb"
      },
      "execution_count": null,
      "outputs": []
    },
    {
      "cell_type": "code",
      "source": [
        "knn.fit(x_train,y_train)"
      ],
      "metadata": {
        "colab": {
          "base_uri": "https://localhost:8080/",
          "height": 74
        },
        "id": "1GFrXMy9L-aG",
        "outputId": "3a9d4312-bd1f-4e3f-ed58-dd995c3ba88e"
      },
      "execution_count": null,
      "outputs": [
        {
          "output_type": "execute_result",
          "data": {
            "text/plain": [
              "KNeighborsClassifier(n_neighbors=3)"
            ],
            "text/html": [
              "<style>#sk-container-id-1 {color: black;background-color: white;}#sk-container-id-1 pre{padding: 0;}#sk-container-id-1 div.sk-toggleable {background-color: white;}#sk-container-id-1 label.sk-toggleable__label {cursor: pointer;display: block;width: 100%;margin-bottom: 0;padding: 0.3em;box-sizing: border-box;text-align: center;}#sk-container-id-1 label.sk-toggleable__label-arrow:before {content: \"▸\";float: left;margin-right: 0.25em;color: #696969;}#sk-container-id-1 label.sk-toggleable__label-arrow:hover:before {color: black;}#sk-container-id-1 div.sk-estimator:hover label.sk-toggleable__label-arrow:before {color: black;}#sk-container-id-1 div.sk-toggleable__content {max-height: 0;max-width: 0;overflow: hidden;text-align: left;background-color: #f0f8ff;}#sk-container-id-1 div.sk-toggleable__content pre {margin: 0.2em;color: black;border-radius: 0.25em;background-color: #f0f8ff;}#sk-container-id-1 input.sk-toggleable__control:checked~div.sk-toggleable__content {max-height: 200px;max-width: 100%;overflow: auto;}#sk-container-id-1 input.sk-toggleable__control:checked~label.sk-toggleable__label-arrow:before {content: \"▾\";}#sk-container-id-1 div.sk-estimator input.sk-toggleable__control:checked~label.sk-toggleable__label {background-color: #d4ebff;}#sk-container-id-1 div.sk-label input.sk-toggleable__control:checked~label.sk-toggleable__label {background-color: #d4ebff;}#sk-container-id-1 input.sk-hidden--visually {border: 0;clip: rect(1px 1px 1px 1px);clip: rect(1px, 1px, 1px, 1px);height: 1px;margin: -1px;overflow: hidden;padding: 0;position: absolute;width: 1px;}#sk-container-id-1 div.sk-estimator {font-family: monospace;background-color: #f0f8ff;border: 1px dotted black;border-radius: 0.25em;box-sizing: border-box;margin-bottom: 0.5em;}#sk-container-id-1 div.sk-estimator:hover {background-color: #d4ebff;}#sk-container-id-1 div.sk-parallel-item::after {content: \"\";width: 100%;border-bottom: 1px solid gray;flex-grow: 1;}#sk-container-id-1 div.sk-label:hover label.sk-toggleable__label {background-color: #d4ebff;}#sk-container-id-1 div.sk-serial::before {content: \"\";position: absolute;border-left: 1px solid gray;box-sizing: border-box;top: 0;bottom: 0;left: 50%;z-index: 0;}#sk-container-id-1 div.sk-serial {display: flex;flex-direction: column;align-items: center;background-color: white;padding-right: 0.2em;padding-left: 0.2em;position: relative;}#sk-container-id-1 div.sk-item {position: relative;z-index: 1;}#sk-container-id-1 div.sk-parallel {display: flex;align-items: stretch;justify-content: center;background-color: white;position: relative;}#sk-container-id-1 div.sk-item::before, #sk-container-id-1 div.sk-parallel-item::before {content: \"\";position: absolute;border-left: 1px solid gray;box-sizing: border-box;top: 0;bottom: 0;left: 50%;z-index: -1;}#sk-container-id-1 div.sk-parallel-item {display: flex;flex-direction: column;z-index: 1;position: relative;background-color: white;}#sk-container-id-1 div.sk-parallel-item:first-child::after {align-self: flex-end;width: 50%;}#sk-container-id-1 div.sk-parallel-item:last-child::after {align-self: flex-start;width: 50%;}#sk-container-id-1 div.sk-parallel-item:only-child::after {width: 0;}#sk-container-id-1 div.sk-dashed-wrapped {border: 1px dashed gray;margin: 0 0.4em 0.5em 0.4em;box-sizing: border-box;padding-bottom: 0.4em;background-color: white;}#sk-container-id-1 div.sk-label label {font-family: monospace;font-weight: bold;display: inline-block;line-height: 1.2em;}#sk-container-id-1 div.sk-label-container {text-align: center;}#sk-container-id-1 div.sk-container {/* jupyter's `normalize.less` sets `[hidden] { display: none; }` but bootstrap.min.css set `[hidden] { display: none !important; }` so we also need the `!important` here to be able to override the default hidden behavior on the sphinx rendered scikit-learn.org. See: https://github.com/scikit-learn/scikit-learn/issues/21755 */display: inline-block !important;position: relative;}#sk-container-id-1 div.sk-text-repr-fallback {display: none;}</style><div id=\"sk-container-id-1\" class=\"sk-top-container\"><div class=\"sk-text-repr-fallback\"><pre>KNeighborsClassifier(n_neighbors=3)</pre><b>In a Jupyter environment, please rerun this cell to show the HTML representation or trust the notebook. <br />On GitHub, the HTML representation is unable to render, please try loading this page with nbviewer.org.</b></div><div class=\"sk-container\" hidden><div class=\"sk-item\"><div class=\"sk-estimator sk-toggleable\"><input class=\"sk-toggleable__control sk-hidden--visually\" id=\"sk-estimator-id-1\" type=\"checkbox\" checked><label for=\"sk-estimator-id-1\" class=\"sk-toggleable__label sk-toggleable__label-arrow\">KNeighborsClassifier</label><div class=\"sk-toggleable__content\"><pre>KNeighborsClassifier(n_neighbors=3)</pre></div></div></div></div></div>"
            ]
          },
          "metadata": {},
          "execution_count": 127
        }
      ]
    },
    {
      "cell_type": "markdown",
      "source": [
        "## Feature Scaling\n",
        "Standardize the features using `StandardScaler`."
      ],
      "metadata": {
        "id": "qhiEJI_xJ0Bt"
      }
    },
    {
      "cell_type": "code",
      "source": [
        "# Write your code here. Add as many boxes as you need.\n",
        "from sklearn.preprocessing import StandardScaler\n",
        "scaler = StandardScaler()\n"
      ],
      "metadata": {
        "id": "nwQFchgSKK8p"
      },
      "execution_count": null,
      "outputs": []
    },
    {
      "cell_type": "code",
      "source": [
        "df_copy = df.copy()"
      ],
      "metadata": {
        "id": "GnWoqeiTNp5z"
      },
      "execution_count": null,
      "outputs": []
    },
    {
      "cell_type": "code",
      "source": [
        "df_copy['Age']"
      ],
      "metadata": {
        "colab": {
          "base_uri": "https://localhost:8080/"
        },
        "id": "nqzB4DN1Np2w",
        "outputId": "800abe8e-4143-4c3e-bb25-a71b74f5645e"
      },
      "execution_count": null,
      "outputs": [
        {
          "output_type": "execute_result",
          "data": {
            "text/plain": [
              "0      67.0\n",
              "1      43.0\n",
              "2      58.0\n",
              "3      28.0\n",
              "4      74.0\n",
              "       ... \n",
              "956    47.0\n",
              "957    56.0\n",
              "958    64.0\n",
              "959    66.0\n",
              "960    62.0\n",
              "Name: Age, Length: 961, dtype: float64"
            ]
          },
          "metadata": {},
          "execution_count": 131
        }
      ]
    },
    {
      "cell_type": "code",
      "source": [
        "type(df_copy['Age'])\n"
      ],
      "metadata": {
        "colab": {
          "base_uri": "https://localhost:8080/"
        },
        "id": "rTDoTLehNpyV",
        "outputId": "1cd65d32-778e-415f-dbbb-d4824ead36c2"
      },
      "execution_count": null,
      "outputs": [
        {
          "output_type": "execute_result",
          "data": {
            "text/plain": [
              "pandas.core.series.Series"
            ]
          },
          "metadata": {},
          "execution_count": 132
        }
      ]
    },
    {
      "cell_type": "code",
      "source": [
        "df_copy['Age'].to_numpy().reshape(-1, 1)"
      ],
      "metadata": {
        "colab": {
          "base_uri": "https://localhost:8080/"
        },
        "id": "AODGT-FxNyS4",
        "outputId": "ebd6a087-9724-47ac-e3c5-23b033a97611"
      },
      "execution_count": null,
      "outputs": [
        {
          "output_type": "execute_result",
          "data": {
            "text/plain": [
              "array([[67.],\n",
              "       [43.],\n",
              "       [58.],\n",
              "       [28.],\n",
              "       [74.],\n",
              "       [65.],\n",
              "       [70.],\n",
              "       [42.],\n",
              "       [57.],\n",
              "       [60.],\n",
              "       [76.],\n",
              "       [42.],\n",
              "       [64.],\n",
              "       [36.],\n",
              "       [60.],\n",
              "       [54.],\n",
              "       [52.],\n",
              "       [59.],\n",
              "       [54.],\n",
              "       [40.],\n",
              "       [66.],\n",
              "       [56.],\n",
              "       [43.],\n",
              "       [42.],\n",
              "       [59.],\n",
              "       [75.],\n",
              "       [66.],\n",
              "       [63.],\n",
              "       [45.],\n",
              "       [55.],\n",
              "       [46.],\n",
              "       [54.],\n",
              "       [57.],\n",
              "       [39.],\n",
              "       [81.],\n",
              "       [77.],\n",
              "       [60.],\n",
              "       [67.],\n",
              "       [48.],\n",
              "       [55.],\n",
              "       [59.],\n",
              "       [78.],\n",
              "       [50.],\n",
              "       [61.],\n",
              "       [62.],\n",
              "       [44.],\n",
              "       [64.],\n",
              "       [23.],\n",
              "       [42.],\n",
              "       [67.],\n",
              "       [74.],\n",
              "       [80.],\n",
              "       [23.],\n",
              "       [63.],\n",
              "       [53.],\n",
              "       [43.],\n",
              "       [49.],\n",
              "       [51.],\n",
              "       [45.],\n",
              "       [59.],\n",
              "       [52.],\n",
              "       [60.],\n",
              "       [57.],\n",
              "       [57.],\n",
              "       [74.],\n",
              "       [25.],\n",
              "       [49.],\n",
              "       [72.],\n",
              "       [45.],\n",
              "       [64.],\n",
              "       [73.],\n",
              "       [68.],\n",
              "       [52.],\n",
              "       [66.],\n",
              "       [70.],\n",
              "       [25.],\n",
              "       [74.],\n",
              "       [64.],\n",
              "       [60.],\n",
              "       [67.],\n",
              "       [67.],\n",
              "       [44.],\n",
              "       [68.],\n",
              "       [57.],\n",
              "       [51.],\n",
              "       [33.],\n",
              "       [58.],\n",
              "       [36.],\n",
              "       [63.],\n",
              "       [62.],\n",
              "       [73.],\n",
              "       [80.],\n",
              "       [67.],\n",
              "       [59.],\n",
              "       [60.],\n",
              "       [54.],\n",
              "       [40.],\n",
              "       [47.],\n",
              "       [62.],\n",
              "       [33.],\n",
              "       [59.],\n",
              "       [65.],\n",
              "       [58.],\n",
              "       [29.],\n",
              "       [58.],\n",
              "       [54.],\n",
              "       [44.],\n",
              "       [34.],\n",
              "       [57.],\n",
              "       [33.],\n",
              "       [45.],\n",
              "       [71.],\n",
              "       [59.],\n",
              "       [56.],\n",
              "       [40.],\n",
              "       [56.],\n",
              "       [45.],\n",
              "       [57.],\n",
              "       [55.],\n",
              "       [84.],\n",
              "       [51.],\n",
              "       [43.],\n",
              "       [24.],\n",
              "       [66.],\n",
              "       [33.],\n",
              "       [59.],\n",
              "       [76.],\n",
              "       [40.],\n",
              "       [52.],\n",
              "       [40.],\n",
              "       [67.],\n",
              "       [75.],\n",
              "       [86.],\n",
              "       [60.],\n",
              "       [66.],\n",
              "       [46.],\n",
              "       [59.],\n",
              "       [65.],\n",
              "       [53.],\n",
              "       [67.],\n",
              "       [80.],\n",
              "       [55.],\n",
              "       [48.],\n",
              "       [47.],\n",
              "       [50.],\n",
              "       [62.],\n",
              "       [63.],\n",
              "       [63.],\n",
              "       [71.],\n",
              "       [41.],\n",
              "       [57.],\n",
              "       [71.],\n",
              "       [66.],\n",
              "       [47.],\n",
              "       [34.],\n",
              "       [59.],\n",
              "       [55.],\n",
              "       [51.],\n",
              "       [62.],\n",
              "       [58.],\n",
              "       [67.],\n",
              "       [41.],\n",
              "       [23.],\n",
              "       [53.],\n",
              "       [42.],\n",
              "       [87.],\n",
              "       [68.],\n",
              "       [64.],\n",
              "       [54.],\n",
              "       [86.],\n",
              "       [21.],\n",
              "       [39.],\n",
              "       [53.],\n",
              "       [44.],\n",
              "       [54.],\n",
              "       [63.],\n",
              "       [62.],\n",
              "       [45.],\n",
              "       [71.],\n",
              "       [49.],\n",
              "       [49.],\n",
              "       [66.],\n",
              "       [19.],\n",
              "       [35.],\n",
              "       [71.],\n",
              "       [74.],\n",
              "       [37.],\n",
              "       [67.],\n",
              "       [81.],\n",
              "       [59.],\n",
              "       [34.],\n",
              "       [79.],\n",
              "       [60.],\n",
              "       [41.],\n",
              "       [50.],\n",
              "       [85.],\n",
              "       [46.],\n",
              "       [66.],\n",
              "       [73.],\n",
              "       [55.],\n",
              "       [49.],\n",
              "       [49.],\n",
              "       [51.],\n",
              "       [48.],\n",
              "       [58.],\n",
              "       [72.],\n",
              "       [46.],\n",
              "       [43.],\n",
              "       [52.],\n",
              "       [66.],\n",
              "       [46.],\n",
              "       [69.],\n",
              "       [59.],\n",
              "       [43.],\n",
              "       [76.],\n",
              "       [46.],\n",
              "       [59.],\n",
              "       [57.],\n",
              "       [43.],\n",
              "       [45.],\n",
              "       [43.],\n",
              "       [45.],\n",
              "       [57.],\n",
              "       [79.],\n",
              "       [54.],\n",
              "       [40.],\n",
              "       [63.],\n",
              "       [55.],\n",
              "       [52.],\n",
              "       [38.],\n",
              "       [72.],\n",
              "       [80.],\n",
              "       [76.],\n",
              "       [62.],\n",
              "       [64.],\n",
              "       [42.],\n",
              "       [60.],\n",
              "       [64.],\n",
              "       [63.],\n",
              "       [24.],\n",
              "       [72.],\n",
              "       [63.],\n",
              "       [46.],\n",
              "       [33.],\n",
              "       [76.],\n",
              "       [36.],\n",
              "       [40.],\n",
              "       [58.],\n",
              "       [43.],\n",
              "       [42.],\n",
              "       [32.],\n",
              "       [57.],\n",
              "       [37.],\n",
              "       [70.],\n",
              "       [56.],\n",
              "       [76.],\n",
              "       [73.],\n",
              "       [77.],\n",
              "       [67.],\n",
              "       [71.],\n",
              "       [65.],\n",
              "       [43.],\n",
              "       [40.],\n",
              "       [49.],\n",
              "       [76.],\n",
              "       [55.],\n",
              "       [72.],\n",
              "       [53.],\n",
              "       [75.],\n",
              "       [61.],\n",
              "       [67.],\n",
              "       [55.],\n",
              "       [66.],\n",
              "       [76.],\n",
              "       [57.],\n",
              "       [71.],\n",
              "       [70.],\n",
              "       [35.],\n",
              "       [79.],\n",
              "       [63.],\n",
              "       [40.],\n",
              "       [41.],\n",
              "       [47.],\n",
              "       [68.],\n",
              "       [64.],\n",
              "       [65.],\n",
              "       [73.],\n",
              "       [39.],\n",
              "       [55.],\n",
              "       [53.],\n",
              "       [66.],\n",
              "       [43.],\n",
              "       [44.],\n",
              "       [77.],\n",
              "       [62.],\n",
              "       [80.],\n",
              "       [33.],\n",
              "       [50.],\n",
              "       [71.],\n",
              "       [46.],\n",
              "       [49.],\n",
              "       [53.],\n",
              "       [46.],\n",
              "       [57.],\n",
              "       [54.],\n",
              "       [54.],\n",
              "       [49.],\n",
              "       [47.],\n",
              "       [40.],\n",
              "       [45.],\n",
              "       [50.],\n",
              "       [54.],\n",
              "       [67.],\n",
              "       [77.],\n",
              "       [66.],\n",
              "       [71.],\n",
              "       [36.],\n",
              "       [69.],\n",
              "       [48.],\n",
              "       [64.],\n",
              "       [71.],\n",
              "       [60.],\n",
              "       [24.],\n",
              "       [34.],\n",
              "       [79.],\n",
              "       [45.],\n",
              "       [37.],\n",
              "       [42.],\n",
              "       [72.],\n",
              "       [60.],\n",
              "       [85.],\n",
              "       [51.],\n",
              "       [54.],\n",
              "       [55.],\n",
              "       [64.],\n",
              "       [67.],\n",
              "       [75.],\n",
              "       [87.],\n",
              "       [46.],\n",
              "       [59.],\n",
              "       [46.],\n",
              "       [61.],\n",
              "       [44.],\n",
              "       [32.],\n",
              "       [62.],\n",
              "       [59.],\n",
              "       [61.],\n",
              "       [78.],\n",
              "       [42.],\n",
              "       [45.],\n",
              "       [34.],\n",
              "       [39.],\n",
              "       [27.],\n",
              "       [43.],\n",
              "       [83.],\n",
              "       [36.],\n",
              "       [37.],\n",
              "       [56.],\n",
              "       [55.],\n",
              "       [46.],\n",
              "       [88.],\n",
              "       [71.],\n",
              "       [41.],\n",
              "       [49.],\n",
              "       [51.],\n",
              "       [39.],\n",
              "       [46.],\n",
              "       [52.],\n",
              "       [58.],\n",
              "       [67.],\n",
              "       [80.],\n",
              "       [46.],\n",
              "       [43.],\n",
              "       [45.],\n",
              "       [68.],\n",
              "       [54.],\n",
              "       [44.],\n",
              "       [74.],\n",
              "       [55.],\n",
              "       [49.],\n",
              "       [49.],\n",
              "       [50.],\n",
              "       [52.],\n",
              "       [45.],\n",
              "       [66.],\n",
              "       [68.],\n",
              "       [72.],\n",
              "       [64.],\n",
              "       [49.],\n",
              "       [44.],\n",
              "       [74.],\n",
              "       [58.],\n",
              "       [77.],\n",
              "       [49.],\n",
              "       [34.],\n",
              "       [60.],\n",
              "       [69.],\n",
              "       [53.],\n",
              "       [46.],\n",
              "       [74.],\n",
              "       [58.],\n",
              "       [68.],\n",
              "       [46.],\n",
              "       [61.],\n",
              "       [70.],\n",
              "       [37.],\n",
              "       [65.],\n",
              "       [67.],\n",
              "       [69.],\n",
              "       [76.],\n",
              "       [65.],\n",
              "       [72.],\n",
              "       [62.],\n",
              "       [42.],\n",
              "       [66.],\n",
              "       [48.],\n",
              "       [35.],\n",
              "       [60.],\n",
              "       [67.],\n",
              "       [78.],\n",
              "       [66.],\n",
              "       [26.],\n",
              "       [48.],\n",
              "       [31.],\n",
              "       [43.],\n",
              "       [72.],\n",
              "       [66.],\n",
              "       [56.],\n",
              "       [58.],\n",
              "       [33.],\n",
              "       [37.],\n",
              "       [36.],\n",
              "       [39.],\n",
              "       [39.],\n",
              "       [83.],\n",
              "       [68.],\n",
              "       [63.],\n",
              "       [78.],\n",
              "       [38.],\n",
              "       [46.],\n",
              "       [60.],\n",
              "       [56.],\n",
              "       [33.],\n",
              "       [nan],\n",
              "       [69.],\n",
              "       [66.],\n",
              "       [72.],\n",
              "       [29.],\n",
              "       [54.],\n",
              "       [80.],\n",
              "       [68.],\n",
              "       [35.],\n",
              "       [57.],\n",
              "       [nan],\n",
              "       [50.],\n",
              "       [32.],\n",
              "       [69.],\n",
              "       [71.],\n",
              "       [87.],\n",
              "       [40.],\n",
              "       [31.],\n",
              "       [64.],\n",
              "       [55.],\n",
              "       [18.],\n",
              "       [50.],\n",
              "       [53.],\n",
              "       [84.],\n",
              "       [80.],\n",
              "       [32.],\n",
              "       [77.],\n",
              "       [38.],\n",
              "       [54.],\n",
              "       [63.],\n",
              "       [61.],\n",
              "       [52.],\n",
              "       [36.],\n",
              "       [41.],\n",
              "       [59.],\n",
              "       [51.],\n",
              "       [36.],\n",
              "       [40.],\n",
              "       [49.],\n",
              "       [37.],\n",
              "       [46.],\n",
              "       [63.],\n",
              "       [28.],\n",
              "       [47.],\n",
              "       [42.],\n",
              "       [44.],\n",
              "       [49.],\n",
              "       [47.],\n",
              "       [52.],\n",
              "       [53.],\n",
              "       [83.],\n",
              "       [50.],\n",
              "       [63.],\n",
              "       [82.],\n",
              "       [54.],\n",
              "       [50.],\n",
              "       [80.],\n",
              "       [45.],\n",
              "       [59.],\n",
              "       [28.],\n",
              "       [31.],\n",
              "       [41.],\n",
              "       [21.],\n",
              "       [44.],\n",
              "       [49.],\n",
              "       [71.],\n",
              "       [75.],\n",
              "       [38.],\n",
              "       [60.],\n",
              "       [87.],\n",
              "       [70.],\n",
              "       [55.],\n",
              "       [21.],\n",
              "       [50.],\n",
              "       [76.],\n",
              "       [23.],\n",
              "       [68.],\n",
              "       [62.],\n",
              "       [65.],\n",
              "       [73.],\n",
              "       [38.],\n",
              "       [57.],\n",
              "       [65.],\n",
              "       [67.],\n",
              "       [61.],\n",
              "       [56.],\n",
              "       [71.],\n",
              "       [49.],\n",
              "       [55.],\n",
              "       [44.],\n",
              "       [58.],\n",
              "       [27.],\n",
              "       [73.],\n",
              "       [34.],\n",
              "       [63.],\n",
              "       [50.],\n",
              "       [62.],\n",
              "       [21.],\n",
              "       [49.],\n",
              "       [36.],\n",
              "       [45.],\n",
              "       [67.],\n",
              "       [21.],\n",
              "       [57.],\n",
              "       [66.],\n",
              "       [71.],\n",
              "       [69.],\n",
              "       [80.],\n",
              "       [27.],\n",
              "       [38.],\n",
              "       [23.],\n",
              "       [70.],\n",
              "       [46.],\n",
              "       [61.],\n",
              "       [65.],\n",
              "       [60.],\n",
              "       [83.],\n",
              "       [40.],\n",
              "       [59.],\n",
              "       [53.],\n",
              "       [76.],\n",
              "       [79.],\n",
              "       [38.],\n",
              "       [61.],\n",
              "       [56.],\n",
              "       [44.],\n",
              "       [64.],\n",
              "       [66.],\n",
              "       [50.],\n",
              "       [46.],\n",
              "       [39.],\n",
              "       [60.],\n",
              "       [55.],\n",
              "       [40.],\n",
              "       [26.],\n",
              "       [84.],\n",
              "       [41.],\n",
              "       [63.],\n",
              "       [65.],\n",
              "       [49.],\n",
              "       [56.],\n",
              "       [65.],\n",
              "       [54.],\n",
              "       [36.],\n",
              "       [49.],\n",
              "       [59.],\n",
              "       [75.],\n",
              "       [59.],\n",
              "       [59.],\n",
              "       [28.],\n",
              "       [53.],\n",
              "       [57.],\n",
              "       [77.],\n",
              "       [85.],\n",
              "       [59.],\n",
              "       [59.],\n",
              "       [65.],\n",
              "       [54.],\n",
              "       [46.],\n",
              "       [63.],\n",
              "       [53.],\n",
              "       [56.],\n",
              "       [66.],\n",
              "       [66.],\n",
              "       [55.],\n",
              "       [44.],\n",
              "       [86.],\n",
              "       [47.],\n",
              "       [59.],\n",
              "       [66.],\n",
              "       [61.],\n",
              "       [46.],\n",
              "       [69.],\n",
              "       [93.],\n",
              "       [39.],\n",
              "       [44.],\n",
              "       [45.],\n",
              "       [51.],\n",
              "       [56.],\n",
              "       [66.],\n",
              "       [61.],\n",
              "       [64.],\n",
              "       [57.],\n",
              "       [79.],\n",
              "       [57.],\n",
              "       [44.],\n",
              "       [31.],\n",
              "       [63.],\n",
              "       [64.],\n",
              "       [47.],\n",
              "       [68.],\n",
              "       [30.],\n",
              "       [43.],\n",
              "       [56.],\n",
              "       [46.],\n",
              "       [67.],\n",
              "       [52.],\n",
              "       [67.],\n",
              "       [47.],\n",
              "       [58.],\n",
              "       [28.],\n",
              "       [43.],\n",
              "       [57.],\n",
              "       [68.],\n",
              "       [64.],\n",
              "       [64.],\n",
              "       [62.],\n",
              "       [38.],\n",
              "       [68.],\n",
              "       [41.],\n",
              "       [35.],\n",
              "       [68.],\n",
              "       [55.],\n",
              "       [67.],\n",
              "       [51.],\n",
              "       [40.],\n",
              "       [73.],\n",
              "       [58.],\n",
              "       [51.],\n",
              "       [50.],\n",
              "       [59.],\n",
              "       [60.],\n",
              "       [27.],\n",
              "       [54.],\n",
              "       [56.],\n",
              "       [53.],\n",
              "       [54.],\n",
              "       [79.],\n",
              "       [67.],\n",
              "       [64.],\n",
              "       [70.],\n",
              "       [55.],\n",
              "       [65.],\n",
              "       [45.],\n",
              "       [57.],\n",
              "       [49.],\n",
              "       [24.],\n",
              "       [52.],\n",
              "       [50.],\n",
              "       [35.],\n",
              "       [nan],\n",
              "       [64.],\n",
              "       [40.],\n",
              "       [66.],\n",
              "       [64.],\n",
              "       [52.],\n",
              "       [43.],\n",
              "       [56.],\n",
              "       [72.],\n",
              "       [51.],\n",
              "       [79.],\n",
              "       [22.],\n",
              "       [73.],\n",
              "       [53.],\n",
              "       [59.],\n",
              "       [46.],\n",
              "       [66.],\n",
              "       [50.],\n",
              "       [58.],\n",
              "       [55.],\n",
              "       [62.],\n",
              "       [60.],\n",
              "       [57.],\n",
              "       [57.],\n",
              "       [41.],\n",
              "       [71.],\n",
              "       [32.],\n",
              "       [57.],\n",
              "       [19.],\n",
              "       [62.],\n",
              "       [67.],\n",
              "       [50.],\n",
              "       [65.],\n",
              "       [40.],\n",
              "       [71.],\n",
              "       [68.],\n",
              "       [68.],\n",
              "       [29.],\n",
              "       [53.],\n",
              "       [66.],\n",
              "       [60.],\n",
              "       [76.],\n",
              "       [58.],\n",
              "       [96.],\n",
              "       [70.],\n",
              "       [34.],\n",
              "       [59.],\n",
              "       [45.],\n",
              "       [65.],\n",
              "       [59.],\n",
              "       [21.],\n",
              "       [43.],\n",
              "       [53.],\n",
              "       [65.],\n",
              "       [64.],\n",
              "       [53.],\n",
              "       [51.],\n",
              "       [59.],\n",
              "       [56.],\n",
              "       [60.],\n",
              "       [22.],\n",
              "       [25.],\n",
              "       [76.],\n",
              "       [69.],\n",
              "       [58.],\n",
              "       [62.],\n",
              "       [56.],\n",
              "       [64.],\n",
              "       [32.],\n",
              "       [48.],\n",
              "       [59.],\n",
              "       [52.],\n",
              "       [63.],\n",
              "       [67.],\n",
              "       [61.],\n",
              "       [59.],\n",
              "       [52.],\n",
              "       [35.],\n",
              "       [77.],\n",
              "       [71.],\n",
              "       [63.],\n",
              "       [38.],\n",
              "       [72.],\n",
              "       [76.],\n",
              "       [53.],\n",
              "       [67.],\n",
              "       [69.],\n",
              "       [54.],\n",
              "       [35.],\n",
              "       [68.],\n",
              "       [68.],\n",
              "       [67.],\n",
              "       [39.],\n",
              "       [44.],\n",
              "       [33.],\n",
              "       [60.],\n",
              "       [58.],\n",
              "       [31.],\n",
              "       [23.],\n",
              "       [56.],\n",
              "       [69.],\n",
              "       [63.],\n",
              "       [65.],\n",
              "       [44.],\n",
              "       [62.],\n",
              "       [67.],\n",
              "       [56.],\n",
              "       [52.],\n",
              "       [43.],\n",
              "       [41.],\n",
              "       [42.],\n",
              "       [46.],\n",
              "       [55.],\n",
              "       [58.],\n",
              "       [87.],\n",
              "       [66.],\n",
              "       [72.],\n",
              "       [60.],\n",
              "       [83.],\n",
              "       [31.],\n",
              "       [53.],\n",
              "       [64.],\n",
              "       [31.],\n",
              "       [62.],\n",
              "       [56.],\n",
              "       [58.],\n",
              "       [67.],\n",
              "       [75.],\n",
              "       [65.],\n",
              "       [74.],\n",
              "       [59.],\n",
              "       [57.],\n",
              "       [76.],\n",
              "       [63.],\n",
              "       [44.],\n",
              "       [42.],\n",
              "       [35.],\n",
              "       [65.],\n",
              "       [70.],\n",
              "       [48.],\n",
              "       [74.],\n",
              "       [40.],\n",
              "       [63.],\n",
              "       [60.],\n",
              "       [86.],\n",
              "       [27.],\n",
              "       [71.],\n",
              "       [85.],\n",
              "       [51.],\n",
              "       [72.],\n",
              "       [52.],\n",
              "       [66.],\n",
              "       [71.],\n",
              "       [42.],\n",
              "       [64.],\n",
              "       [41.],\n",
              "       [50.],\n",
              "       [30.],\n",
              "       [67.],\n",
              "       [62.],\n",
              "       [46.],\n",
              "       [35.],\n",
              "       [53.],\n",
              "       [59.],\n",
              "       [19.],\n",
              "       [86.],\n",
              "       [72.],\n",
              "       [37.],\n",
              "       [46.],\n",
              "       [45.],\n",
              "       [48.],\n",
              "       [58.],\n",
              "       [42.],\n",
              "       [56.],\n",
              "       [47.],\n",
              "       [49.],\n",
              "       [76.],\n",
              "       [62.],\n",
              "       [64.],\n",
              "       [53.],\n",
              "       [70.],\n",
              "       [55.],\n",
              "       [34.],\n",
              "       [76.],\n",
              "       [39.],\n",
              "       [23.],\n",
              "       [19.],\n",
              "       [65.],\n",
              "       [57.],\n",
              "       [41.],\n",
              "       [36.],\n",
              "       [62.],\n",
              "       [69.],\n",
              "       [41.],\n",
              "       [51.],\n",
              "       [50.],\n",
              "       [47.],\n",
              "       [54.],\n",
              "       [52.],\n",
              "       [30.],\n",
              "       [48.],\n",
              "       [nan],\n",
              "       [65.],\n",
              "       [50.],\n",
              "       [65.],\n",
              "       [66.],\n",
              "       [41.],\n",
              "       [72.],\n",
              "       [42.],\n",
              "       [80.],\n",
              "       [45.],\n",
              "       [41.],\n",
              "       [72.],\n",
              "       [60.],\n",
              "       [67.],\n",
              "       [55.],\n",
              "       [61.],\n",
              "       [55.],\n",
              "       [52.],\n",
              "       [42.],\n",
              "       [63.],\n",
              "       [62.],\n",
              "       [46.],\n",
              "       [65.],\n",
              "       [57.],\n",
              "       [66.],\n",
              "       [45.],\n",
              "       [77.],\n",
              "       [35.],\n",
              "       [50.],\n",
              "       [57.],\n",
              "       [74.],\n",
              "       [59.],\n",
              "       [51.],\n",
              "       [42.],\n",
              "       [35.],\n",
              "       [42.],\n",
              "       [43.],\n",
              "       [62.],\n",
              "       [27.],\n",
              "       [nan],\n",
              "       [57.],\n",
              "       [59.],\n",
              "       [40.],\n",
              "       [20.],\n",
              "       [74.],\n",
              "       [22.],\n",
              "       [57.],\n",
              "       [57.],\n",
              "       [55.],\n",
              "       [62.],\n",
              "       [54.],\n",
              "       [71.],\n",
              "       [65.],\n",
              "       [68.],\n",
              "       [64.],\n",
              "       [54.],\n",
              "       [48.],\n",
              "       [58.],\n",
              "       [58.],\n",
              "       [70.],\n",
              "       [70.],\n",
              "       [59.],\n",
              "       [57.],\n",
              "       [53.],\n",
              "       [54.],\n",
              "       [53.],\n",
              "       [71.],\n",
              "       [67.],\n",
              "       [68.],\n",
              "       [56.],\n",
              "       [35.],\n",
              "       [52.],\n",
              "       [47.],\n",
              "       [56.],\n",
              "       [64.],\n",
              "       [66.],\n",
              "       [62.]])"
            ]
          },
          "metadata": {},
          "execution_count": 133
        }
      ]
    },
    {
      "cell_type": "code",
      "source": [
        "df_copy['Age'] = scaler.fit_transform(df_copy['Age'].to_numpy().reshape(-1, 1))\n"
      ],
      "metadata": {
        "id": "6vpCnhotNppk"
      },
      "execution_count": null,
      "outputs": []
    },
    {
      "cell_type": "code",
      "source": [
        "df_copy['Age'].head(20)"
      ],
      "metadata": {
        "colab": {
          "base_uri": "https://localhost:8080/"
        },
        "id": "hANe0ojbN4bM",
        "outputId": "3cceb8d6-80b9-4e5e-e126-1269462c0450"
      },
      "execution_count": null,
      "outputs": [
        {
          "output_type": "execute_result",
          "data": {
            "text/plain": [
              "0     0.795475\n",
              "1    -0.862836\n",
              "2     0.173608\n",
              "3    -1.899281\n",
              "4     1.279149\n",
              "5     0.657282\n",
              "6     1.002764\n",
              "7    -0.931933\n",
              "8     0.104512\n",
              "9     0.311801\n",
              "10    1.417341\n",
              "11   -0.931933\n",
              "12    0.588186\n",
              "13   -1.346510\n",
              "14    0.311801\n",
              "15   -0.102777\n",
              "16   -0.240970\n",
              "17    0.242704\n",
              "18   -0.102777\n",
              "19   -1.070125\n",
              "Name: Age, dtype: float64"
            ]
          },
          "metadata": {},
          "execution_count": 135
        }
      ]
    },
    {
      "cell_type": "code",
      "source": [],
      "metadata": {
        "id": "OIplbcWvN4ZE"
      },
      "execution_count": null,
      "outputs": []
    },
    {
      "cell_type": "code",
      "source": [],
      "metadata": {
        "id": "lREJig0EN4V6"
      },
      "execution_count": null,
      "outputs": []
    },
    {
      "cell_type": "markdown",
      "source": [
        "## K-Nearset Neighbors Classification"
      ],
      "metadata": {
        "id": "VIkAR1Hibiwr"
      }
    },
    {
      "cell_type": "markdown",
      "source": [
        "Create an instance of the KNN Classification model and train it using the `fit` function."
      ],
      "metadata": {
        "id": "qWn1pafKbnxH"
      }
    },
    {
      "cell_type": "code",
      "source": [
        "# Write your code here. Add as many boxes as you need.\n",
        "from sklearn.impute import KNNImputer\n",
        "imputer = KNNImputer(n_neighbors=k)\n"
      ],
      "metadata": {
        "id": "IXFIrQthbnkb"
      },
      "execution_count": null,
      "outputs": []
    },
    {
      "cell_type": "code",
      "source": [
        "df_copy['Age'] = imputer.fit_transform(df_copy['Age'].to_numpy().reshape(-1, 1))\n"
      ],
      "metadata": {
        "id": "ixSO_INQOQEO"
      },
      "execution_count": null,
      "outputs": []
    },
    {
      "cell_type": "code",
      "source": [
        "df_copy['Age'].isnull().sum()"
      ],
      "metadata": {
        "colab": {
          "base_uri": "https://localhost:8080/"
        },
        "id": "qEzPWH1COP5K",
        "outputId": "861a2b35-8c8a-4a8a-a97e-2ead1e07a1fb"
      },
      "execution_count": null,
      "outputs": [
        {
          "output_type": "execute_result",
          "data": {
            "text/plain": [
              "0"
            ]
          },
          "metadata": {},
          "execution_count": 138
        }
      ]
    },
    {
      "cell_type": "markdown",
      "source": [
        "Use the trained model to make predictions for the test set."
      ],
      "metadata": {
        "id": "gyXZwAVab8Cp"
      }
    },
    {
      "cell_type": "code",
      "source": [
        "# Write your code here. Add as many boxes as you need.\n",
        "y_pred = knn.predict(x_test)"
      ],
      "metadata": {
        "id": "EvMfVum6b_9b"
      },
      "execution_count": null,
      "outputs": []
    },
    {
      "cell_type": "code",
      "source": [
        "y_pred"
      ],
      "metadata": {
        "colab": {
          "base_uri": "https://localhost:8080/"
        },
        "id": "6fbiLcNZOequ",
        "outputId": "62338dc3-2bfb-48e3-842c-43ee653811b3"
      },
      "execution_count": null,
      "outputs": [
        {
          "output_type": "execute_result",
          "data": {
            "text/plain": [
              "array([0., 1., 1., 1., 1., 0., 0., 0., 1., 0., 1., 1., 1., 1., 1., 0., 0.,\n",
              "       1., 1., 1., 1., 0., 1., 1., 1., 1., 1., 1., 1., 1., 1., 0., 1., 1.,\n",
              "       1., 0., 1., 0., 0., 0., 1., 1., 0., 0., 1., 0., 1., 0., 0., 0., 0.,\n",
              "       1., 0., 0., 1., 1., 0., 1., 1., 0., 1., 1., 0., 1., 1., 0., 1., 1.,\n",
              "       1., 0., 1., 0., 0., 0., 1., 1., 0., 0., 0., 0., 1., 1., 0., 0., 0.,\n",
              "       1., 0., 1., 0., 1., 1., 1., 0., 0., 0., 0., 0., 0., 1., 1., 0., 1.,\n",
              "       1., 1., 1., 1., 1., 0., 0., 0., 0., 0., 1., 1., 1., 1., 1., 0., 0.,\n",
              "       0., 0., 0., 0., 0., 0., 1., 0., 1., 0., 1., 1., 1., 0., 1., 0., 0.,\n",
              "       1., 1., 0., 0., 0., 1., 0., 1., 0., 1., 1., 0., 0., 0., 1., 0., 0.,\n",
              "       0., 0., 0., 1., 0., 0., 0., 1., 0., 1., 0., 1., 0., 1., 1., 1., 0.,\n",
              "       1., 0., 1., 1., 1., 1., 1., 1., 0., 1., 1., 0., 1., 0., 0., 1., 1.,\n",
              "       1., 0., 0., 0., 0., 1.])"
            ]
          },
          "metadata": {},
          "execution_count": 140
        }
      ]
    },
    {
      "cell_type": "markdown",
      "source": [
        "Assess the performance of the model by using different classification metrics provided by the `scikit-learn` library."
      ],
      "metadata": {
        "id": "3VxAvDPtcNCh"
      }
    },
    {
      "cell_type": "code",
      "source": [
        "# Write your code here. Add as many boxes as you need.\n",
        "\n",
        "from sklearn.metrics import f1_score,accuracy_score,confusion_matrix,classification_report"
      ],
      "metadata": {
        "id": "V4axpktycQhp"
      },
      "execution_count": null,
      "outputs": []
    },
    {
      "cell_type": "code",
      "source": [
        "f1_score(y_test,y_pred,average='micro')"
      ],
      "metadata": {
        "colab": {
          "base_uri": "https://localhost:8080/"
        },
        "id": "N--kz70yOk4j",
        "outputId": "79a90a10-e798-4c4d-8064-ba3e17e3ff2b"
      },
      "execution_count": null,
      "outputs": [
        {
          "output_type": "execute_result",
          "data": {
            "text/plain": [
              "0.9067357512953368"
            ]
          },
          "metadata": {},
          "execution_count": 142
        }
      ]
    },
    {
      "cell_type": "code",
      "source": [
        "f1_score(y_test,y_pred,average='macro')"
      ],
      "metadata": {
        "colab": {
          "base_uri": "https://localhost:8080/"
        },
        "id": "vs1-Qc3hOldj",
        "outputId": "6ef5b1dc-82cb-4cb8-8f12-64d1c0ad559b"
      },
      "execution_count": null,
      "outputs": [
        {
          "output_type": "execute_result",
          "data": {
            "text/plain": [
              "0.9067332474226804"
            ]
          },
          "metadata": {},
          "execution_count": 143
        }
      ]
    },
    {
      "cell_type": "code",
      "source": [
        "confusion_matrix(y_test,y_pred)"
      ],
      "metadata": {
        "colab": {
          "base_uri": "https://localhost:8080/"
        },
        "id": "BlHuUZwfOk07",
        "outputId": "6c97f8dd-c83b-4cfe-ceba-d707f4e81de3"
      },
      "execution_count": null,
      "outputs": [
        {
          "output_type": "execute_result",
          "data": {
            "text/plain": [
              "array([[88, 13],\n",
              "       [ 5, 87]])"
            ]
          },
          "metadata": {},
          "execution_count": 144
        }
      ]
    },
    {
      "cell_type": "code",
      "source": [
        "print(classification_report(y_test,y_pred))"
      ],
      "metadata": {
        "colab": {
          "base_uri": "https://localhost:8080/"
        },
        "id": "l029IF-xOkxL",
        "outputId": "f6ef86b5-adfd-454a-8da5-7ce9163bca6c"
      },
      "execution_count": null,
      "outputs": [
        {
          "output_type": "stream",
          "name": "stdout",
          "text": [
            "              precision    recall  f1-score   support\n",
            "\n",
            "         0.0       0.95      0.87      0.91       101\n",
            "         1.0       0.87      0.95      0.91        92\n",
            "\n",
            "    accuracy                           0.91       193\n",
            "   macro avg       0.91      0.91      0.91       193\n",
            "weighted avg       0.91      0.91      0.91       193\n",
            "\n"
          ]
        }
      ]
    },
    {
      "cell_type": "markdown",
      "source": [
        "# Laboratory Exercise - Bonus Task (+ 2 points)"
      ],
      "metadata": {
        "id": "RwnD_qSpIeXG"
      }
    },
    {
      "cell_type": "markdown",
      "source": [
        "As part of the bonus task in this laboratory assignment, your objective is to fine-tune the number of neighbors (`n_neighbors`) using a validation set. This involves experimenting with various values for `n_neighbors` and evaluating the model's performance on a validation set. Subsequently, you're required to generate a line plot illustrating how the F1 score of the model predictions changes with different `n_neighbors` values. Upon determining the most suitable `n_neighbors` value, evaluate the model's performance on a test set for final assessment."
      ],
      "metadata": {
        "id": "lSTuVpyYd2is"
      }
    },
    {
      "cell_type": "markdown",
      "source": [
        "## Dataset Splitting\n",
        "To achieve the required split of the dataset into three sets (train set, validation set, and test set) in a ratio of 70:10:20, you can follow these steps:\n",
        "\n",
        "- Start by splitting the dataset into a ratio of 80:20 to create the initial train and test sets.\n",
        "- Subsequently, divide the initial train set further into a ratio of 87.5:12.5 to generate the final train and validation sets.\n",
        "\n",
        "This process can be accomplished using appropriate functions from libraries such as `scikit-learn` or manually."
      ],
      "metadata": {
        "id": "yZriA4d4eWLJ"
      }
    },
    {
      "cell_type": "code",
      "source": [
        "# Write your code here. Add as many boxes as you need."
      ],
      "metadata": {
        "id": "ile-T3vmIfsm"
      },
      "execution_count": null,
      "outputs": []
    },
    {
      "cell_type": "markdown",
      "source": [
        "## Fine-tuning the K-Nearset Neighbors Hyperparameter\n",
        "Experiment with various values for `n_neighbors` and evaluate the model's performance on the validation set."
      ],
      "metadata": {
        "id": "E9myidoNgjmy"
      }
    },
    {
      "cell_type": "code",
      "source": [
        "# Write your code here. Add as many boxes as you need."
      ],
      "metadata": {
        "id": "Vb5WJwEggm1f"
      },
      "execution_count": null,
      "outputs": []
    },
    {
      "cell_type": "markdown",
      "source": [
        "## Dependence of the Model Performance on the KNN Hyperparameter\n",
        "Generate a line plot illustrating how the F1 score of the model predictions changes with different `n_neighbors` values."
      ],
      "metadata": {
        "id": "HAkcLNM-hF2h"
      }
    },
    {
      "cell_type": "code",
      "source": [
        "# Write your code here. Add as many boxes as you need."
      ],
      "metadata": {
        "id": "n7iUGvHlhkHN"
      },
      "execution_count": null,
      "outputs": []
    },
    {
      "cell_type": "markdown",
      "source": [
        "## Final Assessment of the Model Performance\n",
        "Upon determining the most suitable `n_neighbors` value, evaluate the model's performance on a test set for final assessment."
      ],
      "metadata": {
        "id": "OzxTQJABiWAp"
      }
    },
    {
      "cell_type": "code",
      "source": [
        "# Write your code here. Add as many boxes as you need."
      ],
      "metadata": {
        "id": "oK__muPhicCr"
      },
      "execution_count": null,
      "outputs": []
    }
  ]
}