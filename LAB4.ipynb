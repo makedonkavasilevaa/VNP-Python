{
  "nbformat": 4,
  "nbformat_minor": 0,
  "metadata": {
    "colab": {
      "provenance": [],
      "gpuType": "T4"
    },
    "kernelspec": {
      "name": "python3",
      "display_name": "Python 3"
    },
    "language_info": {
      "name": "python"
    },
    "accelerator": "GPU"
  },
  "cells": [
    {
      "cell_type": "markdown",
      "source": [
        "# Requirements"
      ],
      "metadata": {
        "id": "rODb9vHvIEbp"
      }
    },
    {
      "cell_type": "code",
      "source": [
        "# Add as many imports as you need.\n",
        "from google.colab import drive\n",
        "drive.mount('/content/drive')"
      ],
      "metadata": {
        "id": "U4KmHBd2cdx9",
        "colab": {
          "base_uri": "https://localhost:8080/"
        },
        "outputId": "aaff66e3-e268-408a-e5f5-9cc7cc0e98a4"
      },
      "execution_count": null,
      "outputs": [
        {
          "output_type": "stream",
          "name": "stdout",
          "text": [
            "Mounted at /content/drive\n"
          ]
        }
      ]
    },
    {
      "cell_type": "code",
      "source": [
        "import pandas as pd\n",
        "import seaborn as sns\n",
        "import matplotlib.pyplot as plt\n",
        "from sklearn.preprocessing import MinMaxScaler\n",
        "from sklearn.preprocessing import StandardScaler\n",
        "from sklearn.model_selection import train_test_split\n",
        "from keras.models import Sequential\n",
        "from keras.layers import Dense\n",
        "import keras\n",
        "from sklearn.metrics import mean_squared_error, mean_absolute_error, r2_score"
      ],
      "metadata": {
        "id": "QC0ffuNTao-b"
      },
      "execution_count": null,
      "outputs": []
    },
    {
      "cell_type": "markdown",
      "source": [
        "# Laboratory Exercise - Run Mode (8 points)"
      ],
      "metadata": {
        "id": "KNMMoUiUIW3L"
      }
    },
    {
      "cell_type": "markdown",
      "source": [
        "## Introduction\n",
        "In this laboratory assignment, the primary objective is to use Long Short-Term Memory (LSTM) networks for time series forecasting in order to predict the future **count of page loads**. To accomplish this use data from the past three days, which includes information such as the **count of page loads**, **count of unique visits**, **count of first time-visits**, and **count of returning visits**. The goal is to employ LSTM, a type of recurrent neural network, to effectively forecast the future **count of page loads** based on the provided historical data."
      ],
      "metadata": {
        "id": "_rAh_91OIjeS"
      }
    },
    {
      "cell_type": "markdown",
      "source": [
        "## The Website Visitors Dataset"
      ],
      "metadata": {
        "id": "zBYI-EypaWom"
      }
    },
    {
      "cell_type": "markdown",
      "source": [
        "## Downloading the Website Visitors Dataset"
      ],
      "metadata": {
        "id": "IDW_23TIK6iv"
      }
    },
    {
      "cell_type": "code",
      "source": [
        "!gdown 1h1P3NboXKbWNngqgCB1i4bHFRcv7uDJe"
      ],
      "metadata": {
        "id": "NNtbofJTIWqK",
        "colab": {
          "base_uri": "https://localhost:8080/"
        },
        "outputId": "ecb1c9e1-ffc4-491f-ce3c-71dc8ce55ba9"
      },
      "execution_count": null,
      "outputs": [
        {
          "output_type": "stream",
          "name": "stdout",
          "text": [
            "Downloading...\n",
            "From: https://drive.google.com/uc?id=1h1P3NboXKbWNngqgCB1i4bHFRcv7uDJe\n",
            "To: /content/website-visitors.csv\n",
            "\r  0% 0.00/92.8k [00:00<?, ?B/s]\r100% 92.8k/92.8k [00:00<00:00, 3.91MB/s]\n"
          ]
        }
      ]
    },
    {
      "cell_type": "markdown",
      "source": [
        "## Exploring the Website Visitors Dataset\n",
        "This datatset consists of daily counts of page loads, unique visitors, first-time visitors, and returning visitors for an academic teaching notes website. The dataset contains 2167 rows spanning from September 14, 2014, to August 19, 2020. A visit is defined as a series of hits on one or more pages by the same user on a given day, identified by IP address. Shared IP addresses are considered a single user. A visit is \"unique\" if a hit from the same IP address hasn't occurred within the last 6 hours. Returning visitors are identified by cookies, and the rest are classified as first-time visitors. The unique visitor count is the sum of returning and first-time visitors.\n",
        "\n",
        "The dataset consists of the following columns:\n",
        "- date - date in mm/dd/yyyy format,\n",
        "- day_of_week - day of the week in text form (Monday, Tuesday, etc.),\n",
        "- page_loads - daily number of pages loaded,\n",
        "- unique_visits - daily number of visitors from IP addresses with no hits in over 6 hours,\n",
        "- first_time_visits - number of unique visitors without a identifying cookie, and\n",
        "- returning_visits - number of unique visitors minus first-time visitors.\n",
        "\n",
        "*Note: The dataset is complete, with no missing values in any of its entries.*"
      ],
      "metadata": {
        "id": "iAtPoYzAZo1v"
      }
    },
    {
      "cell_type": "markdown",
      "source": [
        "Load the dataset into a `pandas` data frame."
      ],
      "metadata": {
        "id": "DCm1qm1mZwMr"
      }
    },
    {
      "cell_type": "code",
      "source": [
        "# Write your code here. Add as many boxes as you need.\n",
        "data = pd.read_csv('/content/website-visitors.csv')"
      ],
      "metadata": {
        "id": "KMOn4fgcZn8s"
      },
      "execution_count": null,
      "outputs": []
    },
    {
      "cell_type": "markdown",
      "source": [
        "Explore the dataset using visualizations of your choice."
      ],
      "metadata": {
        "id": "5slwyyhCKRo9"
      }
    },
    {
      "cell_type": "code",
      "source": [
        "# Write your code here. Add as many boxes as you need.\n",
        "data"
      ],
      "metadata": {
        "id": "DFY6TKhGKOY4",
        "colab": {
          "base_uri": "https://localhost:8080/",
          "height": 423
        },
        "outputId": "d357e74a-245a-4ca6-84f3-fd521e401ac3"
      },
      "execution_count": null,
      "outputs": [
        {
          "output_type": "execute_result",
          "data": {
            "text/plain": [
              "           date day_of_week  page_loads  unique_visits  first_time_visits  \\\n",
              "0     9/14/2014      Sunday       2.146          1.582              1.430   \n",
              "1     9/15/2014      Monday       3.621          2.528              2.297   \n",
              "2     9/16/2014     Tuesday       3.698          2.630              2.352   \n",
              "3     9/17/2014   Wednesday       3.667          2.614              2.327   \n",
              "4     9/18/2014    Thursday       3.316          2.366              2.130   \n",
              "...         ...         ...         ...            ...                ...   \n",
              "2162  8/15/2020    Saturday       2.221          1.696              1.373   \n",
              "2163  8/16/2020      Sunday       2.724          2.037              1.686   \n",
              "2164  8/17/2020      Monday       3.456          2.638              2.181   \n",
              "2165  8/18/2020     Tuesday       3.581          2.683              2.184   \n",
              "2166  8/19/2020   Wednesday       2.064          1.564              1.297   \n",
              "\n",
              "      returning_visits  \n",
              "0                152.0  \n",
              "1                231.0  \n",
              "2                278.0  \n",
              "3                287.0  \n",
              "4                236.0  \n",
              "...                ...  \n",
              "2162             323.0  \n",
              "2163             351.0  \n",
              "2164             457.0  \n",
              "2165             499.0  \n",
              "2166             267.0  \n",
              "\n",
              "[2167 rows x 6 columns]"
            ],
            "text/html": [
              "\n",
              "  <div id=\"df-6558bfde-df53-4db7-8495-140a5f25023d\" class=\"colab-df-container\">\n",
              "    <div>\n",
              "<style scoped>\n",
              "    .dataframe tbody tr th:only-of-type {\n",
              "        vertical-align: middle;\n",
              "    }\n",
              "\n",
              "    .dataframe tbody tr th {\n",
              "        vertical-align: top;\n",
              "    }\n",
              "\n",
              "    .dataframe thead th {\n",
              "        text-align: right;\n",
              "    }\n",
              "</style>\n",
              "<table border=\"1\" class=\"dataframe\">\n",
              "  <thead>\n",
              "    <tr style=\"text-align: right;\">\n",
              "      <th></th>\n",
              "      <th>date</th>\n",
              "      <th>day_of_week</th>\n",
              "      <th>page_loads</th>\n",
              "      <th>unique_visits</th>\n",
              "      <th>first_time_visits</th>\n",
              "      <th>returning_visits</th>\n",
              "    </tr>\n",
              "  </thead>\n",
              "  <tbody>\n",
              "    <tr>\n",
              "      <th>0</th>\n",
              "      <td>9/14/2014</td>\n",
              "      <td>Sunday</td>\n",
              "      <td>2.146</td>\n",
              "      <td>1.582</td>\n",
              "      <td>1.430</td>\n",
              "      <td>152.0</td>\n",
              "    </tr>\n",
              "    <tr>\n",
              "      <th>1</th>\n",
              "      <td>9/15/2014</td>\n",
              "      <td>Monday</td>\n",
              "      <td>3.621</td>\n",
              "      <td>2.528</td>\n",
              "      <td>2.297</td>\n",
              "      <td>231.0</td>\n",
              "    </tr>\n",
              "    <tr>\n",
              "      <th>2</th>\n",
              "      <td>9/16/2014</td>\n",
              "      <td>Tuesday</td>\n",
              "      <td>3.698</td>\n",
              "      <td>2.630</td>\n",
              "      <td>2.352</td>\n",
              "      <td>278.0</td>\n",
              "    </tr>\n",
              "    <tr>\n",
              "      <th>3</th>\n",
              "      <td>9/17/2014</td>\n",
              "      <td>Wednesday</td>\n",
              "      <td>3.667</td>\n",
              "      <td>2.614</td>\n",
              "      <td>2.327</td>\n",
              "      <td>287.0</td>\n",
              "    </tr>\n",
              "    <tr>\n",
              "      <th>4</th>\n",
              "      <td>9/18/2014</td>\n",
              "      <td>Thursday</td>\n",
              "      <td>3.316</td>\n",
              "      <td>2.366</td>\n",
              "      <td>2.130</td>\n",
              "      <td>236.0</td>\n",
              "    </tr>\n",
              "    <tr>\n",
              "      <th>...</th>\n",
              "      <td>...</td>\n",
              "      <td>...</td>\n",
              "      <td>...</td>\n",
              "      <td>...</td>\n",
              "      <td>...</td>\n",
              "      <td>...</td>\n",
              "    </tr>\n",
              "    <tr>\n",
              "      <th>2162</th>\n",
              "      <td>8/15/2020</td>\n",
              "      <td>Saturday</td>\n",
              "      <td>2.221</td>\n",
              "      <td>1.696</td>\n",
              "      <td>1.373</td>\n",
              "      <td>323.0</td>\n",
              "    </tr>\n",
              "    <tr>\n",
              "      <th>2163</th>\n",
              "      <td>8/16/2020</td>\n",
              "      <td>Sunday</td>\n",
              "      <td>2.724</td>\n",
              "      <td>2.037</td>\n",
              "      <td>1.686</td>\n",
              "      <td>351.0</td>\n",
              "    </tr>\n",
              "    <tr>\n",
              "      <th>2164</th>\n",
              "      <td>8/17/2020</td>\n",
              "      <td>Monday</td>\n",
              "      <td>3.456</td>\n",
              "      <td>2.638</td>\n",
              "      <td>2.181</td>\n",
              "      <td>457.0</td>\n",
              "    </tr>\n",
              "    <tr>\n",
              "      <th>2165</th>\n",
              "      <td>8/18/2020</td>\n",
              "      <td>Tuesday</td>\n",
              "      <td>3.581</td>\n",
              "      <td>2.683</td>\n",
              "      <td>2.184</td>\n",
              "      <td>499.0</td>\n",
              "    </tr>\n",
              "    <tr>\n",
              "      <th>2166</th>\n",
              "      <td>8/19/2020</td>\n",
              "      <td>Wednesday</td>\n",
              "      <td>2.064</td>\n",
              "      <td>1.564</td>\n",
              "      <td>1.297</td>\n",
              "      <td>267.0</td>\n",
              "    </tr>\n",
              "  </tbody>\n",
              "</table>\n",
              "<p>2167 rows × 6 columns</p>\n",
              "</div>\n",
              "    <div class=\"colab-df-buttons\">\n",
              "\n",
              "  <div class=\"colab-df-container\">\n",
              "    <button class=\"colab-df-convert\" onclick=\"convertToInteractive('df-6558bfde-df53-4db7-8495-140a5f25023d')\"\n",
              "            title=\"Convert this dataframe to an interactive table.\"\n",
              "            style=\"display:none;\">\n",
              "\n",
              "  <svg xmlns=\"http://www.w3.org/2000/svg\" height=\"24px\" viewBox=\"0 -960 960 960\">\n",
              "    <path d=\"M120-120v-720h720v720H120Zm60-500h600v-160H180v160Zm220 220h160v-160H400v160Zm0 220h160v-160H400v160ZM180-400h160v-160H180v160Zm440 0h160v-160H620v160ZM180-180h160v-160H180v160Zm440 0h160v-160H620v160Z\"/>\n",
              "  </svg>\n",
              "    </button>\n",
              "\n",
              "  <style>\n",
              "    .colab-df-container {\n",
              "      display:flex;\n",
              "      gap: 12px;\n",
              "    }\n",
              "\n",
              "    .colab-df-convert {\n",
              "      background-color: #E8F0FE;\n",
              "      border: none;\n",
              "      border-radius: 50%;\n",
              "      cursor: pointer;\n",
              "      display: none;\n",
              "      fill: #1967D2;\n",
              "      height: 32px;\n",
              "      padding: 0 0 0 0;\n",
              "      width: 32px;\n",
              "    }\n",
              "\n",
              "    .colab-df-convert:hover {\n",
              "      background-color: #E2EBFA;\n",
              "      box-shadow: 0px 1px 2px rgba(60, 64, 67, 0.3), 0px 1px 3px 1px rgba(60, 64, 67, 0.15);\n",
              "      fill: #174EA6;\n",
              "    }\n",
              "\n",
              "    .colab-df-buttons div {\n",
              "      margin-bottom: 4px;\n",
              "    }\n",
              "\n",
              "    [theme=dark] .colab-df-convert {\n",
              "      background-color: #3B4455;\n",
              "      fill: #D2E3FC;\n",
              "    }\n",
              "\n",
              "    [theme=dark] .colab-df-convert:hover {\n",
              "      background-color: #434B5C;\n",
              "      box-shadow: 0px 1px 3px 1px rgba(0, 0, 0, 0.15);\n",
              "      filter: drop-shadow(0px 1px 2px rgba(0, 0, 0, 0.3));\n",
              "      fill: #FFFFFF;\n",
              "    }\n",
              "  </style>\n",
              "\n",
              "    <script>\n",
              "      const buttonEl =\n",
              "        document.querySelector('#df-6558bfde-df53-4db7-8495-140a5f25023d button.colab-df-convert');\n",
              "      buttonEl.style.display =\n",
              "        google.colab.kernel.accessAllowed ? 'block' : 'none';\n",
              "\n",
              "      async function convertToInteractive(key) {\n",
              "        const element = document.querySelector('#df-6558bfde-df53-4db7-8495-140a5f25023d');\n",
              "        const dataTable =\n",
              "          await google.colab.kernel.invokeFunction('convertToInteractive',\n",
              "                                                    [key], {});\n",
              "        if (!dataTable) return;\n",
              "\n",
              "        const docLinkHtml = 'Like what you see? Visit the ' +\n",
              "          '<a target=\"_blank\" href=https://colab.research.google.com/notebooks/data_table.ipynb>data table notebook</a>'\n",
              "          + ' to learn more about interactive tables.';\n",
              "        element.innerHTML = '';\n",
              "        dataTable['output_type'] = 'display_data';\n",
              "        await google.colab.output.renderOutput(dataTable, element);\n",
              "        const docLink = document.createElement('div');\n",
              "        docLink.innerHTML = docLinkHtml;\n",
              "        element.appendChild(docLink);\n",
              "      }\n",
              "    </script>\n",
              "  </div>\n",
              "\n",
              "\n",
              "<div id=\"df-0d8cae70-25aa-4d5e-87fd-d87890c1cd8a\">\n",
              "  <button class=\"colab-df-quickchart\" onclick=\"quickchart('df-0d8cae70-25aa-4d5e-87fd-d87890c1cd8a')\"\n",
              "            title=\"Suggest charts\"\n",
              "            style=\"display:none;\">\n",
              "\n",
              "<svg xmlns=\"http://www.w3.org/2000/svg\" height=\"24px\"viewBox=\"0 0 24 24\"\n",
              "     width=\"24px\">\n",
              "    <g>\n",
              "        <path d=\"M19 3H5c-1.1 0-2 .9-2 2v14c0 1.1.9 2 2 2h14c1.1 0 2-.9 2-2V5c0-1.1-.9-2-2-2zM9 17H7v-7h2v7zm4 0h-2V7h2v10zm4 0h-2v-4h2v4z\"/>\n",
              "    </g>\n",
              "</svg>\n",
              "  </button>\n",
              "\n",
              "<style>\n",
              "  .colab-df-quickchart {\n",
              "      --bg-color: #E8F0FE;\n",
              "      --fill-color: #1967D2;\n",
              "      --hover-bg-color: #E2EBFA;\n",
              "      --hover-fill-color: #174EA6;\n",
              "      --disabled-fill-color: #AAA;\n",
              "      --disabled-bg-color: #DDD;\n",
              "  }\n",
              "\n",
              "  [theme=dark] .colab-df-quickchart {\n",
              "      --bg-color: #3B4455;\n",
              "      --fill-color: #D2E3FC;\n",
              "      --hover-bg-color: #434B5C;\n",
              "      --hover-fill-color: #FFFFFF;\n",
              "      --disabled-bg-color: #3B4455;\n",
              "      --disabled-fill-color: #666;\n",
              "  }\n",
              "\n",
              "  .colab-df-quickchart {\n",
              "    background-color: var(--bg-color);\n",
              "    border: none;\n",
              "    border-radius: 50%;\n",
              "    cursor: pointer;\n",
              "    display: none;\n",
              "    fill: var(--fill-color);\n",
              "    height: 32px;\n",
              "    padding: 0;\n",
              "    width: 32px;\n",
              "  }\n",
              "\n",
              "  .colab-df-quickchart:hover {\n",
              "    background-color: var(--hover-bg-color);\n",
              "    box-shadow: 0 1px 2px rgba(60, 64, 67, 0.3), 0 1px 3px 1px rgba(60, 64, 67, 0.15);\n",
              "    fill: var(--button-hover-fill-color);\n",
              "  }\n",
              "\n",
              "  .colab-df-quickchart-complete:disabled,\n",
              "  .colab-df-quickchart-complete:disabled:hover {\n",
              "    background-color: var(--disabled-bg-color);\n",
              "    fill: var(--disabled-fill-color);\n",
              "    box-shadow: none;\n",
              "  }\n",
              "\n",
              "  .colab-df-spinner {\n",
              "    border: 2px solid var(--fill-color);\n",
              "    border-color: transparent;\n",
              "    border-bottom-color: var(--fill-color);\n",
              "    animation:\n",
              "      spin 1s steps(1) infinite;\n",
              "  }\n",
              "\n",
              "  @keyframes spin {\n",
              "    0% {\n",
              "      border-color: transparent;\n",
              "      border-bottom-color: var(--fill-color);\n",
              "      border-left-color: var(--fill-color);\n",
              "    }\n",
              "    20% {\n",
              "      border-color: transparent;\n",
              "      border-left-color: var(--fill-color);\n",
              "      border-top-color: var(--fill-color);\n",
              "    }\n",
              "    30% {\n",
              "      border-color: transparent;\n",
              "      border-left-color: var(--fill-color);\n",
              "      border-top-color: var(--fill-color);\n",
              "      border-right-color: var(--fill-color);\n",
              "    }\n",
              "    40% {\n",
              "      border-color: transparent;\n",
              "      border-right-color: var(--fill-color);\n",
              "      border-top-color: var(--fill-color);\n",
              "    }\n",
              "    60% {\n",
              "      border-color: transparent;\n",
              "      border-right-color: var(--fill-color);\n",
              "    }\n",
              "    80% {\n",
              "      border-color: transparent;\n",
              "      border-right-color: var(--fill-color);\n",
              "      border-bottom-color: var(--fill-color);\n",
              "    }\n",
              "    90% {\n",
              "      border-color: transparent;\n",
              "      border-bottom-color: var(--fill-color);\n",
              "    }\n",
              "  }\n",
              "</style>\n",
              "\n",
              "  <script>\n",
              "    async function quickchart(key) {\n",
              "      const quickchartButtonEl =\n",
              "        document.querySelector('#' + key + ' button');\n",
              "      quickchartButtonEl.disabled = true;  // To prevent multiple clicks.\n",
              "      quickchartButtonEl.classList.add('colab-df-spinner');\n",
              "      try {\n",
              "        const charts = await google.colab.kernel.invokeFunction(\n",
              "            'suggestCharts', [key], {});\n",
              "      } catch (error) {\n",
              "        console.error('Error during call to suggestCharts:', error);\n",
              "      }\n",
              "      quickchartButtonEl.classList.remove('colab-df-spinner');\n",
              "      quickchartButtonEl.classList.add('colab-df-quickchart-complete');\n",
              "    }\n",
              "    (() => {\n",
              "      let quickchartButtonEl =\n",
              "        document.querySelector('#df-0d8cae70-25aa-4d5e-87fd-d87890c1cd8a button');\n",
              "      quickchartButtonEl.style.display =\n",
              "        google.colab.kernel.accessAllowed ? 'block' : 'none';\n",
              "    })();\n",
              "  </script>\n",
              "</div>\n",
              "    </div>\n",
              "  </div>\n"
            ]
          },
          "metadata": {},
          "execution_count": 6
        }
      ]
    },
    {
      "cell_type": "code",
      "source": [
        "import seaborn as sns\n",
        "import matplotlib.pyplot as plt\n",
        "%matplotlib inline\n",
        "\n",
        "plt.figure(figsize=(14,10))\n",
        "sns.heatmap(data.corr(),annot=True,cmap='hsv',fmt='.3f',linewidths=2)\n",
        "plt.show()"
      ],
      "metadata": {
        "id": "CG0ipra3fDF0"
      },
      "execution_count": null,
      "outputs": []
    },
    {
      "cell_type": "code",
      "source": [
        "data.hist()"
      ],
      "metadata": {
        "colab": {
          "base_uri": "https://localhost:8080/",
          "height": 525
        },
        "id": "gMfw9U3Wbhmt",
        "outputId": "18e569f5-c93e-4058-b0ff-2af7d3e74dd0"
      },
      "execution_count": null,
      "outputs": [
        {
          "output_type": "execute_result",
          "data": {
            "text/plain": [
              "array([[<Axes: title={'center': 'page_loads'}>,\n",
              "        <Axes: title={'center': 'unique_visits'}>],\n",
              "       [<Axes: title={'center': 'first_time_visits'}>,\n",
              "        <Axes: title={'center': 'returning_visits'}>]], dtype=object)"
            ]
          },
          "metadata": {},
          "execution_count": 7
        },
        {
          "output_type": "display_data",
          "data": {
            "text/plain": [
              "<Figure size 640x480 with 4 Axes>"
            ],
            "image/png": "[encoded data removed]"
          },
          "metadata": {}
        }
      ]
    },
    {
      "cell_type": "markdown",
      "source": [
        "Drop the column **day_of_week**, because we won't use it."
      ],
      "metadata": {
        "id": "s8vIUYkWKSRy"
      }
    },
    {
      "cell_type": "code",
      "source": [
        "# Write your code here. Add as many boxes as you need.\n",
        "data = data.drop(['day_of_week'], axis = 1)"
      ],
      "metadata": {
        "id": "Duz8bzcRKSC7"
      },
      "execution_count": null,
      "outputs": []
    },
    {
      "cell_type": "markdown",
      "source": [
        "## Feauture Extraction\n",
        "Apply a lag of one, two, and three days to each feature, creating a set of features representing the meteorological conditions from the previous three days. To maintain dataset integrity, eliminate any resulting missing values at the beginning of the dataset.\n",
        "\n",
        "*Be careful when extracting the features. For each day, ensure that features are obtained sequentially, starting with those from 3 days ago, followed by features from 2 days ago, and finally, features from 1 day ago. This becomes crucial when reshaping the train and test sets later on.*\n",
        "\n",
        "Hint: Use `df['column_name'].shift(period)`. Check the documentation at https://pandas.pydata.org/docs/reference/api/pandas.DataFrame.shift.html."
      ],
      "metadata": {
        "id": "hZceBEFuiGpI"
      }
    },
    {
      "cell_type": "code",
      "source": [
        "# Write your code here. Add as many boxes as you need.\n",
        "columns_to_shift = ['page_loads', 'unique_visits', 'first_time_visits', 'returning_visits']"
      ],
      "metadata": {
        "id": "S-xymWvjTFt-"
      },
      "execution_count": null,
      "outputs": []
    },
    {
      "cell_type": "code",
      "source": [
        "data"
      ],
      "metadata": {
        "colab": {
          "base_uri": "https://localhost:8080/",
          "height": 443
        },
        "id": "JJvHHBP6cgwr",
        "outputId": "e0903135-9cff-4e8b-b94a-6097928e7e22"
      },
      "execution_count": null,
      "outputs": [
        {
          "output_type": "execute_result",
          "data": {
            "text/plain": [
              "           date  page_loads  unique_visits  first_time_visits  \\\n",
              "0     9/14/2014       2.146          1.582              1.430   \n",
              "1     9/15/2014       3.621          2.528              2.297   \n",
              "2     9/16/2014       3.698          2.630              2.352   \n",
              "3     9/17/2014       3.667          2.614              2.327   \n",
              "4     9/18/2014       3.316          2.366              2.130   \n",
              "...         ...         ...            ...                ...   \n",
              "2162  8/15/2020       2.221          1.696              1.373   \n",
              "2163  8/16/2020       2.724          2.037              1.686   \n",
              "2164  8/17/2020       3.456          2.638              2.181   \n",
              "2165  8/18/2020       3.581          2.683              2.184   \n",
              "2166  8/19/2020       2.064          1.564              1.297   \n",
              "\n",
              "      returning_visits  3_lag_page_loads  3_lag_unique_visits  \\\n",
              "0                152.0               NaN                  NaN   \n",
              "1                231.0               NaN                  NaN   \n",
              "2                278.0               NaN                  NaN   \n",
              "3                287.0             2.146                1.582   \n",
              "4                236.0             3.621                2.528   \n",
              "...                ...               ...                  ...   \n",
              "2162             323.0             3.767                2.904   \n",
              "2163             351.0             3.621                2.780   \n",
              "2164             457.0             2.971                2.308   \n",
              "2165             499.0             2.221                1.696   \n",
              "2166             267.0             2.724                2.037   \n",
              "\n",
              "      3_lag_first_time_visits  3_lag_returning_visits  2_lag_page_loads  \\\n",
              "0                         NaN                     NaN               NaN   \n",
              "1                         NaN                     NaN               NaN   \n",
              "2                         NaN                     NaN             2.146   \n",
              "3                       1.430                   152.0             3.621   \n",
              "4                       2.297                   231.0             3.698   \n",
              "...                       ...                     ...               ...   \n",
              "2162                    2.477                   427.0             3.621   \n",
              "2163                    2.322                   458.0             2.971   \n",
              "2164                    1.922                   386.0             2.221   \n",
              "2165                    1.373                   323.0             2.724   \n",
              "2166                    1.686                   351.0             3.456   \n",
              "\n",
              "      2_lag_unique_visits  2_lag_first_time_visits  2_lag_returning_visits  \\\n",
              "0                     NaN                      NaN                     NaN   \n",
              "1                     NaN                      NaN                     NaN   \n",
              "2                   1.582                    1.430                   152.0   \n",
              "3                   2.528                    2.297                   231.0   \n",
              "4                   2.630                    2.352                   278.0   \n",
              "...                   ...                      ...                     ...   \n",
              "2162                2.780                    2.322                   458.0   \n",
              "2163                2.308                    1.922                   386.0   \n",
              "2164                1.696                    1.373                   323.0   \n",
              "2165                2.037                    1.686                   351.0   \n",
              "2166                2.638                    2.181                   457.0   \n",
              "\n",
              "      1_lag_page_loads  1_lag_unique_visits  1_lag_first_time_visits  \\\n",
              "0                  NaN                  NaN                      NaN   \n",
              "1                2.146                1.582                    1.430   \n",
              "2                3.621                2.528                    2.297   \n",
              "3                3.698                2.630                    2.352   \n",
              "4                3.667                2.614                    2.327   \n",
              "...                ...                  ...                      ...   \n",
              "2162             2.971                2.308                    1.922   \n",
              "2163             2.221                1.696                    1.373   \n",
              "2164             2.724                2.037                    1.686   \n",
              "2165             3.456                2.638                    2.181   \n",
              "2166             3.581                2.683                    2.184   \n",
              "\n",
              "      1_lag_returning_visits  \n",
              "0                        NaN  \n",
              "1                      152.0  \n",
              "2                      231.0  \n",
              "3                      278.0  \n",
              "4                      287.0  \n",
              "...                      ...  \n",
              "2162                   386.0  \n",
              "2163                   323.0  \n",
              "2164                   351.0  \n",
              "2165                   457.0  \n",
              "2166                   499.0  \n",
              "\n",
              "[2167 rows x 17 columns]"
            ],
            "text/html": [
              "\n",
              "  <div id=\"df-733de0b6-db30-42e3-aa64-2f9d6fc7d0ee\" class=\"colab-df-container\">\n",
              "    <div>\n",
              "<style scoped>\n",
              "    .dataframe tbody tr th:only-of-type {\n",
              "        vertical-align: middle;\n",
              "    }\n",
              "\n",
              "    .dataframe tbody tr th {\n",
              "        vertical-align: top;\n",
              "    }\n",
              "\n",
              "    .dataframe thead th {\n",
              "        text-align: right;\n",
              "    }\n",
              "</style>\n",
              "<table border=\"1\" class=\"dataframe\">\n",
              "  <thead>\n",
              "    <tr style=\"text-align: right;\">\n",
              "      <th></th>\n",
              "      <th>date</th>\n",
              "      <th>page_loads</th>\n",
              "      <th>unique_visits</th>\n",
              "      <th>first_time_visits</th>\n",
              "      <th>returning_visits</th>\n",
              "      <th>3_lag_page_loads</th>\n",
              "      <th>3_lag_unique_visits</th>\n",
              "      <th>3_lag_first_time_visits</th>\n",
              "      <th>3_lag_returning_visits</th>\n",
              "      <th>2_lag_page_loads</th>\n",
              "      <th>2_lag_unique_visits</th>\n",
              "      <th>2_lag_first_time_visits</th>\n",
              "      <th>2_lag_returning_visits</th>\n",
              "      <th>1_lag_page_loads</th>\n",
              "      <th>1_lag_unique_visits</th>\n",
              "      <th>1_lag_first_time_visits</th>\n",
              "      <th>1_lag_returning_visits</th>\n",
              "    </tr>\n",
              "  </thead>\n",
              "  <tbody>\n",
              "    <tr>\n",
              "      <th>0</th>\n",
              "      <td>9/14/2014</td>\n",
              "      <td>2.146</td>\n",
              "      <td>1.582</td>\n",
              "      <td>1.430</td>\n",
              "      <td>152.0</td>\n",
              "      <td>NaN</td>\n",
              "      <td>NaN</td>\n",
              "      <td>NaN</td>\n",
              "      <td>NaN</td>\n",
              "      <td>NaN</td>\n",
              "      <td>NaN</td>\n",
              "      <td>NaN</td>\n",
              "      <td>NaN</td>\n",
              "      <td>NaN</td>\n",
              "      <td>NaN</td>\n",
              "      <td>NaN</td>\n",
              "      <td>NaN</td>\n",
              "    </tr>\n",
              "    <tr>\n",
              "      <th>1</th>\n",
              "      <td>9/15/2014</td>\n",
              "      <td>3.621</td>\n",
              "      <td>2.528</td>\n",
              "      <td>2.297</td>\n",
              "      <td>231.0</td>\n",
              "      <td>NaN</td>\n",
              "      <td>NaN</td>\n",
              "      <td>NaN</td>\n",
              "      <td>NaN</td>\n",
              "      <td>NaN</td>\n",
              "      <td>NaN</td>\n",
              "      <td>NaN</td>\n",
              "      <td>NaN</td>\n",
              "      <td>2.146</td>\n",
              "      <td>1.582</td>\n",
              "      <td>1.430</td>\n",
              "      <td>152.0</td>\n",
              "    </tr>\n",
              "    <tr>\n",
              "      <th>2</th>\n",
              "      <td>9/16/2014</td>\n",
              "      <td>3.698</td>\n",
              "      <td>2.630</td>\n",
              "      <td>2.352</td>\n",
              "      <td>278.0</td>\n",
              "      <td>NaN</td>\n",
              "      <td>NaN</td>\n",
              "      <td>NaN</td>\n",
              "      <td>NaN</td>\n",
              "      <td>2.146</td>\n",
              "      <td>1.582</td>\n",
              "      <td>1.430</td>\n",
              "      <td>152.0</td>\n",
              "      <td>3.621</td>\n",
              "      <td>2.528</td>\n",
              "      <td>2.297</td>\n",
              "      <td>231.0</td>\n",
              "    </tr>\n",
              "    <tr>\n",
              "      <th>3</th>\n",
              "      <td>9/17/2014</td>\n",
              "      <td>3.667</td>\n",
              "      <td>2.614</td>\n",
              "      <td>2.327</td>\n",
              "      <td>287.0</td>\n",
              "      <td>2.146</td>\n",
              "      <td>1.582</td>\n",
              "      <td>1.430</td>\n",
              "      <td>152.0</td>\n",
              "      <td>3.621</td>\n",
              "      <td>2.528</td>\n",
              "      <td>2.297</td>\n",
              "      <td>231.0</td>\n",
              "      <td>3.698</td>\n",
              "      <td>2.630</td>\n",
              "      <td>2.352</td>\n",
              "      <td>278.0</td>\n",
              "    </tr>\n",
              "    <tr>\n",
              "      <th>4</th>\n",
              "      <td>9/18/2014</td>\n",
              "      <td>3.316</td>\n",
              "      <td>2.366</td>\n",
              "      <td>2.130</td>\n",
              "      <td>236.0</td>\n",
              "      <td>3.621</td>\n",
              "      <td>2.528</td>\n",
              "      <td>2.297</td>\n",
              "      <td>231.0</td>\n",
              "      <td>3.698</td>\n",
              "      <td>2.630</td>\n",
              "      <td>2.352</td>\n",
              "      <td>278.0</td>\n",
              "      <td>3.667</td>\n",
              "      <td>2.614</td>\n",
              "      <td>2.327</td>\n",
              "      <td>287.0</td>\n",
              "    </tr>\n",
              "    <tr>\n",
              "      <th>...</th>\n",
              "      <td>...</td>\n",
              "      <td>...</td>\n",
              "      <td>...</td>\n",
              "      <td>...</td>\n",
              "      <td>...</td>\n",
              "      <td>...</td>\n",
              "      <td>...</td>\n",
              "      <td>...</td>\n",
              "      <td>...</td>\n",
              "      <td>...</td>\n",
              "      <td>...</td>\n",
              "      <td>...</td>\n",
              "      <td>...</td>\n",
              "      <td>...</td>\n",
              "      <td>...</td>\n",
              "      <td>...</td>\n",
              "      <td>...</td>\n",
              "    </tr>\n",
              "    <tr>\n",
              "      <th>2162</th>\n",
              "      <td>8/15/2020</td>\n",
              "      <td>2.221</td>\n",
              "      <td>1.696</td>\n",
              "      <td>1.373</td>\n",
              "      <td>323.0</td>\n",
              "      <td>3.767</td>\n",
              "      <td>2.904</td>\n",
              "      <td>2.477</td>\n",
              "      <td>427.0</td>\n",
              "      <td>3.621</td>\n",
              "      <td>2.780</td>\n",
              "      <td>2.322</td>\n",
              "      <td>458.0</td>\n",
              "      <td>2.971</td>\n",
              "      <td>2.308</td>\n",
              "      <td>1.922</td>\n",
              "      <td>386.0</td>\n",
              "    </tr>\n",
              "    <tr>\n",
              "      <th>2163</th>\n",
              "      <td>8/16/2020</td>\n",
              "      <td>2.724</td>\n",
              "      <td>2.037</td>\n",
              "      <td>1.686</td>\n",
              "      <td>351.0</td>\n",
              "      <td>3.621</td>\n",
              "      <td>2.780</td>\n",
              "      <td>2.322</td>\n",
              "      <td>458.0</td>\n",
              "      <td>2.971</td>\n",
              "      <td>2.308</td>\n",
              "      <td>1.922</td>\n",
              "      <td>386.0</td>\n",
              "      <td>2.221</td>\n",
              "      <td>1.696</td>\n",
              "      <td>1.373</td>\n",
              "      <td>323.0</td>\n",
              "    </tr>\n",
              "    <tr>\n",
              "      <th>2164</th>\n",
              "      <td>8/17/2020</td>\n",
              "      <td>3.456</td>\n",
              "      <td>2.638</td>\n",
              "      <td>2.181</td>\n",
              "      <td>457.0</td>\n",
              "      <td>2.971</td>\n",
              "      <td>2.308</td>\n",
              "      <td>1.922</td>\n",
              "      <td>386.0</td>\n",
              "      <td>2.221</td>\n",
              "      <td>1.696</td>\n",
              "      <td>1.373</td>\n",
              "      <td>323.0</td>\n",
              "      <td>2.724</td>\n",
              "      <td>2.037</td>\n",
              "      <td>1.686</td>\n",
              "      <td>351.0</td>\n",
              "    </tr>\n",
              "    <tr>\n",
              "      <th>2165</th>\n",
              "      <td>8/18/2020</td>\n",
              "      <td>3.581</td>\n",
              "      <td>2.683</td>\n",
              "      <td>2.184</td>\n",
              "      <td>499.0</td>\n",
              "      <td>2.221</td>\n",
              "      <td>1.696</td>\n",
              "      <td>1.373</td>\n",
              "      <td>323.0</td>\n",
              "      <td>2.724</td>\n",
              "      <td>2.037</td>\n",
              "      <td>1.686</td>\n",
              "      <td>351.0</td>\n",
              "      <td>3.456</td>\n",
              "      <td>2.638</td>\n",
              "      <td>2.181</td>\n",
              "      <td>457.0</td>\n",
              "    </tr>\n",
              "    <tr>\n",
              "      <th>2166</th>\n",
              "      <td>8/19/2020</td>\n",
              "      <td>2.064</td>\n",
              "      <td>1.564</td>\n",
              "      <td>1.297</td>\n",
              "      <td>267.0</td>\n",
              "      <td>2.724</td>\n",
              "      <td>2.037</td>\n",
              "      <td>1.686</td>\n",
              "      <td>351.0</td>\n",
              "      <td>3.456</td>\n",
              "      <td>2.638</td>\n",
              "      <td>2.181</td>\n",
              "      <td>457.0</td>\n",
              "      <td>3.581</td>\n",
              "      <td>2.683</td>\n",
              "      <td>2.184</td>\n",
              "      <td>499.0</td>\n",
              "    </tr>\n",
              "  </tbody>\n",
              "</table>\n",
              "<p>2167 rows × 17 columns</p>\n",
              "</div>\n",
              "    <div class=\"colab-df-buttons\">\n",
              "\n",
              "  <div class=\"colab-df-container\">\n",
              "    <button class=\"colab-df-convert\" onclick=\"convertToInteractive('df-733de0b6-db30-42e3-aa64-2f9d6fc7d0ee')\"\n",
              "            title=\"Convert this dataframe to an interactive table.\"\n",
              "            style=\"display:none;\">\n",
              "\n",
              "  <svg xmlns=\"http://www.w3.org/2000/svg\" height=\"24px\" viewBox=\"0 -960 960 960\">\n",
              "    <path d=\"M120-120v-720h720v720H120Zm60-500h600v-160H180v160Zm220 220h160v-160H400v160Zm0 220h160v-160H400v160ZM180-400h160v-160H180v160Zm440 0h160v-160H620v160ZM180-180h160v-160H180v160Zm440 0h160v-160H620v160Z\"/>\n",
              "  </svg>\n",
              "    </button>\n",
              "\n",
              "  <style>\n",
              "    .colab-df-container {\n",
              "      display:flex;\n",
              "      gap: 12px;\n",
              "    }\n",
              "\n",
              "    .colab-df-convert {\n",
              "      background-color: #E8F0FE;\n",
              "      border: none;\n",
              "      border-radius: 50%;\n",
              "      cursor: pointer;\n",
              "      display: none;\n",
              "      fill: #1967D2;\n",
              "      height: 32px;\n",
              "      padding: 0 0 0 0;\n",
              "      width: 32px;\n",
              "    }\n",
              "\n",
              "    .colab-df-convert:hover {\n",
              "      background-color: #E2EBFA;\n",
              "      box-shadow: 0px 1px 2px rgba(60, 64, 67, 0.3), 0px 1px 3px 1px rgba(60, 64, 67, 0.15);\n",
              "      fill: #174EA6;\n",
              "    }\n",
              "\n",
              "    .colab-df-buttons div {\n",
              "      margin-bottom: 4px;\n",
              "    }\n",
              "\n",
              "    [theme=dark] .colab-df-convert {\n",
              "      background-color: #3B4455;\n",
              "      fill: #D2E3FC;\n",
              "    }\n",
              "\n",
              "    [theme=dark] .colab-df-convert:hover {\n",
              "      background-color: #434B5C;\n",
              "      box-shadow: 0px 1px 3px 1px rgba(0, 0, 0, 0.15);\n",
              "      filter: drop-shadow(0px 1px 2px rgba(0, 0, 0, 0.3));\n",
              "      fill: #FFFFFF;\n",
              "    }\n",
              "  </style>\n",
              "\n",
              "    <script>\n",
              "      const buttonEl =\n",
              "        document.querySelector('#df-733de0b6-db30-42e3-aa64-2f9d6fc7d0ee button.colab-df-convert');\n",
              "      buttonEl.style.display =\n",
              "        google.colab.kernel.accessAllowed ? 'block' : 'none';\n",
              "\n",
              "      async function convertToInteractive(key) {\n",
              "        const element = document.querySelector('#df-733de0b6-db30-42e3-aa64-2f9d6fc7d0ee');\n",
              "        const dataTable =\n",
              "          await google.colab.kernel.invokeFunction('convertToInteractive',\n",
              "                                                    [key], {});\n",
              "        if (!dataTable) return;\n",
              "\n",
              "        const docLinkHtml = 'Like what you see? Visit the ' +\n",
              "          '<a target=\"_blank\" href=https://colab.research.google.com/notebooks/data_table.ipynb>data table notebook</a>'\n",
              "          + ' to learn more about interactive tables.';\n",
              "        element.innerHTML = '';\n",
              "        dataTable['output_type'] = 'display_data';\n",
              "        await google.colab.output.renderOutput(dataTable, element);\n",
              "        const docLink = document.createElement('div');\n",
              "        docLink.innerHTML = docLinkHtml;\n",
              "        element.appendChild(docLink);\n",
              "      }\n",
              "    </script>\n",
              "  </div>\n",
              "\n",
              "\n",
              "<div id=\"df-a3fc77ac-705d-464d-a06b-ed54876859a4\">\n",
              "  <button class=\"colab-df-quickchart\" onclick=\"quickchart('df-a3fc77ac-705d-464d-a06b-ed54876859a4')\"\n",
              "            title=\"Suggest charts\"\n",
              "            style=\"display:none;\">\n",
              "\n",
              "<svg xmlns=\"http://www.w3.org/2000/svg\" height=\"24px\"viewBox=\"0 0 24 24\"\n",
              "     width=\"24px\">\n",
              "    <g>\n",
              "        <path d=\"M19 3H5c-1.1 0-2 .9-2 2v14c0 1.1.9 2 2 2h14c1.1 0 2-.9 2-2V5c0-1.1-.9-2-2-2zM9 17H7v-7h2v7zm4 0h-2V7h2v10zm4 0h-2v-4h2v4z\"/>\n",
              "    </g>\n",
              "</svg>\n",
              "  </button>\n",
              "\n",
              "<style>\n",
              "  .colab-df-quickchart {\n",
              "      --bg-color: #E8F0FE;\n",
              "      --fill-color: #1967D2;\n",
              "      --hover-bg-color: #E2EBFA;\n",
              "      --hover-fill-color: #174EA6;\n",
              "      --disabled-fill-color: #AAA;\n",
              "      --disabled-bg-color: #DDD;\n",
              "  }\n",
              "\n",
              "  [theme=dark] .colab-df-quickchart {\n",
              "      --bg-color: #3B4455;\n",
              "      --fill-color: #D2E3FC;\n",
              "      --hover-bg-color: #434B5C;\n",
              "      --hover-fill-color: #FFFFFF;\n",
              "      --disabled-bg-color: #3B4455;\n",
              "      --disabled-fill-color: #666;\n",
              "  }\n",
              "\n",
              "  .colab-df-quickchart {\n",
              "    background-color: var(--bg-color);\n",
              "    border: none;\n",
              "    border-radius: 50%;\n",
              "    cursor: pointer;\n",
              "    display: none;\n",
              "    fill: var(--fill-color);\n",
              "    height: 32px;\n",
              "    padding: 0;\n",
              "    width: 32px;\n",
              "  }\n",
              "\n",
              "  .colab-df-quickchart:hover {\n",
              "    background-color: var(--hover-bg-color);\n",
              "    box-shadow: 0 1px 2px rgba(60, 64, 67, 0.3), 0 1px 3px 1px rgba(60, 64, 67, 0.15);\n",
              "    fill: var(--button-hover-fill-color);\n",
              "  }\n",
              "\n",
              "  .colab-df-quickchart-complete:disabled,\n",
              "  .colab-df-quickchart-complete:disabled:hover {\n",
              "    background-color: var(--disabled-bg-color);\n",
              "    fill: var(--disabled-fill-color);\n",
              "    box-shadow: none;\n",
              "  }\n",
              "\n",
              "  .colab-df-spinner {\n",
              "    border: 2px solid var(--fill-color);\n",
              "    border-color: transparent;\n",
              "    border-bottom-color: var(--fill-color);\n",
              "    animation:\n",
              "      spin 1s steps(1) infinite;\n",
              "  }\n",
              "\n",
              "  @keyframes spin {\n",
              "    0% {\n",
              "      border-color: transparent;\n",
              "      border-bottom-color: var(--fill-color);\n",
              "      border-left-color: var(--fill-color);\n",
              "    }\n",
              "    20% {\n",
              "      border-color: transparent;\n",
              "      border-left-color: var(--fill-color);\n",
              "      border-top-color: var(--fill-color);\n",
              "    }\n",
              "    30% {\n",
              "      border-color: transparent;\n",
              "      border-left-color: var(--fill-color);\n",
              "      border-top-color: var(--fill-color);\n",
              "      border-right-color: var(--fill-color);\n",
              "    }\n",
              "    40% {\n",
              "      border-color: transparent;\n",
              "      border-right-color: var(--fill-color);\n",
              "      border-top-color: var(--fill-color);\n",
              "    }\n",
              "    60% {\n",
              "      border-color: transparent;\n",
              "      border-right-color: var(--fill-color);\n",
              "    }\n",
              "    80% {\n",
              "      border-color: transparent;\n",
              "      border-right-color: var(--fill-color);\n",
              "      border-bottom-color: var(--fill-color);\n",
              "    }\n",
              "    90% {\n",
              "      border-color: transparent;\n",
              "      border-bottom-color: var(--fill-color);\n",
              "    }\n",
              "  }\n",
              "</style>\n",
              "\n",
              "  <script>\n",
              "    async function quickchart(key) {\n",
              "      const quickchartButtonEl =\n",
              "        document.querySelector('#' + key + ' button');\n",
              "      quickchartButtonEl.disabled = true;  // To prevent multiple clicks.\n",
              "      quickchartButtonEl.classList.add('colab-df-spinner');\n",
              "      try {\n",
              "        const charts = await google.colab.kernel.invokeFunction(\n",
              "            'suggestCharts', [key], {});\n",
              "      } catch (error) {\n",
              "        console.error('Error during call to suggestCharts:', error);\n",
              "      }\n",
              "      quickchartButtonEl.classList.remove('colab-df-spinner');\n",
              "      quickchartButtonEl.classList.add('colab-df-quickchart-complete');\n",
              "    }\n",
              "    (() => {\n",
              "      let quickchartButtonEl =\n",
              "        document.querySelector('#df-a3fc77ac-705d-464d-a06b-ed54876859a4 button');\n",
              "      quickchartButtonEl.style.display =\n",
              "        google.colab.kernel.accessAllowed ? 'block' : 'none';\n",
              "    })();\n",
              "  </script>\n",
              "</div>\n",
              "    </div>\n",
              "  </div>\n"
            ]
          },
          "metadata": {},
          "execution_count": 17
        }
      ]
    },
    {
      "cell_type": "code",
      "source": [
        "for col in [3,2,1]:  # Include lag 1, 2, and 3\n",
        "    for feature in columns_to_shift:\n",
        "        data[f'{col}_lag_{feature}'] = data[feature].shift(col)"
      ],
      "metadata": {
        "id": "w6vS0S-ucgsZ"
      },
      "execution_count": null,
      "outputs": []
    },
    {
      "cell_type": "code",
      "source": [
        "data = data.dropna()"
      ],
      "metadata": {
        "id": "LmJM2UFvcg0S"
      },
      "execution_count": null,
      "outputs": []
    },
    {
      "cell_type": "code",
      "source": [
        "data = data.drop(columns=['date'])"
      ],
      "metadata": {
        "id": "Iif3h6RDc4VW"
      },
      "execution_count": null,
      "outputs": []
    },
    {
      "cell_type": "code",
      "source": [
        "data"
      ],
      "metadata": {
        "colab": {
          "base_uri": "https://localhost:8080/",
          "height": 443
        },
        "id": "zFABuJnzc4Yh",
        "outputId": "094614f6-ec3c-4150-f990-696e9fe3e812"
      },
      "execution_count": null,
      "outputs": [
        {
          "output_type": "execute_result",
          "data": {
            "text/plain": [
              "      page_loads  unique_visits  first_time_visits  returning_visits  \\\n",
              "3          3.667          2.614              2.327             287.0   \n",
              "4          3.316          2.366              2.130             236.0   \n",
              "5          2.815          1.863              1.622             241.0   \n",
              "6          1.658          1.118            985.000             133.0   \n",
              "7          2.288          1.656              1.481             175.0   \n",
              "...          ...            ...                ...               ...   \n",
              "2162       2.221          1.696              1.373             323.0   \n",
              "2163       2.724          2.037              1.686             351.0   \n",
              "2164       3.456          2.638              2.181             457.0   \n",
              "2165       3.581          2.683              2.184             499.0   \n",
              "2166       2.064          1.564              1.297             267.0   \n",
              "\n",
              "      3_lag_page_loads  3_lag_unique_visits  3_lag_first_time_visits  \\\n",
              "3                2.146                1.582                    1.430   \n",
              "4                3.621                2.528                    2.297   \n",
              "5                3.698                2.630                    2.352   \n",
              "6                3.667                2.614                    2.327   \n",
              "7                3.316                2.366                    2.130   \n",
              "...                ...                  ...                      ...   \n",
              "2162             3.767                2.904                    2.477   \n",
              "2163             3.621                2.780                    2.322   \n",
              "2164             2.971                2.308                    1.922   \n",
              "2165             2.221                1.696                    1.373   \n",
              "2166             2.724                2.037                    1.686   \n",
              "\n",
              "      3_lag_returning_visits  2_lag_page_loads  2_lag_unique_visits  \\\n",
              "3                      152.0             3.621                2.528   \n",
              "4                      231.0             3.698                2.630   \n",
              "5                      278.0             3.667                2.614   \n",
              "6                      287.0             3.316                2.366   \n",
              "7                      236.0             2.815                1.863   \n",
              "...                      ...               ...                  ...   \n",
              "2162                   427.0             3.621                2.780   \n",
              "2163                   458.0             2.971                2.308   \n",
              "2164                   386.0             2.221                1.696   \n",
              "2165                   323.0             2.724                2.037   \n",
              "2166                   351.0             3.456                2.638   \n",
              "\n",
              "      2_lag_first_time_visits  2_lag_returning_visits  1_lag_page_loads  \\\n",
              "3                       2.297                   231.0             3.698   \n",
              "4                       2.352                   278.0             3.667   \n",
              "5                       2.327                   287.0             3.316   \n",
              "6                       2.130                   236.0             2.815   \n",
              "7                       1.622                   241.0             1.658   \n",
              "...                       ...                     ...               ...   \n",
              "2162                    2.322                   458.0             2.971   \n",
              "2163                    1.922                   386.0             2.221   \n",
              "2164                    1.373                   323.0             2.724   \n",
              "2165                    1.686                   351.0             3.456   \n",
              "2166                    2.181                   457.0             3.581   \n",
              "\n",
              "      1_lag_unique_visits  1_lag_first_time_visits  1_lag_returning_visits  \n",
              "3                   2.630                    2.352                   278.0  \n",
              "4                   2.614                    2.327                   287.0  \n",
              "5                   2.366                    2.130                   236.0  \n",
              "6                   1.863                    1.622                   241.0  \n",
              "7                   1.118                  985.000                   133.0  \n",
              "...                   ...                      ...                     ...  \n",
              "2162                2.308                    1.922                   386.0  \n",
              "2163                1.696                    1.373                   323.0  \n",
              "2164                2.037                    1.686                   351.0  \n",
              "2165                2.638                    2.181                   457.0  \n",
              "2166                2.683                    2.184                   499.0  \n",
              "\n",
              "[2164 rows x 16 columns]"
            ],
            "text/html": [
              "\n",
              "  <div id=\"df-f4af2c39-3da7-476f-862e-934ecbfbfa34\" class=\"colab-df-container\">\n",
              "    <div>\n",
              "<style scoped>\n",
              "    .dataframe tbody tr th:only-of-type {\n",
              "        vertical-align: middle;\n",
              "    }\n",
              "\n",
              "    .dataframe tbody tr th {\n",
              "        vertical-align: top;\n",
              "    }\n",
              "\n",
              "    .dataframe thead th {\n",
              "        text-align: right;\n",
              "    }\n",
              "</style>\n",
              "<table border=\"1\" class=\"dataframe\">\n",
              "  <thead>\n",
              "    <tr style=\"text-align: right;\">\n",
              "      <th></th>\n",
              "      <th>page_loads</th>\n",
              "      <th>unique_visits</th>\n",
              "      <th>first_time_visits</th>\n",
              "      <th>returning_visits</th>\n",
              "      <th>3_lag_page_loads</th>\n",
              "      <th>3_lag_unique_visits</th>\n",
              "      <th>3_lag_first_time_visits</th>\n",
              "      <th>3_lag_returning_visits</th>\n",
              "      <th>2_lag_page_loads</th>\n",
              "      <th>2_lag_unique_visits</th>\n",
              "      <th>2_lag_first_time_visits</th>\n",
              "      <th>2_lag_returning_visits</th>\n",
              "      <th>1_lag_page_loads</th>\n",
              "      <th>1_lag_unique_visits</th>\n",
              "      <th>1_lag_first_time_visits</th>\n",
              "      <th>1_lag_returning_visits</th>\n",
              "    </tr>\n",
              "  </thead>\n",
              "  <tbody>\n",
              "    <tr>\n",
              "      <th>3</th>\n",
              "      <td>3.667</td>\n",
              "      <td>2.614</td>\n",
              "      <td>2.327</td>\n",
              "      <td>287.0</td>\n",
              "      <td>2.146</td>\n",
              "      <td>1.582</td>\n",
              "      <td>1.430</td>\n",
              "      <td>152.0</td>\n",
              "      <td>3.621</td>\n",
              "      <td>2.528</td>\n",
              "      <td>2.297</td>\n",
              "      <td>231.0</td>\n",
              "      <td>3.698</td>\n",
              "      <td>2.630</td>\n",
              "      <td>2.352</td>\n",
              "      <td>278.0</td>\n",
              "    </tr>\n",
              "    <tr>\n",
              "      <th>4</th>\n",
              "      <td>3.316</td>\n",
              "      <td>2.366</td>\n",
              "      <td>2.130</td>\n",
              "      <td>236.0</td>\n",
              "      <td>3.621</td>\n",
              "      <td>2.528</td>\n",
              "      <td>2.297</td>\n",
              "      <td>231.0</td>\n",
              "      <td>3.698</td>\n",
              "      <td>2.630</td>\n",
              "      <td>2.352</td>\n",
              "      <td>278.0</td>\n",
              "      <td>3.667</td>\n",
              "      <td>2.614</td>\n",
              "      <td>2.327</td>\n",
              "      <td>287.0</td>\n",
              "    </tr>\n",
              "    <tr>\n",
              "      <th>5</th>\n",
              "      <td>2.815</td>\n",
              "      <td>1.863</td>\n",
              "      <td>1.622</td>\n",
              "      <td>241.0</td>\n",
              "      <td>3.698</td>\n",
              "      <td>2.630</td>\n",
              "      <td>2.352</td>\n",
              "      <td>278.0</td>\n",
              "      <td>3.667</td>\n",
              "      <td>2.614</td>\n",
              "      <td>2.327</td>\n",
              "      <td>287.0</td>\n",
              "      <td>3.316</td>\n",
              "      <td>2.366</td>\n",
              "      <td>2.130</td>\n",
              "      <td>236.0</td>\n",
              "    </tr>\n",
              "    <tr>\n",
              "      <th>6</th>\n",
              "      <td>1.658</td>\n",
              "      <td>1.118</td>\n",
              "      <td>985.000</td>\n",
              "      <td>133.0</td>\n",
              "      <td>3.667</td>\n",
              "      <td>2.614</td>\n",
              "      <td>2.327</td>\n",
              "      <td>287.0</td>\n",
              "      <td>3.316</td>\n",
              "      <td>2.366</td>\n",
              "      <td>2.130</td>\n",
              "      <td>236.0</td>\n",
              "      <td>2.815</td>\n",
              "      <td>1.863</td>\n",
              "      <td>1.622</td>\n",
              "      <td>241.0</td>\n",
              "    </tr>\n",
              "    <tr>\n",
              "      <th>7</th>\n",
              "      <td>2.288</td>\n",
              "      <td>1.656</td>\n",
              "      <td>1.481</td>\n",
              "      <td>175.0</td>\n",
              "      <td>3.316</td>\n",
              "      <td>2.366</td>\n",
              "      <td>2.130</td>\n",
              "      <td>236.0</td>\n",
              "      <td>2.815</td>\n",
              "      <td>1.863</td>\n",
              "      <td>1.622</td>\n",
              "      <td>241.0</td>\n",
              "      <td>1.658</td>\n",
              "      <td>1.118</td>\n",
              "      <td>985.000</td>\n",
              "      <td>133.0</td>\n",
              "    </tr>\n",
              "    <tr>\n",
              "      <th>...</th>\n",
              "      <td>...</td>\n",
              "      <td>...</td>\n",
              "      <td>...</td>\n",
              "      <td>...</td>\n",
              "      <td>...</td>\n",
              "      <td>...</td>\n",
              "      <td>...</td>\n",
              "      <td>...</td>\n",
              "      <td>...</td>\n",
              "      <td>...</td>\n",
              "      <td>...</td>\n",
              "      <td>...</td>\n",
              "      <td>...</td>\n",
              "      <td>...</td>\n",
              "      <td>...</td>\n",
              "      <td>...</td>\n",
              "    </tr>\n",
              "    <tr>\n",
              "      <th>2162</th>\n",
              "      <td>2.221</td>\n",
              "      <td>1.696</td>\n",
              "      <td>1.373</td>\n",
              "      <td>323.0</td>\n",
              "      <td>3.767</td>\n",
              "      <td>2.904</td>\n",
              "      <td>2.477</td>\n",
              "      <td>427.0</td>\n",
              "      <td>3.621</td>\n",
              "      <td>2.780</td>\n",
              "      <td>2.322</td>\n",
              "      <td>458.0</td>\n",
              "      <td>2.971</td>\n",
              "      <td>2.308</td>\n",
              "      <td>1.922</td>\n",
              "      <td>386.0</td>\n",
              "    </tr>\n",
              "    <tr>\n",
              "      <th>2163</th>\n",
              "      <td>2.724</td>\n",
              "      <td>2.037</td>\n",
              "      <td>1.686</td>\n",
              "      <td>351.0</td>\n",
              "      <td>3.621</td>\n",
              "      <td>2.780</td>\n",
              "      <td>2.322</td>\n",
              "      <td>458.0</td>\n",
              "      <td>2.971</td>\n",
              "      <td>2.308</td>\n",
              "      <td>1.922</td>\n",
              "      <td>386.0</td>\n",
              "      <td>2.221</td>\n",
              "      <td>1.696</td>\n",
              "      <td>1.373</td>\n",
              "      <td>323.0</td>\n",
              "    </tr>\n",
              "    <tr>\n",
              "      <th>2164</th>\n",
              "      <td>3.456</td>\n",
              "      <td>2.638</td>\n",
              "      <td>2.181</td>\n",
              "      <td>457.0</td>\n",
              "      <td>2.971</td>\n",
              "      <td>2.308</td>\n",
              "      <td>1.922</td>\n",
              "      <td>386.0</td>\n",
              "      <td>2.221</td>\n",
              "      <td>1.696</td>\n",
              "      <td>1.373</td>\n",
              "      <td>323.0</td>\n",
              "      <td>2.724</td>\n",
              "      <td>2.037</td>\n",
              "      <td>1.686</td>\n",
              "      <td>351.0</td>\n",
              "    </tr>\n",
              "    <tr>\n",
              "      <th>2165</th>\n",
              "      <td>3.581</td>\n",
              "      <td>2.683</td>\n",
              "      <td>2.184</td>\n",
              "      <td>499.0</td>\n",
              "      <td>2.221</td>\n",
              "      <td>1.696</td>\n",
              "      <td>1.373</td>\n",
              "      <td>323.0</td>\n",
              "      <td>2.724</td>\n",
              "      <td>2.037</td>\n",
              "      <td>1.686</td>\n",
              "      <td>351.0</td>\n",
              "      <td>3.456</td>\n",
              "      <td>2.638</td>\n",
              "      <td>2.181</td>\n",
              "      <td>457.0</td>\n",
              "    </tr>\n",
              "    <tr>\n",
              "      <th>2166</th>\n",
              "      <td>2.064</td>\n",
              "      <td>1.564</td>\n",
              "      <td>1.297</td>\n",
              "      <td>267.0</td>\n",
              "      <td>2.724</td>\n",
              "      <td>2.037</td>\n",
              "      <td>1.686</td>\n",
              "      <td>351.0</td>\n",
              "      <td>3.456</td>\n",
              "      <td>2.638</td>\n",
              "      <td>2.181</td>\n",
              "      <td>457.0</td>\n",
              "      <td>3.581</td>\n",
              "      <td>2.683</td>\n",
              "      <td>2.184</td>\n",
              "      <td>499.0</td>\n",
              "    </tr>\n",
              "  </tbody>\n",
              "</table>\n",
              "<p>2164 rows × 16 columns</p>\n",
              "</div>\n",
              "    <div class=\"colab-df-buttons\">\n",
              "\n",
              "  <div class=\"colab-df-container\">\n",
              "    <button class=\"colab-df-convert\" onclick=\"convertToInteractive('df-f4af2c39-3da7-476f-862e-934ecbfbfa34')\"\n",
              "            title=\"Convert this dataframe to an interactive table.\"\n",
              "            style=\"display:none;\">\n",
              "\n",
              "  <svg xmlns=\"http://www.w3.org/2000/svg\" height=\"24px\" viewBox=\"0 -960 960 960\">\n",
              "    <path d=\"M120-120v-720h720v720H120Zm60-500h600v-160H180v160Zm220 220h160v-160H400v160Zm0 220h160v-160H400v160ZM180-400h160v-160H180v160Zm440 0h160v-160H620v160ZM180-180h160v-160H180v160Zm440 0h160v-160H620v160Z\"/>\n",
              "  </svg>\n",
              "    </button>\n",
              "\n",
              "  <style>\n",
              "    .colab-df-container {\n",
              "      display:flex;\n",
              "      gap: 12px;\n",
              "    }\n",
              "\n",
              "    .colab-df-convert {\n",
              "      background-color: #E8F0FE;\n",
              "      border: none;\n",
              "      border-radius: 50%;\n",
              "      cursor: pointer;\n",
              "      display: none;\n",
              "      fill: #1967D2;\n",
              "      height: 32px;\n",
              "      padding: 0 0 0 0;\n",
              "      width: 32px;\n",
              "    }\n",
              "\n",
              "    .colab-df-convert:hover {\n",
              "      background-color: #E2EBFA;\n",
              "      box-shadow: 0px 1px 2px rgba(60, 64, 67, 0.3), 0px 1px 3px 1px rgba(60, 64, 67, 0.15);\n",
              "      fill: #174EA6;\n",
              "    }\n",
              "\n",
              "    .colab-df-buttons div {\n",
              "      margin-bottom: 4px;\n",
              "    }\n",
              "\n",
              "    [theme=dark] .colab-df-convert {\n",
              "      background-color: #3B4455;\n",
              "      fill: #D2E3FC;\n",
              "    }\n",
              "\n",
              "    [theme=dark] .colab-df-convert:hover {\n",
              "      background-color: #434B5C;\n",
              "      box-shadow: 0px 1px 3px 1px rgba(0, 0, 0, 0.15);\n",
              "      filter: drop-shadow(0px 1px 2px rgba(0, 0, 0, 0.3));\n",
              "      fill: #FFFFFF;\n",
              "    }\n",
              "  </style>\n",
              "\n",
              "    <script>\n",
              "      const buttonEl =\n",
              "        document.querySelector('#df-f4af2c39-3da7-476f-862e-934ecbfbfa34 button.colab-df-convert');\n",
              "      buttonEl.style.display =\n",
              "        google.colab.kernel.accessAllowed ? 'block' : 'none';\n",
              "\n",
              "      async function convertToInteractive(key) {\n",
              "        const element = document.querySelector('#df-f4af2c39-3da7-476f-862e-934ecbfbfa34');\n",
              "        const dataTable =\n",
              "          await google.colab.kernel.invokeFunction('convertToInteractive',\n",
              "                                                    [key], {});\n",
              "        if (!dataTable) return;\n",
              "\n",
              "        const docLinkHtml = 'Like what you see? Visit the ' +\n",
              "          '<a target=\"_blank\" href=https://colab.research.google.com/notebooks/data_table.ipynb>data table notebook</a>'\n",
              "          + ' to learn more about interactive tables.';\n",
              "        element.innerHTML = '';\n",
              "        dataTable['output_type'] = 'display_data';\n",
              "        await google.colab.output.renderOutput(dataTable, element);\n",
              "        const docLink = document.createElement('div');\n",
              "        docLink.innerHTML = docLinkHtml;\n",
              "        element.appendChild(docLink);\n",
              "      }\n",
              "    </script>\n",
              "  </div>\n",
              "\n",
              "\n",
              "<div id=\"df-5e58c9c2-222f-4f63-8926-705d34e5218b\">\n",
              "  <button class=\"colab-df-quickchart\" onclick=\"quickchart('df-5e58c9c2-222f-4f63-8926-705d34e5218b')\"\n",
              "            title=\"Suggest charts\"\n",
              "            style=\"display:none;\">\n",
              "\n",
              "<svg xmlns=\"http://www.w3.org/2000/svg\" height=\"24px\"viewBox=\"0 0 24 24\"\n",
              "     width=\"24px\">\n",
              "    <g>\n",
              "        <path d=\"M19 3H5c-1.1 0-2 .9-2 2v14c0 1.1.9 2 2 2h14c1.1 0 2-.9 2-2V5c0-1.1-.9-2-2-2zM9 17H7v-7h2v7zm4 0h-2V7h2v10zm4 0h-2v-4h2v4z\"/>\n",
              "    </g>\n",
              "</svg>\n",
              "  </button>\n",
              "\n",
              "<style>\n",
              "  .colab-df-quickchart {\n",
              "      --bg-color: #E8F0FE;\n",
              "      --fill-color: #1967D2;\n",
              "      --hover-bg-color: #E2EBFA;\n",
              "      --hover-fill-color: #174EA6;\n",
              "      --disabled-fill-color: #AAA;\n",
              "      --disabled-bg-color: #DDD;\n",
              "  }\n",
              "\n",
              "  [theme=dark] .colab-df-quickchart {\n",
              "      --bg-color: #3B4455;\n",
              "      --fill-color: #D2E3FC;\n",
              "      --hover-bg-color: #434B5C;\n",
              "      --hover-fill-color: #FFFFFF;\n",
              "      --disabled-bg-color: #3B4455;\n",
              "      --disabled-fill-color: #666;\n",
              "  }\n",
              "\n",
              "  .colab-df-quickchart {\n",
              "    background-color: var(--bg-color);\n",
              "    border: none;\n",
              "    border-radius: 50%;\n",
              "    cursor: pointer;\n",
              "    display: none;\n",
              "    fill: var(--fill-color);\n",
              "    height: 32px;\n",
              "    padding: 0;\n",
              "    width: 32px;\n",
              "  }\n",
              "\n",
              "  .colab-df-quickchart:hover {\n",
              "    background-color: var(--hover-bg-color);\n",
              "    box-shadow: 0 1px 2px rgba(60, 64, 67, 0.3), 0 1px 3px 1px rgba(60, 64, 67, 0.15);\n",
              "    fill: var(--button-hover-fill-color);\n",
              "  }\n",
              "\n",
              "  .colab-df-quickchart-complete:disabled,\n",
              "  .colab-df-quickchart-complete:disabled:hover {\n",
              "    background-color: var(--disabled-bg-color);\n",
              "    fill: var(--disabled-fill-color);\n",
              "    box-shadow: none;\n",
              "  }\n",
              "\n",
              "  .colab-df-spinner {\n",
              "    border: 2px solid var(--fill-color);\n",
              "    border-color: transparent;\n",
              "    border-bottom-color: var(--fill-color);\n",
              "    animation:\n",
              "      spin 1s steps(1) infinite;\n",
              "  }\n",
              "\n",
              "  @keyframes spin {\n",
              "    0% {\n",
              "      border-color: transparent;\n",
              "      border-bottom-color: var(--fill-color);\n",
              "      border-left-color: var(--fill-color);\n",
              "    }\n",
              "    20% {\n",
              "      border-color: transparent;\n",
              "      border-left-color: var(--fill-color);\n",
              "      border-top-color: var(--fill-color);\n",
              "    }\n",
              "    30% {\n",
              "      border-color: transparent;\n",
              "      border-left-color: var(--fill-color);\n",
              "      border-top-color: var(--fill-color);\n",
              "      border-right-color: var(--fill-color);\n",
              "    }\n",
              "    40% {\n",
              "      border-color: transparent;\n",
              "      border-right-color: var(--fill-color);\n",
              "      border-top-color: var(--fill-color);\n",
              "    }\n",
              "    60% {\n",
              "      border-color: transparent;\n",
              "      border-right-color: var(--fill-color);\n",
              "    }\n",
              "    80% {\n",
              "      border-color: transparent;\n",
              "      border-right-color: var(--fill-color);\n",
              "      border-bottom-color: var(--fill-color);\n",
              "    }\n",
              "    90% {\n",
              "      border-color: transparent;\n",
              "      border-bottom-color: var(--fill-color);\n",
              "    }\n",
              "  }\n",
              "</style>\n",
              "\n",
              "  <script>\n",
              "    async function quickchart(key) {\n",
              "      const quickchartButtonEl =\n",
              "        document.querySelector('#' + key + ' button');\n",
              "      quickchartButtonEl.disabled = true;  // To prevent multiple clicks.\n",
              "      quickchartButtonEl.classList.add('colab-df-spinner');\n",
              "      try {\n",
              "        const charts = await google.colab.kernel.invokeFunction(\n",
              "            'suggestCharts', [key], {});\n",
              "      } catch (error) {\n",
              "        console.error('Error during call to suggestCharts:', error);\n",
              "      }\n",
              "      quickchartButtonEl.classList.remove('colab-df-spinner');\n",
              "      quickchartButtonEl.classList.add('colab-df-quickchart-complete');\n",
              "    }\n",
              "    (() => {\n",
              "      let quickchartButtonEl =\n",
              "        document.querySelector('#df-5e58c9c2-222f-4f63-8926-705d34e5218b button');\n",
              "      quickchartButtonEl.style.display =\n",
              "        google.colab.kernel.accessAllowed ? 'block' : 'none';\n",
              "    })();\n",
              "  </script>\n",
              "</div>\n",
              "    </div>\n",
              "  </div>\n"
            ]
          },
          "metadata": {},
          "execution_count": 20
        }
      ]
    },
    {
      "cell_type": "markdown",
      "source": [
        "## Dataset Splitting\n",
        "Partition the dataset into training and testing sets with an 80:20 ratio.\n",
        "\n",
        "**WARNING: DO NOT SHUFFLE THE DATASET.**\n",
        "\n"
      ],
      "metadata": {
        "id": "tls69_PrbJKW"
      }
    },
    {
      "cell_type": "code",
      "source": [
        "# Write your code here. Add as many boxes as you need.\n",
        "X, Y = data.drop(columns=['page_loads']), data['page_loads']\n",
        "X_train, X_test, Y_train, Y_test = train_test_split(X, Y, test_size=0.2, shuffle=False)"
      ],
      "metadata": {
        "id": "PjGGGMxebeoB"
      },
      "execution_count": null,
      "outputs": []
    },
    {
      "cell_type": "markdown",
      "source": [
        "## Feauture Scaling\n",
        "Scale the extracted features using an appropriate scaler."
      ],
      "metadata": {
        "id": "lwhDHS-nRRhW"
      }
    },
    {
      "cell_type": "code",
      "source": [
        "# Write your code here. Add as many boxes as you need.\n",
        "scaler = MinMaxScaler()\n",
        "scaler.fit(X_train)\n",
        "X_train = scaler.transform(X_train)\n",
        "X_test = scaler.transform(X_test)\n",
        "Y_train = scaler.fit_transform(Y_train.values.reshape(-1, 1))"
      ],
      "metadata": {
        "id": "xlvbs68wRaVj"
      },
      "execution_count": null,
      "outputs": []
    },
    {
      "cell_type": "markdown",
      "source": [
        "## Feature Reshaping"
      ],
      "metadata": {
        "id": "xI53ZRmfW8WG"
      }
    },
    {
      "cell_type": "markdown",
      "source": [
        "Reshape the feature dimensions into the shape `(samples, timesteps, features)`."
      ],
      "metadata": {
        "id": "sK9naW8AXVaU"
      }
    },
    {
      "cell_type": "code",
      "source": [
        "# Write your code here. Add as many boxes as you need.\n",
        "X_train = X_train.reshape(X_train.shape[0], X_train.shape[1], 1)\n",
        "X_test = X_test.reshape(X_test.shape[0], X_test.shape[1], 1)"
      ],
      "metadata": {
        "id": "3D-1-V9bW8tl"
      },
      "execution_count": null,
      "outputs": []
    },
    {
      "cell_type": "code",
      "source": [
        "X_train.shape"
      ],
      "metadata": {
        "colab": {
          "base_uri": "https://localhost:8080/"
        },
        "id": "_E0azm8Cd55f",
        "outputId": "4d5a35a2-71ef-4ac5-f23f-8ee22b0d95a4"
      },
      "execution_count": null,
      "outputs": [
        {
          "output_type": "execute_result",
          "data": {
            "text/plain": [
              "(1731, 15, 1)"
            ]
          },
          "metadata": {},
          "execution_count": 24
        }
      ]
    },
    {
      "cell_type": "markdown",
      "source": [
        "## Long Short-Term Memory (LSTM) Network\n",
        "Build a Long Short-Term Memory (LSTM) Network for forecasting the future **count of page loads** based on the extracted features from the previous three days."
      ],
      "metadata": {
        "id": "VIkAR1Hibiwr"
      }
    },
    {
      "cell_type": "markdown",
      "source": [
        "Define the forecasting model using the **Keras Sequential API** (`keras.models.Sequential`), incorporating one or more LSTM layers along with additional relevant layers (`keras.layers`). Be cautious when specifying the configuration of the final layer to ensure proper model output for the forecasting task."
      ],
      "metadata": {
        "id": "qWn1pafKbnxH"
      }
    },
    {
      "cell_type": "code",
      "source": [
        "# Write your code here. Add as many boxes as you need.\n",
        "from keras.models import Sequential\n",
        "from keras.layers import LSTM, Dense\n",
        "import keras"
      ],
      "metadata": {
        "id": "NwqQh-pFeBPU"
      },
      "execution_count": null,
      "outputs": []
    },
    {
      "cell_type": "code",
      "source": [
        "# Write your code here. Add as many boxes as you need.\n",
        "model = Sequential()\n",
        "model.add(LSTM(100,  activation='relu', input_shape=(X_train.shape[1], X_train.shape[2]), return_sequences=True))\n",
        "model.add(LSTM(50,  activation='relu'))\n",
        "model.add(Dense(1, activation='linear'))"
      ],
      "metadata": {
        "id": "IXFIrQthbnkb",
        "colab": {
          "base_uri": "https://localhost:8080/"
        },
        "outputId": "cac4316d-69a4-40e6-986c-168a7b1ebf0e"
      },
      "execution_count": null,
      "outputs": [
        {
          "output_type": "stream",
          "name": "stderr",
          "text": [
            "WARNING:tensorflow:Layer lstm will not use cuDNN kernels since it doesn't meet the criteria. It will use a generic GPU kernel as fallback when running on GPU.\n",
            "WARNING:tensorflow:Layer lstm_1 will not use cuDNN kernels since it doesn't meet the criteria. It will use a generic GPU kernel as fallback when running on GPU.\n"
          ]
        }
      ]
    },
    {
      "cell_type": "markdown",
      "source": [
        "Compile the previously defined model specifying **loss function** (`keras.losses`), **optimizer** (`keras.optimizers`) and **evaluation metrics** (`keras.metics`)."
      ],
      "metadata": {
        "id": "tAM-g59xSO4V"
      }
    },
    {
      "cell_type": "code",
      "source": [
        "# Write your code here. Add as many boxes as you need.\n",
        "model.compile(loss=keras.losses.MeanSquaredError() , optimizer=keras.optimizers.Adam(), metrics=[keras.metrics.MeanSquaredError(), keras.metrics.MeanAbsoluteError() ])"
      ],
      "metadata": {
        "id": "ZBtCCy9VSQpF"
      },
      "execution_count": null,
      "outputs": []
    },
    {
      "cell_type": "markdown",
      "source": [
        "Train the model on the training set, specifying the **batch size** and **number of epochs** for the training process. Allocate 20% of the samples for **validation**, and ensure that the dataset remains **unshuffled** during training."
      ],
      "metadata": {
        "id": "lygUzi0QTXgZ"
      }
    },
    {
      "cell_type": "code",
      "source": [
        "# Write your code here. Add as many boxes as you need.\n",
        "history = model.fit(X_train, Y_train, batch_size=16, validation_split=0.2, epochs=20, shuffle=False)"
      ],
      "metadata": {
        "id": "Fkj3k5p8TXEF",
        "colab": {
          "base_uri": "https://localhost:8080/"
        },
        "outputId": "fb083528-930b-40ae-fe3e-4dfa3cfdd8e3"
      },
      "execution_count": null,
      "outputs": [
        {
          "output_type": "stream",
          "name": "stdout",
          "text": [
            "Epoch 1/20\n",
            "87/87 [==============================] - 10s 49ms/step - loss: 0.0648 - mean_squared_error: 0.0648 - mean_absolute_error: 0.2049 - val_loss: 0.0394 - val_mean_squared_error: 0.0394 - val_mean_absolute_error: 0.1616\n",
            "Epoch 2/20\n",
            "87/87 [==============================] - 4s 45ms/step - loss: 0.0425 - mean_squared_error: 0.0425 - mean_absolute_error: 0.1663 - val_loss: 0.0453 - val_mean_squared_error: 0.0453 - val_mean_absolute_error: 0.1741\n",
            "Epoch 3/20\n",
            "87/87 [==============================] - 8s 89ms/step - loss: 0.0408 - mean_squared_error: 0.0408 - mean_absolute_error: 0.1632 - val_loss: 0.0499 - val_mean_squared_error: 0.0499 - val_mean_absolute_error: 0.1831\n",
            "Epoch 4/20\n",
            "87/87 [==============================] - 4s 46ms/step - loss: 0.0402 - mean_squared_error: 0.0402 - mean_absolute_error: 0.1624 - val_loss: 0.0534 - val_mean_squared_error: 0.0534 - val_mean_absolute_error: 0.1897\n",
            "Epoch 5/20\n",
            "87/87 [==============================] - 7s 80ms/step - loss: 0.0399 - mean_squared_error: 0.0399 - mean_absolute_error: 0.1619 - val_loss: 0.0557 - val_mean_squared_error: 0.0557 - val_mean_absolute_error: 0.1938\n",
            "Epoch 6/20\n",
            "87/87 [==============================] - 7s 76ms/step - loss: 0.0394 - mean_squared_error: 0.0394 - mean_absolute_error: 0.1611 - val_loss: 0.0567 - val_mean_squared_error: 0.0567 - val_mean_absolute_error: 0.1954\n",
            "Epoch 7/20\n",
            "87/87 [==============================] - 9s 100ms/step - loss: 0.0389 - mean_squared_error: 0.0389 - mean_absolute_error: 0.1602 - val_loss: 0.0568 - val_mean_squared_error: 0.0568 - val_mean_absolute_error: 0.1957\n",
            "Epoch 8/20\n",
            "87/87 [==============================] - 10s 115ms/step - loss: 0.0385 - mean_squared_error: 0.0385 - mean_absolute_error: 0.1592 - val_loss: 0.0566 - val_mean_squared_error: 0.0566 - val_mean_absolute_error: 0.1953\n",
            "Epoch 9/20\n",
            "87/87 [==============================] - 5s 61ms/step - loss: 0.0380 - mean_squared_error: 0.0380 - mean_absolute_error: 0.1582 - val_loss: 0.0559 - val_mean_squared_error: 0.0559 - val_mean_absolute_error: 0.1944\n",
            "Epoch 10/20\n",
            "87/87 [==============================] - 5s 58ms/step - loss: 0.0375 - mean_squared_error: 0.0375 - mean_absolute_error: 0.1571 - val_loss: 0.0545 - val_mean_squared_error: 0.0545 - val_mean_absolute_error: 0.1918\n",
            "Epoch 11/20\n",
            "87/87 [==============================] - 4s 43ms/step - loss: 0.0369 - mean_squared_error: 0.0369 - mean_absolute_error: 0.1558 - val_loss: 0.0541 - val_mean_squared_error: 0.0541 - val_mean_absolute_error: 0.1913\n",
            "Epoch 12/20\n",
            "87/87 [==============================] - 4s 43ms/step - loss: 0.0366 - mean_squared_error: 0.0366 - mean_absolute_error: 0.1550 - val_loss: 0.0507 - val_mean_squared_error: 0.0507 - val_mean_absolute_error: 0.1852\n",
            "Epoch 13/20\n",
            "87/87 [==============================] - 6s 72ms/step - loss: 0.0358 - mean_squared_error: 0.0358 - mean_absolute_error: 0.1530 - val_loss: 0.0521 - val_mean_squared_error: 0.0521 - val_mean_absolute_error: 0.1880\n",
            "Epoch 14/20\n",
            "87/87 [==============================] - 4s 43ms/step - loss: 0.0352 - mean_squared_error: 0.0352 - mean_absolute_error: 0.1514 - val_loss: 0.0506 - val_mean_squared_error: 0.0506 - val_mean_absolute_error: 0.1852\n",
            "Epoch 15/20\n",
            "87/87 [==============================] - 4s 44ms/step - loss: 0.0344 - mean_squared_error: 0.0344 - mean_absolute_error: 0.1490 - val_loss: 0.0409 - val_mean_squared_error: 0.0409 - val_mean_absolute_error: 0.1659\n",
            "Epoch 16/20\n",
            "87/87 [==============================] - 5s 61ms/step - loss: 0.0348 - mean_squared_error: 0.0348 - mean_absolute_error: 0.1488 - val_loss: 0.0490 - val_mean_squared_error: 0.0490 - val_mean_absolute_error: 0.1826\n",
            "Epoch 17/20\n",
            "87/87 [==============================] - 5s 52ms/step - loss: 0.0328 - mean_squared_error: 0.0328 - mean_absolute_error: 0.1448 - val_loss: 0.0345 - val_mean_squared_error: 0.0345 - val_mean_absolute_error: 0.1515\n",
            "Epoch 18/20\n",
            "87/87 [==============================] - 4s 44ms/step - loss: 0.0331 - mean_squared_error: 0.0331 - mean_absolute_error: 0.1438 - val_loss: 0.0441 - val_mean_squared_error: 0.0441 - val_mean_absolute_error: 0.1735\n",
            "Epoch 19/20\n",
            "87/87 [==============================] - 4s 44ms/step - loss: 0.0311 - mean_squared_error: 0.0311 - mean_absolute_error: 0.1397 - val_loss: 0.0393 - val_mean_squared_error: 0.0393 - val_mean_absolute_error: 0.1636\n",
            "Epoch 20/20\n",
            "87/87 [==============================] - 6s 68ms/step - loss: 0.0289 - mean_squared_error: 0.0289 - mean_absolute_error: 0.1344 - val_loss: 0.0219 - val_mean_squared_error: 0.0219 - val_mean_absolute_error: 0.1176\n"
          ]
        }
      ]
    },
    {
      "cell_type": "markdown",
      "source": [
        "Create a line plot illustrating both the **training** and **validation loss** over the training epochs."
      ],
      "metadata": {
        "id": "BgK9j0GrUs2l"
      }
    },
    {
      "cell_type": "code",
      "source": [
        "# Write your code here. Add as many boxes as you need.\n",
        "plt.plot(history.history['loss'], label='loss')\n",
        "plt.plot(history.history['val_loss'], label='val_loss')\n",
        "plt.legend()\n",
        "plt.show()"
      ],
      "metadata": {
        "id": "2u1RylwfUtR0",
        "colab": {
          "base_uri": "https://localhost:8080/",
          "height": 430
        },
        "outputId": "fafd8fcc-1b01-4a0b-9365-44024cc908fd"
      },
      "execution_count": null,
      "outputs": [
        {
          "output_type": "display_data",
          "data": {
            "text/plain": [
              "<Figure size 640x480 with 1 Axes>"
            ],
            "image/png": "[encoded data removed]"
          },
          "metadata": {}
        }
      ]
    },
    {
      "cell_type": "markdown",
      "source": [
        "Use the trained model to make predictions for the test set."
      ],
      "metadata": {
        "id": "gyXZwAVab8Cp"
      }
    },
    {
      "cell_type": "code",
      "source": [
        "# Write your code here. Add as many boxes as you need.\n",
        "preds = model.predict(X_test)"
      ],
      "metadata": {
        "id": "EvMfVum6b_9b",
        "colab": {
          "base_uri": "https://localhost:8080/"
        },
        "outputId": "1515b2db-cee1-4b76-d9d9-7127d6f973b7"
      },
      "execution_count": null,
      "outputs": [
        {
          "output_type": "stream",
          "name": "stdout",
          "text": [
            "14/14 [==============================] - 0s 7ms/step\n"
          ]
        }
      ]
    },
    {
      "cell_type": "markdown",
      "source": [
        "Assess the performance of the model by using different metrics provided by the `scikit-learn` library."
      ],
      "metadata": {
        "id": "3VxAvDPtcNCh"
      }
    },
    {
      "cell_type": "code",
      "source": [
        "# Write your code here. Add as many boxes as you need.\n",
        "from sklearn.metrics import mean_squared_error, mean_absolute_error, r2_score\n",
        "\n",
        "preds = scaler.inverse_transform(preds)\n",
        "mean_squared_error(preds, Y_test), mean_absolute_error(preds, Y_test), r2_score(preds, Y_test)"
      ],
      "metadata": {
        "id": "V4axpktycQhp",
        "colab": {
          "base_uri": "https://localhost:8080/"
        },
        "outputId": "1ddea4ef-e0db-4342-f576-5024572e7e10"
      },
      "execution_count": null,
      "outputs": [
        {
          "output_type": "execute_result",
          "data": {
            "text/plain": [
              "(0.7714464927630892, 0.7003371883639011, -2.530501242228251)"
            ]
          },
          "metadata": {},
          "execution_count": 32
        }
      ]
    },
    {
      "cell_type": "markdown",
      "source": [
        "Create a line plot in order to compare the actual and predicted mean temperatures for the test set."
      ],
      "metadata": {
        "id": "X01Q7Pb9VOAI"
      }
    },
    {
      "cell_type": "code",
      "source": [
        "# Write your code here. Add as many boxes as you need.\n",
        "plt.figure(figsize=(20, 10))\n",
        "plt.plot(Y_test.values, label='actual')\n",
        "plt.plot(preds, label='predicted')\n",
        "plt.legend()\n",
        "plt.show()"
      ],
      "metadata": {
        "id": "oeS852CkVPVJ",
        "colab": {
          "base_uri": "https://localhost:8080/",
          "height": 850
        },
        "outputId": "a68581ac-fe12-43a5-d830-6c07aea7434c"
      },
      "execution_count": null,
      "outputs": [
        {
          "output_type": "display_data",
          "data": {
            "text/plain": [
              "<Figure size 2000x1000 with 1 Axes>"
            ],
            "image/png": "[encoded data removed]"
          },
          "metadata": {}
        }
      ]
    },
    {
      "cell_type": "markdown",
      "source": [
        "# Laboratory Exercise - Bonus Task (+ 2 points)"
      ],
      "metadata": {
        "id": "RwnD_qSpIeXG"
      }
    },
    {
      "cell_type": "markdown",
      "source": [
        "As part of the bonus task in this laboratory assignment, your objective is to perform a sentiment analysis on a dataset consisting of wine reviews. The dataset contains two attributes: **description** and **points**. The description is a brief text describing the wine and the points which represents a quality metric ranging from 1 to 100. If some wine has at least 90 points it is considered **exceptional**. Your task involves predicting if some wine is exceptional based on its review.\n",
        "\n",
        "The greater part of the code for the solution is already given. You need to define a tokenizer to tokenize the given texts and a deep neural network model that will be used for the classification task at hand. Fill in only the missing code blocks."
      ],
      "metadata": {
        "id": "lSTuVpyYd2is"
      }
    },
    {
      "cell_type": "markdown",
      "source": [
        "## Requirements"
      ],
      "metadata": {
        "id": "EQTjeIPtxAqi"
      }
    },
    {
      "cell_type": "code",
      "source": [
        "import pandas as pd\n",
        "from sklearn.model_selection import train_test_split\n",
        "from keras.preprocessing.text import Tokenizer\n",
        "from keras.preprocessing import sequence\n",
        "from keras.models import Sequential\n",
        "import keras\n",
        "from keras.layers import Dense, Embedding, Conv1D, MaxPooling1D, LSTM, Flatten\n",
        "from sklearn.metrics import confusion_matrix, classification_report\n",
        "import matplotlib.pyplot as plt\n",
        "import numpy as np\n",
        "import seaborn as sns"
      ],
      "metadata": {
        "id": "5WMteKAexDKG"
      },
      "execution_count": null,
      "outputs": []
    },
    {
      "cell_type": "markdown",
      "source": [
        "## Downloading the Wine Reviews Dataset"
      ],
      "metadata": {
        "id": "Cz1jthZSxLZm"
      }
    },
    {
      "cell_type": "code",
      "source": [
        "!gdown 1fz9449M9Owofy6CYrKzkGwXKesI32B8u"
      ],
      "metadata": {
        "id": "ezxR1kcixVYT",
        "colab": {
          "base_uri": "https://localhost:8080/"
        },
        "outputId": "028c2937-597a-4d55-a5bd-0cee8dde8d75"
      },
      "execution_count": null,
      "outputs": [
        {
          "output_type": "stream",
          "name": "stdout",
          "text": [
            "Downloading...\n",
            "From: https://drive.google.com/uc?id=1fz9449M9Owofy6CYrKzkGwXKesI32B8u\n",
            "To: /content/wine-reviews.csv\n",
            "100% 32.5M/32.5M [00:00<00:00, 93.0MB/s]\n"
          ]
        }
      ]
    },
    {
      "cell_type": "markdown",
      "source": [
        "## Exploring the Climate Dataset\n",
        "\n",
        "Load the dataset into a `pandas` data frame."
      ],
      "metadata": {
        "id": "4M_rbQL8xZOo"
      }
    },
    {
      "cell_type": "code",
      "source": [
        "df = pd.read_csv('wine-reviews.csv')"
      ],
      "metadata": {
        "id": "Putbzep-xZFO"
      },
      "execution_count": null,
      "outputs": []
    },
    {
      "cell_type": "code",
      "source": [
        "df.head()"
      ],
      "metadata": {
        "id": "QTJxxFqfxu6R",
        "colab": {
          "base_uri": "https://localhost:8080/",
          "height": 206
        },
        "outputId": "f82f8873-191e-4eb5-d9b2-893d3c0a136e"
      },
      "execution_count": null,
      "outputs": [
        {
          "output_type": "execute_result",
          "data": {
            "text/plain": [
              "                                         description  points\n",
              "0  Aromas include tropical fruit, broom, brimston...      87\n",
              "1  This is ripe and fruity, a wine that is smooth...      87\n",
              "2  Tart and snappy, the flavors of lime flesh and...      87\n",
              "3  Pineapple rind, lemon pith and orange blossom ...      87\n",
              "4  Much like the regular bottling from 2012, this...      87"
            ],
            "text/html": [
              "\n",
              "  <div id=\"df-93b9a870-a6ce-4818-a184-03f461a4db0f\" class=\"colab-df-container\">\n",
              "    <div>\n",
              "<style scoped>\n",
              "    .dataframe tbody tr th:only-of-type {\n",
              "        vertical-align: middle;\n",
              "    }\n",
              "\n",
              "    .dataframe tbody tr th {\n",
              "        vertical-align: top;\n",
              "    }\n",
              "\n",
              "    .dataframe thead th {\n",
              "        text-align: right;\n",
              "    }\n",
              "</style>\n",
              "<table border=\"1\" class=\"dataframe\">\n",
              "  <thead>\n",
              "    <tr style=\"text-align: right;\">\n",
              "      <th></th>\n",
              "      <th>description</th>\n",
              "      <th>points</th>\n",
              "    </tr>\n",
              "  </thead>\n",
              "  <tbody>\n",
              "    <tr>\n",
              "      <th>0</th>\n",
              "      <td>Aromas include tropical fruit, broom, brimston...</td>\n",
              "      <td>87</td>\n",
              "    </tr>\n",
              "    <tr>\n",
              "      <th>1</th>\n",
              "      <td>This is ripe and fruity, a wine that is smooth...</td>\n",
              "      <td>87</td>\n",
              "    </tr>\n",
              "    <tr>\n",
              "      <th>2</th>\n",
              "      <td>Tart and snappy, the flavors of lime flesh and...</td>\n",
              "      <td>87</td>\n",
              "    </tr>\n",
              "    <tr>\n",
              "      <th>3</th>\n",
              "      <td>Pineapple rind, lemon pith and orange blossom ...</td>\n",
              "      <td>87</td>\n",
              "    </tr>\n",
              "    <tr>\n",
              "      <th>4</th>\n",
              "      <td>Much like the regular bottling from 2012, this...</td>\n",
              "      <td>87</td>\n",
              "    </tr>\n",
              "  </tbody>\n",
              "</table>\n",
              "</div>\n",
              "    <div class=\"colab-df-buttons\">\n",
              "\n",
              "  <div class=\"colab-df-container\">\n",
              "    <button class=\"colab-df-convert\" onclick=\"convertToInteractive('df-93b9a870-a6ce-4818-a184-03f461a4db0f')\"\n",
              "            title=\"Convert this dataframe to an interactive table.\"\n",
              "            style=\"display:none;\">\n",
              "\n",
              "  <svg xmlns=\"http://www.w3.org/2000/svg\" height=\"24px\" viewBox=\"0 -960 960 960\">\n",
              "    <path d=\"M120-120v-720h720v720H120Zm60-500h600v-160H180v160Zm220 220h160v-160H400v160Zm0 220h160v-160H400v160ZM180-400h160v-160H180v160Zm440 0h160v-160H620v160ZM180-180h160v-160H180v160Zm440 0h160v-160H620v160Z\"/>\n",
              "  </svg>\n",
              "    </button>\n",
              "\n",
              "  <style>\n",
              "    .colab-df-container {\n",
              "      display:flex;\n",
              "      gap: 12px;\n",
              "    }\n",
              "\n",
              "    .colab-df-convert {\n",
              "      background-color: #E8F0FE;\n",
              "      border: none;\n",
              "      border-radius: 50%;\n",
              "      cursor: pointer;\n",
              "      display: none;\n",
              "      fill: #1967D2;\n",
              "      height: 32px;\n",
              "      padding: 0 0 0 0;\n",
              "      width: 32px;\n",
              "    }\n",
              "\n",
              "    .colab-df-convert:hover {\n",
              "      background-color: #E2EBFA;\n",
              "      box-shadow: 0px 1px 2px rgba(60, 64, 67, 0.3), 0px 1px 3px 1px rgba(60, 64, 67, 0.15);\n",
              "      fill: #174EA6;\n",
              "    }\n",
              "\n",
              "    .colab-df-buttons div {\n",
              "      margin-bottom: 4px;\n",
              "    }\n",
              "\n",
              "    [theme=dark] .colab-df-convert {\n",
              "      background-color: #3B4455;\n",
              "      fill: #D2E3FC;\n",
              "    }\n",
              "\n",
              "    [theme=dark] .colab-df-convert:hover {\n",
              "      background-color: #434B5C;\n",
              "      box-shadow: 0px 1px 3px 1px rgba(0, 0, 0, 0.15);\n",
              "      filter: drop-shadow(0px 1px 2px rgba(0, 0, 0, 0.3));\n",
              "      fill: #FFFFFF;\n",
              "    }\n",
              "  </style>\n",
              "\n",
              "    <script>\n",
              "      const buttonEl =\n",
              "        document.querySelector('#df-93b9a870-a6ce-4818-a184-03f461a4db0f button.colab-df-convert');\n",
              "      buttonEl.style.display =\n",
              "        google.colab.kernel.accessAllowed ? 'block' : 'none';\n",
              "\n",
              "      async function convertToInteractive(key) {\n",
              "        const element = document.querySelector('#df-93b9a870-a6ce-4818-a184-03f461a4db0f');\n",
              "        const dataTable =\n",
              "          await google.colab.kernel.invokeFunction('convertToInteractive',\n",
              "                                                    [key], {});\n",
              "        if (!dataTable) return;\n",
              "\n",
              "        const docLinkHtml = 'Like what you see? Visit the ' +\n",
              "          '<a target=\"_blank\" href=https://colab.research.google.com/notebooks/data_table.ipynb>data table notebook</a>'\n",
              "          + ' to learn more about interactive tables.';\n",
              "        element.innerHTML = '';\n",
              "        dataTable['output_type'] = 'display_data';\n",
              "        await google.colab.output.renderOutput(dataTable, element);\n",
              "        const docLink = document.createElement('div');\n",
              "        docLink.innerHTML = docLinkHtml;\n",
              "        element.appendChild(docLink);\n",
              "      }\n",
              "    </script>\n",
              "  </div>\n",
              "\n",
              "\n",
              "<div id=\"df-81c4112f-e3fe-4572-a933-f9fd3d74ed6e\">\n",
              "  <button class=\"colab-df-quickchart\" onclick=\"quickchart('df-81c4112f-e3fe-4572-a933-f9fd3d74ed6e')\"\n",
              "            title=\"Suggest charts\"\n",
              "            style=\"display:none;\">\n",
              "\n",
              "<svg xmlns=\"http://www.w3.org/2000/svg\" height=\"24px\"viewBox=\"0 0 24 24\"\n",
              "     width=\"24px\">\n",
              "    <g>\n",
              "        <path d=\"M19 3H5c-1.1 0-2 .9-2 2v14c0 1.1.9 2 2 2h14c1.1 0 2-.9 2-2V5c0-1.1-.9-2-2-2zM9 17H7v-7h2v7zm4 0h-2V7h2v10zm4 0h-2v-4h2v4z\"/>\n",
              "    </g>\n",
              "</svg>\n",
              "  </button>\n",
              "\n",
              "<style>\n",
              "  .colab-df-quickchart {\n",
              "      --bg-color: #E8F0FE;\n",
              "      --fill-color: #1967D2;\n",
              "      --hover-bg-color: #E2EBFA;\n",
              "      --hover-fill-color: #174EA6;\n",
              "      --disabled-fill-color: #AAA;\n",
              "      --disabled-bg-color: #DDD;\n",
              "  }\n",
              "\n",
              "  [theme=dark] .colab-df-quickchart {\n",
              "      --bg-color: #3B4455;\n",
              "      --fill-color: #D2E3FC;\n",
              "      --hover-bg-color: #434B5C;\n",
              "      --hover-fill-color: #FFFFFF;\n",
              "      --disabled-bg-color: #3B4455;\n",
              "      --disabled-fill-color: #666;\n",
              "  }\n",
              "\n",
              "  .colab-df-quickchart {\n",
              "    background-color: var(--bg-color);\n",
              "    border: none;\n",
              "    border-radius: 50%;\n",
              "    cursor: pointer;\n",
              "    display: none;\n",
              "    fill: var(--fill-color);\n",
              "    height: 32px;\n",
              "    padding: 0;\n",
              "    width: 32px;\n",
              "  }\n",
              "\n",
              "  .colab-df-quickchart:hover {\n",
              "    background-color: var(--hover-bg-color);\n",
              "    box-shadow: 0 1px 2px rgba(60, 64, 67, 0.3), 0 1px 3px 1px rgba(60, 64, 67, 0.15);\n",
              "    fill: var(--button-hover-fill-color);\n",
              "  }\n",
              "\n",
              "  .colab-df-quickchart-complete:disabled,\n",
              "  .colab-df-quickchart-complete:disabled:hover {\n",
              "    background-color: var(--disabled-bg-color);\n",
              "    fill: var(--disabled-fill-color);\n",
              "    box-shadow: none;\n",
              "  }\n",
              "\n",
              "  .colab-df-spinner {\n",
              "    border: 2px solid var(--fill-color);\n",
              "    border-color: transparent;\n",
              "    border-bottom-color: var(--fill-color);\n",
              "    animation:\n",
              "      spin 1s steps(1) infinite;\n",
              "  }\n",
              "\n",
              "  @keyframes spin {\n",
              "    0% {\n",
              "      border-color: transparent;\n",
              "      border-bottom-color: var(--fill-color);\n",
              "      border-left-color: var(--fill-color);\n",
              "    }\n",
              "    20% {\n",
              "      border-color: transparent;\n",
              "      border-left-color: var(--fill-color);\n",
              "      border-top-color: var(--fill-color);\n",
              "    }\n",
              "    30% {\n",
              "      border-color: transparent;\n",
              "      border-left-color: var(--fill-color);\n",
              "      border-top-color: var(--fill-color);\n",
              "      border-right-color: var(--fill-color);\n",
              "    }\n",
              "    40% {\n",
              "      border-color: transparent;\n",
              "      border-right-color: var(--fill-color);\n",
              "      border-top-color: var(--fill-color);\n",
              "    }\n",
              "    60% {\n",
              "      border-color: transparent;\n",
              "      border-right-color: var(--fill-color);\n",
              "    }\n",
              "    80% {\n",
              "      border-color: transparent;\n",
              "      border-right-color: var(--fill-color);\n",
              "      border-bottom-color: var(--fill-color);\n",
              "    }\n",
              "    90% {\n",
              "      border-color: transparent;\n",
              "      border-bottom-color: var(--fill-color);\n",
              "    }\n",
              "  }\n",
              "</style>\n",
              "\n",
              "  <script>\n",
              "    async function quickchart(key) {\n",
              "      const quickchartButtonEl =\n",
              "        document.querySelector('#' + key + ' button');\n",
              "      quickchartButtonEl.disabled = true;  // To prevent multiple clicks.\n",
              "      quickchartButtonEl.classList.add('colab-df-spinner');\n",
              "      try {\n",
              "        const charts = await google.colab.kernel.invokeFunction(\n",
              "            'suggestCharts', [key], {});\n",
              "      } catch (error) {\n",
              "        console.error('Error during call to suggestCharts:', error);\n",
              "      }\n",
              "      quickchartButtonEl.classList.remove('colab-df-spinner');\n",
              "      quickchartButtonEl.classList.add('colab-df-quickchart-complete');\n",
              "    }\n",
              "    (() => {\n",
              "      let quickchartButtonEl =\n",
              "        document.querySelector('#df-81c4112f-e3fe-4572-a933-f9fd3d74ed6e button');\n",
              "      quickchartButtonEl.style.display =\n",
              "        google.colab.kernel.accessAllowed ? 'block' : 'none';\n",
              "    })();\n",
              "  </script>\n",
              "</div>\n",
              "    </div>\n",
              "  </div>\n"
            ]
          },
          "metadata": {},
          "execution_count": 37
        }
      ]
    },
    {
      "cell_type": "markdown",
      "source": [
        "## Feature Extraction\n",
        "\n",
        "Extract the feature `exceptional` for each wine review."
      ],
      "metadata": {
        "id": "SiT-_DABxlQr"
      }
    },
    {
      "cell_type": "code",
      "source": [
        "df['exceptional'] = df['points'].apply(lambda elem: 1 if elem >= 90 else 0)"
      ],
      "metadata": {
        "id": "UANHjHdaxnFT"
      },
      "execution_count": null,
      "outputs": []
    },
    {
      "cell_type": "markdown",
      "source": [
        "## Dataset Splitting\n",
        "Partition the dataset into training and testing sets with an 80:20 ratio."
      ],
      "metadata": {
        "id": "yZriA4d4eWLJ"
      }
    },
    {
      "cell_type": "code",
      "source": [
        "X, y = df['description'], df['exceptional']"
      ],
      "metadata": {
        "id": "ile-T3vmIfsm"
      },
      "execution_count": null,
      "outputs": []
    },
    {
      "cell_type": "code",
      "source": [
        "X_train, X_test, y_train, y_test = train_test_split(X, y, test_size=0.2)"
      ],
      "metadata": {
        "id": "nLXcoaz5x8yl"
      },
      "execution_count": null,
      "outputs": []
    },
    {
      "cell_type": "markdown",
      "source": [
        "## Text Tokenization\n",
        "\n",
        "Use tokenizer to convert raw text into a sequence of tokens."
      ],
      "metadata": {
        "id": "SfCWqcg-U-UU"
      }
    },
    {
      "cell_type": "code",
      "source": [
        "# Write your code here. Add as many boxes as you need.\n",
        "max_tokens = 64\n",
        "tokenizer = Tokenizer(num_words=max_tokens)\n",
        "tokenizer.fit_on_texts(X_train.values)\n",
        "X_train = tokenizer.texts_to_sequences(X_train)\n",
        "X_test = tokenizer.texts_to_sequences(X_test)"
      ],
      "metadata": {
        "id": "cHyN-QKFU_Fu"
      },
      "execution_count": null,
      "outputs": []
    },
    {
      "cell_type": "markdown",
      "source": [
        "## Padding\n",
        "Pad each sequence to maximum length of 16."
      ],
      "metadata": {
        "id": "E9myidoNgjmy"
      }
    },
    {
      "cell_type": "code",
      "source": [
        "# Write your code here. Add as many boxes as you need.\n",
        "X_train = sequence.pad_sequences(X_train, maxlen=16)\n",
        "X_test = sequence.pad_sequences(X_test, maxlen=16)"
      ],
      "metadata": {
        "id": "Vb5WJwEggm1f"
      },
      "execution_count": null,
      "outputs": []
    },
    {
      "cell_type": "markdown",
      "source": [
        "## Deep Neural Network"
      ],
      "metadata": {
        "id": "j1JMilynMUhr"
      }
    },
    {
      "cell_type": "markdown",
      "source": [
        "Define Deep Neural Network model to predict if a specific wine is exceptional or not based on the tokenized and padded wine reviews."
      ],
      "metadata": {
        "id": "yyl_KRWRMnUX"
      }
    },
    {
      "cell_type": "code",
      "source": [
        "# Write your code here. Add as many boxes as you need.\n",
        "num_classes = 1"
      ],
      "metadata": {
        "id": "PuDjEYtrMUT5"
      },
      "execution_count": null,
      "outputs": []
    },
    {
      "cell_type": "code",
      "source": [
        "model = Sequential()\n",
        "model.add(Embedding(max_tokens, 32, input_length=X_train.shape[1]))\n",
        "model.add(Conv1D(filters=32, kernel_size=3, padding='same', activation='relu'))\n",
        "model.add(MaxPooling1D(pool_size=2))\n",
        "model.add(Conv1D(filters=32, kernel_size=3, padding='same', activation='relu'))\n",
        "model.add(MaxPooling1D(pool_size=2))\n",
        "model.add(LSTM(100, dropout=0.2, recurrent_dropout=0.2))\n",
        "model.add(Dense(num_classes, activation='sigmoid'))"
      ],
      "metadata": {
        "colab": {
          "base_uri": "https://localhost:8080/"
        },
        "id": "4zSiYq6eftSX",
        "outputId": "c956a406-37b3-4532-dbd0-3536a0142f05"
      },
      "execution_count": null,
      "outputs": [
        {
          "output_type": "stream",
          "name": "stderr",
          "text": [
            "WARNING:tensorflow:Layer lstm_2 will not use cuDNN kernels since it doesn't meet the criteria. It will use a generic GPU kernel as fallback when running on GPU.\n"
          ]
        }
      ]
    },
    {
      "cell_type": "markdown",
      "source": [
        "Compile the previously defined model specifying loss function, optimizer and evaluation metrics."
      ],
      "metadata": {
        "id": "9QAXR5NXMkxd"
      }
    },
    {
      "cell_type": "code",
      "source": [
        "# Write your code here. Add as many boxes as you need.\n",
        "model.compile(loss=keras.losses.BinaryFocalCrossentropy(), optimizer=keras.optimizers.Adam(learning_rate=0.001), metrics=[keras.metrics.Precision(), keras.metrics.Recall()])"
      ],
      "metadata": {
        "id": "HvepKqbPMkmB"
      },
      "execution_count": null,
      "outputs": []
    },
    {
      "cell_type": "markdown",
      "source": [
        "Fit the compiled model on the train set specifying the percent for validation, batch_size, and number of epochs."
      ],
      "metadata": {
        "id": "NbKkYGTtMwF5"
      }
    },
    {
      "cell_type": "code",
      "source": [
        "# Write your code here. Add as many boxes as you need.\n",
        "history = model.fit(X_train, y_train, validation_split=0.2, batch_size=64, epochs=10)"
      ],
      "metadata": {
        "id": "gzAgz0ZzMziM",
        "colab": {
          "base_uri": "https://localhost:8080/"
        },
        "outputId": "f13c1a1d-21f5-443a-e5a0-88a5a467cc69"
      },
      "execution_count": null,
      "outputs": [
        {
          "output_type": "stream",
          "name": "stdout",
          "text": [
            "Epoch 1/10\n",
            "1300/1300 [==============================] - 42s 26ms/step - loss: 0.1505 - precision: 0.6052 - recall: 0.3920 - val_loss: 0.1465 - val_precision: 0.6614 - val_recall: 0.4041\n",
            "Epoch 2/10\n",
            "1300/1300 [==============================] - 33s 25ms/step - loss: 0.1455 - precision: 0.6265 - recall: 0.4757 - val_loss: 0.1457 - val_precision: 0.6639 - val_recall: 0.4112\n",
            "Epoch 3/10\n",
            "1300/1300 [==============================] - 34s 26ms/step - loss: 0.1435 - precision: 0.6321 - recall: 0.4977 - val_loss: 0.1433 - val_precision: 0.6215 - val_recall: 0.5763\n",
            "Epoch 4/10\n",
            "1300/1300 [==============================] - 34s 26ms/step - loss: 0.1419 - precision: 0.6411 - recall: 0.5107 - val_loss: 0.1434 - val_precision: 0.6134 - val_recall: 0.5991\n",
            "Epoch 5/10\n",
            "1300/1300 [==============================] - 35s 27ms/step - loss: 0.1408 - precision: 0.6429 - recall: 0.5249 - val_loss: 0.1432 - val_precision: 0.6166 - val_recall: 0.5991\n",
            "Epoch 6/10\n",
            "1300/1300 [==============================] - 33s 25ms/step - loss: 0.1398 - precision: 0.6452 - recall: 0.5366 - val_loss: 0.1420 - val_precision: 0.6374 - val_recall: 0.5330\n",
            "Epoch 7/10\n",
            "1300/1300 [==============================] - 33s 26ms/step - loss: 0.1389 - precision: 0.6473 - recall: 0.5378 - val_loss: 0.1422 - val_precision: 0.6233 - val_recall: 0.5666\n",
            "Epoch 8/10\n",
            "1300/1300 [==============================] - 33s 26ms/step - loss: 0.1379 - precision: 0.6504 - recall: 0.5448 - val_loss: 0.1420 - val_precision: 0.6378 - val_recall: 0.5329\n",
            "Epoch 9/10\n",
            "1300/1300 [==============================] - 35s 27ms/step - loss: 0.1369 - precision: 0.6578 - recall: 0.5559 - val_loss: 0.1430 - val_precision: 0.6677 - val_recall: 0.4457\n",
            "Epoch 10/10\n",
            "1300/1300 [==============================] - 33s 26ms/step - loss: 0.1361 - precision: 0.6599 - recall: 0.5622 - val_loss: 0.1433 - val_precision: 0.6526 - val_recall: 0.4916\n"
          ]
        }
      ]
    },
    {
      "cell_type": "markdown",
      "source": [
        "Create a line plot illustrating both the **training** and **validation loss** over the training epochs."
      ],
      "metadata": {
        "id": "u8KcuurcNDxY"
      }
    },
    {
      "cell_type": "code",
      "source": [
        "plt.plot(history.history['loss'], label='loss')\n",
        "plt.plot(history.history['val_loss'], label='val_loss')\n",
        "plt.show()"
      ],
      "metadata": {
        "id": "Y5c1GoZFM-cv",
        "colab": {
          "base_uri": "https://localhost:8080/",
          "height": 430
        },
        "outputId": "ccacf972-fb27-4005-85e2-be520b23bbf9"
      },
      "execution_count": null,
      "outputs": [
        {
          "output_type": "display_data",
          "data": {
            "text/plain": [
              "<Figure size 640x480 with 1 Axes>"
            ],
            "image/png": "[encoded data removed]"
          },
          "metadata": {}
        }
      ]
    },
    {
      "cell_type": "markdown",
      "source": [
        "Use the trained model to make predictions for the test set."
      ],
      "metadata": {
        "id": "Na9VtZ6hNJbp"
      }
    },
    {
      "cell_type": "code",
      "source": [
        "y_pred = model.predict(X_test)"
      ],
      "metadata": {
        "id": "YzQBsSwBNI3z",
        "colab": {
          "base_uri": "https://localhost:8080/"
        },
        "outputId": "7c8fb568-cb35-4651-a82d-fd94ec095113"
      },
      "execution_count": null,
      "outputs": [
        {
          "output_type": "stream",
          "name": "stdout",
          "text": [
            "813/813 [==============================] - 5s 6ms/step\n"
          ]
        }
      ]
    },
    {
      "cell_type": "markdown",
      "source": [
        "Assess the performance of the model by using different metrics provided by the `scikit-learn` library."
      ],
      "metadata": {
        "id": "Eyq8hXG7NNZC"
      }
    },
    {
      "cell_type": "code",
      "source": [
        "print(classification_report(y_test, np.round(y_pred)))"
      ],
      "metadata": {
        "id": "IfckChuGNM78",
        "colab": {
          "base_uri": "https://localhost:8080/"
        },
        "outputId": "78fafb1e-0cf1-4582-e68d-566fad94d03b"
      },
      "execution_count": null,
      "outputs": [
        {
          "output_type": "stream",
          "name": "stdout",
          "text": [
            "              precision    recall  f1-score   support\n",
            "\n",
            "           0       0.73      0.84      0.78     16169\n",
            "           1       0.65      0.50      0.56      9826\n",
            "\n",
            "    accuracy                           0.71     25995\n",
            "   macro avg       0.69      0.67      0.67     25995\n",
            "weighted avg       0.70      0.71      0.70     25995\n",
            "\n"
          ]
        }
      ]
    },
    {
      "cell_type": "code",
      "source": [],
      "metadata": {
        "id": "-E9mJLvOhLfk"
      },
      "execution_count": null,
      "outputs": []
    }
  ]
}