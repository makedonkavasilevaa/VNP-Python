{
  "nbformat": 4,
  "nbformat_minor": 0,
  "metadata": {
    "colab": {
      "provenance": []
    },
    "kernelspec": {
      "name": "python3",
      "display_name": "Python 3"
    },
    "language_info": {
      "name": "python"
    }
  },
  "cells": [
    {
      "cell_type": "markdown",
      "source": [
        "# Requirements"
      ],
      "metadata": {
        "id": "rODb9vHvIEbp"
      }
    },
    {
      "cell_type": "code",
      "execution_count": null,
      "metadata": {
        "id": "-rgNa1IOH9KV"
      },
      "outputs": [],
      "source": [
        "import pandas as pd"
      ]
    },
    {
      "cell_type": "code",
      "source": [
        "# Add as many imports as you need.\n",
        "import numpy as np"
      ],
      "metadata": {
        "id": "U4KmHBd2cdx9"
      },
      "execution_count": null,
      "outputs": []
    },
    {
      "cell_type": "markdown",
      "source": [
        "# Laboratory Exercise - Run Mode (8 points)"
      ],
      "metadata": {
        "id": "KNMMoUiUIW3L"
      }
    },
    {
      "cell_type": "markdown",
      "source": [
        "## Introduction\n",
        "In this laboratory assignment, the focus is on time series forecasting, specifically targeting the prediction of the current **mean temperature** in the city of Delhi. Your task involves employing bagging and boosting methods to forecast the **mean temperature**. To accomplish this use data from the preceding three days, consisting of **mean temperature**, **humidity**, **wind speed**, and **mean pressure**.\n",
        "\n",
        "**Note: You are required to perform this laboratory assignment on your local machine.**"
      ],
      "metadata": {
        "id": "_rAh_91OIjeS"
      }
    },
    {
      "cell_type": "markdown",
      "source": [
        "## The Climate Dataset"
      ],
      "metadata": {
        "id": "zBYI-EypaWom"
      }
    },
    {
      "cell_type": "markdown",
      "source": [
        "## Downloading the Climate Dataset"
      ],
      "metadata": {
        "id": "IDW_23TIK6iv"
      }
    },
    {
      "cell_type": "code",
      "source": [
        "!gdown 1kczX2FpFTH1QEsDeg6dszXM3Azwyd7XC # Download the dataset."
      ],
      "metadata": {
        "id": "NNtbofJTIWqK",
        "colab": {
          "base_uri": "https://localhost:8080/"
        },
        "outputId": "3e44ee82-1781-424c-c129-2846090053e8"
      },
      "execution_count": null,
      "outputs": [
        {
          "output_type": "stream",
          "name": "stdout",
          "text": [
            "Downloading...\n",
            "From: https://drive.google.com/uc?id=1kczX2FpFTH1QEsDeg6dszXM3Azwyd7XC\n",
            "To: /content/climate-data.csv\n",
            "\r  0% 0.00/78.1k [00:00<?, ?B/s]\r100% 78.1k/78.1k [00:00<00:00, 108MB/s]\n"
          ]
        }
      ]
    },
    {
      "cell_type": "markdown",
      "source": [
        "## Exploring the Climate Dataset\n",
        "This dataset consists of daily weather records for the city of Delhi spanning a period of 4 years (from 2013 to 2017). The dataset includes the following attributes:\n",
        "\n",
        "- date - date in the format YYYY-MM-DD,\n",
        "- meantemp - mean temperature averaged from multiple 3-hour intervals in a day,\n",
        "- humidity - humidity value for the day (measured in grams of water vapor per cubic meter volume of air),\n",
        "- wind_speed - wind speed measured in kilometers per hour, and\n",
        "- meanpressure - pressure reading of the weather (measured in atm).\n",
        "\n",
        "*Note: The dataset is complete, with no missing values in any of its entries.*"
      ],
      "metadata": {
        "id": "iAtPoYzAZo1v"
      }
    },
    {
      "cell_type": "markdown",
      "source": [
        "Load the dataset into a `pandas` data frame."
      ],
      "metadata": {
        "id": "DCm1qm1mZwMr"
      }
    },
    {
      "cell_type": "code",
      "source": [
        "# Write your code here. Add as many boxes as you need.\n",
        "df = pd.read_csv('/content/climate-data.csv')\n",
        "df"
      ],
      "metadata": {
        "id": "KMOn4fgcZn8s",
        "colab": {
          "base_uri": "https://localhost:8080/",
          "height": 423
        },
        "outputId": "10cd5089-6a3e-4149-e336-6085e633effb"
      },
      "execution_count": null,
      "outputs": [
        {
          "output_type": "execute_result",
          "data": {
            "text/plain": [
              "            date   meantemp    humidity  wind_speed  meanpressure\n",
              "0     2013-01-01  10.000000   84.500000    0.000000   1015.666667\n",
              "1     2013-01-02   7.400000   92.000000    2.980000   1017.800000\n",
              "2     2013-01-03   7.166667   87.000000    4.633333   1018.666667\n",
              "3     2013-01-04   8.666667   71.333333    1.233333   1017.166667\n",
              "4     2013-01-05   6.000000   86.833333    3.700000   1016.500000\n",
              "...          ...        ...         ...         ...           ...\n",
              "1457  2016-12-28  17.217391   68.043478    3.547826   1015.565217\n",
              "1458  2016-12-29  15.238095   87.857143    6.000000   1016.904762\n",
              "1459  2016-12-30  14.095238   89.666667    6.266667   1017.904762\n",
              "1460  2016-12-31  15.052632   87.000000    7.325000   1016.100000\n",
              "1461  2017-01-01  10.000000  100.000000    0.000000   1016.000000\n",
              "\n",
              "[1462 rows x 5 columns]"
            ],
            "text/html": [
              "\n",
              "  <div id=\"df-9795a436-05c3-4d9e-bafa-64a71832f0f1\" class=\"colab-df-container\">\n",
              "    <div>\n",
              "<style scoped>\n",
              "    .dataframe tbody tr th:only-of-type {\n",
              "        vertical-align: middle;\n",
              "    }\n",
              "\n",
              "    .dataframe tbody tr th {\n",
              "        vertical-align: top;\n",
              "    }\n",
              "\n",
              "    .dataframe thead th {\n",
              "        text-align: right;\n",
              "    }\n",
              "</style>\n",
              "<table border=\"1\" class=\"dataframe\">\n",
              "  <thead>\n",
              "    <tr style=\"text-align: right;\">\n",
              "      <th></th>\n",
              "      <th>date</th>\n",
              "      <th>meantemp</th>\n",
              "      <th>humidity</th>\n",
              "      <th>wind_speed</th>\n",
              "      <th>meanpressure</th>\n",
              "    </tr>\n",
              "  </thead>\n",
              "  <tbody>\n",
              "    <tr>\n",
              "      <th>0</th>\n",
              "      <td>2013-01-01</td>\n",
              "      <td>10.000000</td>\n",
              "      <td>84.500000</td>\n",
              "      <td>0.000000</td>\n",
              "      <td>1015.666667</td>\n",
              "    </tr>\n",
              "    <tr>\n",
              "      <th>1</th>\n",
              "      <td>2013-01-02</td>\n",
              "      <td>7.400000</td>\n",
              "      <td>92.000000</td>\n",
              "      <td>2.980000</td>\n",
              "      <td>1017.800000</td>\n",
              "    </tr>\n",
              "    <tr>\n",
              "      <th>2</th>\n",
              "      <td>2013-01-03</td>\n",
              "      <td>7.166667</td>\n",
              "      <td>87.000000</td>\n",
              "      <td>4.633333</td>\n",
              "      <td>1018.666667</td>\n",
              "    </tr>\n",
              "    <tr>\n",
              "      <th>3</th>\n",
              "      <td>2013-01-04</td>\n",
              "      <td>8.666667</td>\n",
              "      <td>71.333333</td>\n",
              "      <td>1.233333</td>\n",
              "      <td>1017.166667</td>\n",
              "    </tr>\n",
              "    <tr>\n",
              "      <th>4</th>\n",
              "      <td>2013-01-05</td>\n",
              "      <td>6.000000</td>\n",
              "      <td>86.833333</td>\n",
              "      <td>3.700000</td>\n",
              "      <td>1016.500000</td>\n",
              "    </tr>\n",
              "    <tr>\n",
              "      <th>...</th>\n",
              "      <td>...</td>\n",
              "      <td>...</td>\n",
              "      <td>...</td>\n",
              "      <td>...</td>\n",
              "      <td>...</td>\n",
              "    </tr>\n",
              "    <tr>\n",
              "      <th>1457</th>\n",
              "      <td>2016-12-28</td>\n",
              "      <td>17.217391</td>\n",
              "      <td>68.043478</td>\n",
              "      <td>3.547826</td>\n",
              "      <td>1015.565217</td>\n",
              "    </tr>\n",
              "    <tr>\n",
              "      <th>1458</th>\n",
              "      <td>2016-12-29</td>\n",
              "      <td>15.238095</td>\n",
              "      <td>87.857143</td>\n",
              "      <td>6.000000</td>\n",
              "      <td>1016.904762</td>\n",
              "    </tr>\n",
              "    <tr>\n",
              "      <th>1459</th>\n",
              "      <td>2016-12-30</td>\n",
              "      <td>14.095238</td>\n",
              "      <td>89.666667</td>\n",
              "      <td>6.266667</td>\n",
              "      <td>1017.904762</td>\n",
              "    </tr>\n",
              "    <tr>\n",
              "      <th>1460</th>\n",
              "      <td>2016-12-31</td>\n",
              "      <td>15.052632</td>\n",
              "      <td>87.000000</td>\n",
              "      <td>7.325000</td>\n",
              "      <td>1016.100000</td>\n",
              "    </tr>\n",
              "    <tr>\n",
              "      <th>1461</th>\n",
              "      <td>2017-01-01</td>\n",
              "      <td>10.000000</td>\n",
              "      <td>100.000000</td>\n",
              "      <td>0.000000</td>\n",
              "      <td>1016.000000</td>\n",
              "    </tr>\n",
              "  </tbody>\n",
              "</table>\n",
              "<p>1462 rows × 5 columns</p>\n",
              "</div>\n",
              "    <div class=\"colab-df-buttons\">\n",
              "\n",
              "  <div class=\"colab-df-container\">\n",
              "    <button class=\"colab-df-convert\" onclick=\"convertToInteractive('df-9795a436-05c3-4d9e-bafa-64a71832f0f1')\"\n",
              "            title=\"Convert this dataframe to an interactive table.\"\n",
              "            style=\"display:none;\">\n",
              "\n",
              "  <svg xmlns=\"http://www.w3.org/2000/svg\" height=\"24px\" viewBox=\"0 -960 960 960\">\n",
              "    <path d=\"M120-120v-720h720v720H120Zm60-500h600v-160H180v160Zm220 220h160v-160H400v160Zm0 220h160v-160H400v160ZM180-400h160v-160H180v160Zm440 0h160v-160H620v160ZM180-180h160v-160H180v160Zm440 0h160v-160H620v160Z\"/>\n",
              "  </svg>\n",
              "    </button>\n",
              "\n",
              "  <style>\n",
              "    .colab-df-container {\n",
              "      display:flex;\n",
              "      gap: 12px;\n",
              "    }\n",
              "\n",
              "    .colab-df-convert {\n",
              "      background-color: #E8F0FE;\n",
              "      border: none;\n",
              "      border-radius: 50%;\n",
              "      cursor: pointer;\n",
              "      display: none;\n",
              "      fill: #1967D2;\n",
              "      height: 32px;\n",
              "      padding: 0 0 0 0;\n",
              "      width: 32px;\n",
              "    }\n",
              "\n",
              "    .colab-df-convert:hover {\n",
              "      background-color: #E2EBFA;\n",
              "      box-shadow: 0px 1px 2px rgba(60, 64, 67, 0.3), 0px 1px 3px 1px rgba(60, 64, 67, 0.15);\n",
              "      fill: #174EA6;\n",
              "    }\n",
              "\n",
              "    .colab-df-buttons div {\n",
              "      margin-bottom: 4px;\n",
              "    }\n",
              "\n",
              "    [theme=dark] .colab-df-convert {\n",
              "      background-color: #3B4455;\n",
              "      fill: #D2E3FC;\n",
              "    }\n",
              "\n",
              "    [theme=dark] .colab-df-convert:hover {\n",
              "      background-color: #434B5C;\n",
              "      box-shadow: 0px 1px 3px 1px rgba(0, 0, 0, 0.15);\n",
              "      filter: drop-shadow(0px 1px 2px rgba(0, 0, 0, 0.3));\n",
              "      fill: #FFFFFF;\n",
              "    }\n",
              "  </style>\n",
              "\n",
              "    <script>\n",
              "      const buttonEl =\n",
              "        document.querySelector('#df-9795a436-05c3-4d9e-bafa-64a71832f0f1 button.colab-df-convert');\n",
              "      buttonEl.style.display =\n",
              "        google.colab.kernel.accessAllowed ? 'block' : 'none';\n",
              "\n",
              "      async function convertToInteractive(key) {\n",
              "        const element = document.querySelector('#df-9795a436-05c3-4d9e-bafa-64a71832f0f1');\n",
              "        const dataTable =\n",
              "          await google.colab.kernel.invokeFunction('convertToInteractive',\n",
              "                                                    [key], {});\n",
              "        if (!dataTable) return;\n",
              "\n",
              "        const docLinkHtml = 'Like what you see? Visit the ' +\n",
              "          '<a target=\"_blank\" href=https://colab.research.google.com/notebooks/data_table.ipynb>data table notebook</a>'\n",
              "          + ' to learn more about interactive tables.';\n",
              "        element.innerHTML = '';\n",
              "        dataTable['output_type'] = 'display_data';\n",
              "        await google.colab.output.renderOutput(dataTable, element);\n",
              "        const docLink = document.createElement('div');\n",
              "        docLink.innerHTML = docLinkHtml;\n",
              "        element.appendChild(docLink);\n",
              "      }\n",
              "    </script>\n",
              "  </div>\n",
              "\n",
              "\n",
              "<div id=\"df-9dd8b4eb-39ab-4ddb-a647-46b93e1a7819\">\n",
              "  <button class=\"colab-df-quickchart\" onclick=\"quickchart('df-9dd8b4eb-39ab-4ddb-a647-46b93e1a7819')\"\n",
              "            title=\"Suggest charts\"\n",
              "            style=\"display:none;\">\n",
              "\n",
              "<svg xmlns=\"http://www.w3.org/2000/svg\" height=\"24px\"viewBox=\"0 0 24 24\"\n",
              "     width=\"24px\">\n",
              "    <g>\n",
              "        <path d=\"M19 3H5c-1.1 0-2 .9-2 2v14c0 1.1.9 2 2 2h14c1.1 0 2-.9 2-2V5c0-1.1-.9-2-2-2zM9 17H7v-7h2v7zm4 0h-2V7h2v10zm4 0h-2v-4h2v4z\"/>\n",
              "    </g>\n",
              "</svg>\n",
              "  </button>\n",
              "\n",
              "<style>\n",
              "  .colab-df-quickchart {\n",
              "      --bg-color: #E8F0FE;\n",
              "      --fill-color: #1967D2;\n",
              "      --hover-bg-color: #E2EBFA;\n",
              "      --hover-fill-color: #174EA6;\n",
              "      --disabled-fill-color: #AAA;\n",
              "      --disabled-bg-color: #DDD;\n",
              "  }\n",
              "\n",
              "  [theme=dark] .colab-df-quickchart {\n",
              "      --bg-color: #3B4455;\n",
              "      --fill-color: #D2E3FC;\n",
              "      --hover-bg-color: #434B5C;\n",
              "      --hover-fill-color: #FFFFFF;\n",
              "      --disabled-bg-color: #3B4455;\n",
              "      --disabled-fill-color: #666;\n",
              "  }\n",
              "\n",
              "  .colab-df-quickchart {\n",
              "    background-color: var(--bg-color);\n",
              "    border: none;\n",
              "    border-radius: 50%;\n",
              "    cursor: pointer;\n",
              "    display: none;\n",
              "    fill: var(--fill-color);\n",
              "    height: 32px;\n",
              "    padding: 0;\n",
              "    width: 32px;\n",
              "  }\n",
              "\n",
              "  .colab-df-quickchart:hover {\n",
              "    background-color: var(--hover-bg-color);\n",
              "    box-shadow: 0 1px 2px rgba(60, 64, 67, 0.3), 0 1px 3px 1px rgba(60, 64, 67, 0.15);\n",
              "    fill: var(--button-hover-fill-color);\n",
              "  }\n",
              "\n",
              "  .colab-df-quickchart-complete:disabled,\n",
              "  .colab-df-quickchart-complete:disabled:hover {\n",
              "    background-color: var(--disabled-bg-color);\n",
              "    fill: var(--disabled-fill-color);\n",
              "    box-shadow: none;\n",
              "  }\n",
              "\n",
              "  .colab-df-spinner {\n",
              "    border: 2px solid var(--fill-color);\n",
              "    border-color: transparent;\n",
              "    border-bottom-color: var(--fill-color);\n",
              "    animation:\n",
              "      spin 1s steps(1) infinite;\n",
              "  }\n",
              "\n",
              "  @keyframes spin {\n",
              "    0% {\n",
              "      border-color: transparent;\n",
              "      border-bottom-color: var(--fill-color);\n",
              "      border-left-color: var(--fill-color);\n",
              "    }\n",
              "    20% {\n",
              "      border-color: transparent;\n",
              "      border-left-color: var(--fill-color);\n",
              "      border-top-color: var(--fill-color);\n",
              "    }\n",
              "    30% {\n",
              "      border-color: transparent;\n",
              "      border-left-color: var(--fill-color);\n",
              "      border-top-color: var(--fill-color);\n",
              "      border-right-color: var(--fill-color);\n",
              "    }\n",
              "    40% {\n",
              "      border-color: transparent;\n",
              "      border-right-color: var(--fill-color);\n",
              "      border-top-color: var(--fill-color);\n",
              "    }\n",
              "    60% {\n",
              "      border-color: transparent;\n",
              "      border-right-color: var(--fill-color);\n",
              "    }\n",
              "    80% {\n",
              "      border-color: transparent;\n",
              "      border-right-color: var(--fill-color);\n",
              "      border-bottom-color: var(--fill-color);\n",
              "    }\n",
              "    90% {\n",
              "      border-color: transparent;\n",
              "      border-bottom-color: var(--fill-color);\n",
              "    }\n",
              "  }\n",
              "</style>\n",
              "\n",
              "  <script>\n",
              "    async function quickchart(key) {\n",
              "      const quickchartButtonEl =\n",
              "        document.querySelector('#' + key + ' button');\n",
              "      quickchartButtonEl.disabled = true;  // To prevent multiple clicks.\n",
              "      quickchartButtonEl.classList.add('colab-df-spinner');\n",
              "      try {\n",
              "        const charts = await google.colab.kernel.invokeFunction(\n",
              "            'suggestCharts', [key], {});\n",
              "      } catch (error) {\n",
              "        console.error('Error during call to suggestCharts:', error);\n",
              "      }\n",
              "      quickchartButtonEl.classList.remove('colab-df-spinner');\n",
              "      quickchartButtonEl.classList.add('colab-df-quickchart-complete');\n",
              "    }\n",
              "    (() => {\n",
              "      let quickchartButtonEl =\n",
              "        document.querySelector('#df-9dd8b4eb-39ab-4ddb-a647-46b93e1a7819 button');\n",
              "      quickchartButtonEl.style.display =\n",
              "        google.colab.kernel.accessAllowed ? 'block' : 'none';\n",
              "    })();\n",
              "  </script>\n",
              "</div>\n",
              "    </div>\n",
              "  </div>\n"
            ]
          },
          "metadata": {},
          "execution_count": 4
        }
      ]
    },
    {
      "cell_type": "markdown",
      "source": [
        "Explore the dataset using visualizations of your choice."
      ],
      "metadata": {
        "id": "5slwyyhCKRo9"
      }
    },
    {
      "cell_type": "code",
      "source": [
        "# Write your code here. Add as many boxes as you need.\n",
        "df.hist()"
      ],
      "metadata": {
        "id": "DFY6TKhGKOY4",
        "colab": {
          "base_uri": "https://localhost:8080/",
          "height": 525
        },
        "outputId": "eefab7e5-521d-4271-8185-311d8d881d30"
      },
      "execution_count": null,
      "outputs": [
        {
          "output_type": "execute_result",
          "data": {
            "text/plain": [
              "array([[<Axes: title={'center': 'meantemp'}>,\n",
              "        <Axes: title={'center': 'humidity'}>],\n",
              "       [<Axes: title={'center': 'wind_speed'}>,\n",
              "        <Axes: title={'center': 'meanpressure'}>]], dtype=object)"
            ]
          },
          "metadata": {},
          "execution_count": 6
        },
        {
          "output_type": "display_data",
          "data": {
            "text/plain": [
              "<Figure size 640x480 with 4 Axes>"
            ],
            "image/png": "[encoded data removed]"
          },
          "metadata": {}
        }
      ]
    },
    {
      "cell_type": "markdown",
      "source": [
        "# Feauture Extraction\n",
        "Apply a lag of one, two, and three days to each feature, creating a set of features representing the meteorological conditions from the previous three days. To maintain dataset integrity, eliminate any resulting missing values at the beginning of the dataset.\n",
        "\n",
        "Hint: Use `df['column_name'].shift(period)`. Check the documentation at https://pandas.pydata.org/docs/reference/api/pandas.DataFrame.shift.html."
      ],
      "metadata": {
        "id": "hZceBEFuiGpI"
      }
    },
    {
      "cell_type": "code",
      "source": [
        "# Write your code here. Add as many boxes as you need."
      ],
      "metadata": {
        "id": "qHwGg9ieiFL1"
      },
      "execution_count": null,
      "outputs": []
    },
    {
      "cell_type": "code",
      "source": [
        "data = df\n",
        "data['date'] = pd.to_datetime(data['date'])\n",
        "data = data.set_index('date')"
      ],
      "metadata": {
        "id": "ZydVobKsUfek"
      },
      "execution_count": null,
      "outputs": []
    },
    {
      "cell_type": "code",
      "source": [
        "data"
      ],
      "metadata": {
        "colab": {
          "base_uri": "https://localhost:8080/",
          "height": 455
        },
        "id": "aNMk6PgEUkQI",
        "outputId": "f340e7fd-dc49-418c-89a6-d3565751aec6"
      },
      "execution_count": null,
      "outputs": [
        {
          "output_type": "execute_result",
          "data": {
            "text/plain": [
              "             meantemp    humidity  wind_speed  meanpressure\n",
              "date                                                       \n",
              "2013-01-01  10.000000   84.500000    0.000000   1015.666667\n",
              "2013-01-02   7.400000   92.000000    2.980000   1017.800000\n",
              "2013-01-03   7.166667   87.000000    4.633333   1018.666667\n",
              "2013-01-04   8.666667   71.333333    1.233333   1017.166667\n",
              "2013-01-05   6.000000   86.833333    3.700000   1016.500000\n",
              "...               ...         ...         ...           ...\n",
              "2016-12-28  17.217391   68.043478    3.547826   1015.565217\n",
              "2016-12-29  15.238095   87.857143    6.000000   1016.904762\n",
              "2016-12-30  14.095238   89.666667    6.266667   1017.904762\n",
              "2016-12-31  15.052632   87.000000    7.325000   1016.100000\n",
              "2017-01-01  10.000000  100.000000    0.000000   1016.000000\n",
              "\n",
              "[1462 rows x 4 columns]"
            ],
            "text/html": [
              "\n",
              "  <div id=\"df-d7c43a72-2412-4b89-864b-41a3a3108f47\" class=\"colab-df-container\">\n",
              "    <div>\n",
              "<style scoped>\n",
              "    .dataframe tbody tr th:only-of-type {\n",
              "        vertical-align: middle;\n",
              "    }\n",
              "\n",
              "    .dataframe tbody tr th {\n",
              "        vertical-align: top;\n",
              "    }\n",
              "\n",
              "    .dataframe thead th {\n",
              "        text-align: right;\n",
              "    }\n",
              "</style>\n",
              "<table border=\"1\" class=\"dataframe\">\n",
              "  <thead>\n",
              "    <tr style=\"text-align: right;\">\n",
              "      <th></th>\n",
              "      <th>meantemp</th>\n",
              "      <th>humidity</th>\n",
              "      <th>wind_speed</th>\n",
              "      <th>meanpressure</th>\n",
              "    </tr>\n",
              "    <tr>\n",
              "      <th>date</th>\n",
              "      <th></th>\n",
              "      <th></th>\n",
              "      <th></th>\n",
              "      <th></th>\n",
              "    </tr>\n",
              "  </thead>\n",
              "  <tbody>\n",
              "    <tr>\n",
              "      <th>2013-01-01</th>\n",
              "      <td>10.000000</td>\n",
              "      <td>84.500000</td>\n",
              "      <td>0.000000</td>\n",
              "      <td>1015.666667</td>\n",
              "    </tr>\n",
              "    <tr>\n",
              "      <th>2013-01-02</th>\n",
              "      <td>7.400000</td>\n",
              "      <td>92.000000</td>\n",
              "      <td>2.980000</td>\n",
              "      <td>1017.800000</td>\n",
              "    </tr>\n",
              "    <tr>\n",
              "      <th>2013-01-03</th>\n",
              "      <td>7.166667</td>\n",
              "      <td>87.000000</td>\n",
              "      <td>4.633333</td>\n",
              "      <td>1018.666667</td>\n",
              "    </tr>\n",
              "    <tr>\n",
              "      <th>2013-01-04</th>\n",
              "      <td>8.666667</td>\n",
              "      <td>71.333333</td>\n",
              "      <td>1.233333</td>\n",
              "      <td>1017.166667</td>\n",
              "    </tr>\n",
              "    <tr>\n",
              "      <th>2013-01-05</th>\n",
              "      <td>6.000000</td>\n",
              "      <td>86.833333</td>\n",
              "      <td>3.700000</td>\n",
              "      <td>1016.500000</td>\n",
              "    </tr>\n",
              "    <tr>\n",
              "      <th>...</th>\n",
              "      <td>...</td>\n",
              "      <td>...</td>\n",
              "      <td>...</td>\n",
              "      <td>...</td>\n",
              "    </tr>\n",
              "    <tr>\n",
              "      <th>2016-12-28</th>\n",
              "      <td>17.217391</td>\n",
              "      <td>68.043478</td>\n",
              "      <td>3.547826</td>\n",
              "      <td>1015.565217</td>\n",
              "    </tr>\n",
              "    <tr>\n",
              "      <th>2016-12-29</th>\n",
              "      <td>15.238095</td>\n",
              "      <td>87.857143</td>\n",
              "      <td>6.000000</td>\n",
              "      <td>1016.904762</td>\n",
              "    </tr>\n",
              "    <tr>\n",
              "      <th>2016-12-30</th>\n",
              "      <td>14.095238</td>\n",
              "      <td>89.666667</td>\n",
              "      <td>6.266667</td>\n",
              "      <td>1017.904762</td>\n",
              "    </tr>\n",
              "    <tr>\n",
              "      <th>2016-12-31</th>\n",
              "      <td>15.052632</td>\n",
              "      <td>87.000000</td>\n",
              "      <td>7.325000</td>\n",
              "      <td>1016.100000</td>\n",
              "    </tr>\n",
              "    <tr>\n",
              "      <th>2017-01-01</th>\n",
              "      <td>10.000000</td>\n",
              "      <td>100.000000</td>\n",
              "      <td>0.000000</td>\n",
              "      <td>1016.000000</td>\n",
              "    </tr>\n",
              "  </tbody>\n",
              "</table>\n",
              "<p>1462 rows × 4 columns</p>\n",
              "</div>\n",
              "    <div class=\"colab-df-buttons\">\n",
              "\n",
              "  <div class=\"colab-df-container\">\n",
              "    <button class=\"colab-df-convert\" onclick=\"convertToInteractive('df-d7c43a72-2412-4b89-864b-41a3a3108f47')\"\n",
              "            title=\"Convert this dataframe to an interactive table.\"\n",
              "            style=\"display:none;\">\n",
              "\n",
              "  <svg xmlns=\"http://www.w3.org/2000/svg\" height=\"24px\" viewBox=\"0 -960 960 960\">\n",
              "    <path d=\"M120-120v-720h720v720H120Zm60-500h600v-160H180v160Zm220 220h160v-160H400v160Zm0 220h160v-160H400v160ZM180-400h160v-160H180v160Zm440 0h160v-160H620v160ZM180-180h160v-160H180v160Zm440 0h160v-160H620v160Z\"/>\n",
              "  </svg>\n",
              "    </button>\n",
              "\n",
              "  <style>\n",
              "    .colab-df-container {\n",
              "      display:flex;\n",
              "      gap: 12px;\n",
              "    }\n",
              "\n",
              "    .colab-df-convert {\n",
              "      background-color: #E8F0FE;\n",
              "      border: none;\n",
              "      border-radius: 50%;\n",
              "      cursor: pointer;\n",
              "      display: none;\n",
              "      fill: #1967D2;\n",
              "      height: 32px;\n",
              "      padding: 0 0 0 0;\n",
              "      width: 32px;\n",
              "    }\n",
              "\n",
              "    .colab-df-convert:hover {\n",
              "      background-color: #E2EBFA;\n",
              "      box-shadow: 0px 1px 2px rgba(60, 64, 67, 0.3), 0px 1px 3px 1px rgba(60, 64, 67, 0.15);\n",
              "      fill: #174EA6;\n",
              "    }\n",
              "\n",
              "    .colab-df-buttons div {\n",
              "      margin-bottom: 4px;\n",
              "    }\n",
              "\n",
              "    [theme=dark] .colab-df-convert {\n",
              "      background-color: #3B4455;\n",
              "      fill: #D2E3FC;\n",
              "    }\n",
              "\n",
              "    [theme=dark] .colab-df-convert:hover {\n",
              "      background-color: #434B5C;\n",
              "      box-shadow: 0px 1px 3px 1px rgba(0, 0, 0, 0.15);\n",
              "      filter: drop-shadow(0px 1px 2px rgba(0, 0, 0, 0.3));\n",
              "      fill: #FFFFFF;\n",
              "    }\n",
              "  </style>\n",
              "\n",
              "    <script>\n",
              "      const buttonEl =\n",
              "        document.querySelector('#df-d7c43a72-2412-4b89-864b-41a3a3108f47 button.colab-df-convert');\n",
              "      buttonEl.style.display =\n",
              "        google.colab.kernel.accessAllowed ? 'block' : 'none';\n",
              "\n",
              "      async function convertToInteractive(key) {\n",
              "        const element = document.querySelector('#df-d7c43a72-2412-4b89-864b-41a3a3108f47');\n",
              "        const dataTable =\n",
              "          await google.colab.kernel.invokeFunction('convertToInteractive',\n",
              "                                                    [key], {});\n",
              "        if (!dataTable) return;\n",
              "\n",
              "        const docLinkHtml = 'Like what you see? Visit the ' +\n",
              "          '<a target=\"_blank\" href=https://colab.research.google.com/notebooks/data_table.ipynb>data table notebook</a>'\n",
              "          + ' to learn more about interactive tables.';\n",
              "        element.innerHTML = '';\n",
              "        dataTable['output_type'] = 'display_data';\n",
              "        await google.colab.output.renderOutput(dataTable, element);\n",
              "        const docLink = document.createElement('div');\n",
              "        docLink.innerHTML = docLinkHtml;\n",
              "        element.appendChild(docLink);\n",
              "      }\n",
              "    </script>\n",
              "  </div>\n",
              "\n",
              "\n",
              "<div id=\"df-4322f2bc-a6f0-466b-858e-d6184ef6ea79\">\n",
              "  <button class=\"colab-df-quickchart\" onclick=\"quickchart('df-4322f2bc-a6f0-466b-858e-d6184ef6ea79')\"\n",
              "            title=\"Suggest charts\"\n",
              "            style=\"display:none;\">\n",
              "\n",
              "<svg xmlns=\"http://www.w3.org/2000/svg\" height=\"24px\"viewBox=\"0 0 24 24\"\n",
              "     width=\"24px\">\n",
              "    <g>\n",
              "        <path d=\"M19 3H5c-1.1 0-2 .9-2 2v14c0 1.1.9 2 2 2h14c1.1 0 2-.9 2-2V5c0-1.1-.9-2-2-2zM9 17H7v-7h2v7zm4 0h-2V7h2v10zm4 0h-2v-4h2v4z\"/>\n",
              "    </g>\n",
              "</svg>\n",
              "  </button>\n",
              "\n",
              "<style>\n",
              "  .colab-df-quickchart {\n",
              "      --bg-color: #E8F0FE;\n",
              "      --fill-color: #1967D2;\n",
              "      --hover-bg-color: #E2EBFA;\n",
              "      --hover-fill-color: #174EA6;\n",
              "      --disabled-fill-color: #AAA;\n",
              "      --disabled-bg-color: #DDD;\n",
              "  }\n",
              "\n",
              "  [theme=dark] .colab-df-quickchart {\n",
              "      --bg-color: #3B4455;\n",
              "      --fill-color: #D2E3FC;\n",
              "      --hover-bg-color: #434B5C;\n",
              "      --hover-fill-color: #FFFFFF;\n",
              "      --disabled-bg-color: #3B4455;\n",
              "      --disabled-fill-color: #666;\n",
              "  }\n",
              "\n",
              "  .colab-df-quickchart {\n",
              "    background-color: var(--bg-color);\n",
              "    border: none;\n",
              "    border-radius: 50%;\n",
              "    cursor: pointer;\n",
              "    display: none;\n",
              "    fill: var(--fill-color);\n",
              "    height: 32px;\n",
              "    padding: 0;\n",
              "    width: 32px;\n",
              "  }\n",
              "\n",
              "  .colab-df-quickchart:hover {\n",
              "    background-color: var(--hover-bg-color);\n",
              "    box-shadow: 0 1px 2px rgba(60, 64, 67, 0.3), 0 1px 3px 1px rgba(60, 64, 67, 0.15);\n",
              "    fill: var(--button-hover-fill-color);\n",
              "  }\n",
              "\n",
              "  .colab-df-quickchart-complete:disabled,\n",
              "  .colab-df-quickchart-complete:disabled:hover {\n",
              "    background-color: var(--disabled-bg-color);\n",
              "    fill: var(--disabled-fill-color);\n",
              "    box-shadow: none;\n",
              "  }\n",
              "\n",
              "  .colab-df-spinner {\n",
              "    border: 2px solid var(--fill-color);\n",
              "    border-color: transparent;\n",
              "    border-bottom-color: var(--fill-color);\n",
              "    animation:\n",
              "      spin 1s steps(1) infinite;\n",
              "  }\n",
              "\n",
              "  @keyframes spin {\n",
              "    0% {\n",
              "      border-color: transparent;\n",
              "      border-bottom-color: var(--fill-color);\n",
              "      border-left-color: var(--fill-color);\n",
              "    }\n",
              "    20% {\n",
              "      border-color: transparent;\n",
              "      border-left-color: var(--fill-color);\n",
              "      border-top-color: var(--fill-color);\n",
              "    }\n",
              "    30% {\n",
              "      border-color: transparent;\n",
              "      border-left-color: var(--fill-color);\n",
              "      border-top-color: var(--fill-color);\n",
              "      border-right-color: var(--fill-color);\n",
              "    }\n",
              "    40% {\n",
              "      border-color: transparent;\n",
              "      border-right-color: var(--fill-color);\n",
              "      border-top-color: var(--fill-color);\n",
              "    }\n",
              "    60% {\n",
              "      border-color: transparent;\n",
              "      border-right-color: var(--fill-color);\n",
              "    }\n",
              "    80% {\n",
              "      border-color: transparent;\n",
              "      border-right-color: var(--fill-color);\n",
              "      border-bottom-color: var(--fill-color);\n",
              "    }\n",
              "    90% {\n",
              "      border-color: transparent;\n",
              "      border-bottom-color: var(--fill-color);\n",
              "    }\n",
              "  }\n",
              "</style>\n",
              "\n",
              "  <script>\n",
              "    async function quickchart(key) {\n",
              "      const quickchartButtonEl =\n",
              "        document.querySelector('#' + key + ' button');\n",
              "      quickchartButtonEl.disabled = true;  // To prevent multiple clicks.\n",
              "      quickchartButtonEl.classList.add('colab-df-spinner');\n",
              "      try {\n",
              "        const charts = await google.colab.kernel.invokeFunction(\n",
              "            'suggestCharts', [key], {});\n",
              "      } catch (error) {\n",
              "        console.error('Error during call to suggestCharts:', error);\n",
              "      }\n",
              "      quickchartButtonEl.classList.remove('colab-df-spinner');\n",
              "      quickchartButtonEl.classList.add('colab-df-quickchart-complete');\n",
              "    }\n",
              "    (() => {\n",
              "      let quickchartButtonEl =\n",
              "        document.querySelector('#df-4322f2bc-a6f0-466b-858e-d6184ef6ea79 button');\n",
              "      quickchartButtonEl.style.display =\n",
              "        google.colab.kernel.accessAllowed ? 'block' : 'none';\n",
              "    })();\n",
              "  </script>\n",
              "</div>\n",
              "    </div>\n",
              "  </div>\n"
            ]
          },
          "metadata": {},
          "execution_count": 48
        }
      ]
    },
    {
      "cell_type": "code",
      "source": [
        "data_copy=data"
      ],
      "metadata": {
        "id": "ekir79TuUkNz"
      },
      "execution_count": null,
      "outputs": []
    },
    {
      "cell_type": "code",
      "source": [
        "data = data.sort_values(by='date', ascending=False)\n",
        "for i in range(1, 4):\n",
        "  data[f'meantemp from {i} days ago'] = data['meantemp'].shift(i)\n",
        "\n",
        "for i in range(1, 4):\n",
        "  data[f'humidity from {i} days ago'] = data['humidity'].shift(i)\n",
        "data=data.drop('humidity', axis=1)\n",
        "\n",
        "for i in range(1, 4):\n",
        "  data[f'wind_speed from {i} days ago'] = data['wind_speed'].shift(i)\n",
        "data=data.drop('wind_speed', axis=1)\n",
        "\n",
        "for i in range(1, 4):\n",
        "  data[f'meanpressure from {i} days ago'] = data['meanpressure'].shift(i)\n",
        "data=data.drop('meanpressure', axis=1)"
      ],
      "metadata": {
        "id": "H63u4Q9rUxDH"
      },
      "execution_count": null,
      "outputs": []
    },
    {
      "cell_type": "code",
      "source": [
        "data.dropna(subset=data.columns,axis=0,inplace=True)\n",
        "data"
      ],
      "metadata": {
        "colab": {
          "base_uri": "https://localhost:8080/",
          "height": 663
        },
        "id": "y4mDfE_pVQvo",
        "outputId": "390613df-f267-4a34-9b36-ca5c246eab9a"
      },
      "execution_count": null,
      "outputs": [
        {
          "output_type": "execute_result",
          "data": {
            "text/plain": [
              "             meantemp  meantemp from 1 days ago  meantemp from 2 days ago  \\\n",
              "date                                                                        \n",
              "2016-12-29  15.238095                 14.095238                 15.052632   \n",
              "2016-12-28  17.217391                 15.238095                 14.095238   \n",
              "2016-12-27  16.850000                 17.217391                 15.238095   \n",
              "2016-12-26  17.142857                 16.850000                 17.217391   \n",
              "2016-12-25  14.000000                 17.142857                 16.850000   \n",
              "...               ...                       ...                       ...   \n",
              "2013-01-05   6.000000                  7.000000                  7.000000   \n",
              "2013-01-04   8.666667                  6.000000                  7.000000   \n",
              "2013-01-03   7.166667                  8.666667                  6.000000   \n",
              "2013-01-02   7.400000                  7.166667                  8.666667   \n",
              "2013-01-01  10.000000                  7.400000                  7.166667   \n",
              "\n",
              "            meantemp from 3 days ago  humidity from 1 days ago  \\\n",
              "date                                                             \n",
              "2016-12-29                 10.000000                 89.666667   \n",
              "2016-12-28                 15.052632                 87.857143   \n",
              "2016-12-27                 14.095238                 68.043478   \n",
              "2016-12-26                 15.238095                 67.550000   \n",
              "2016-12-25                 17.217391                 74.857143   \n",
              "...                              ...                       ...   \n",
              "2013-01-05                  8.857143                 82.800000   \n",
              "2013-01-04                  7.000000                 86.833333   \n",
              "2013-01-03                  7.000000                 71.333333   \n",
              "2013-01-02                  6.000000                 87.000000   \n",
              "2013-01-01                  8.666667                 92.000000   \n",
              "\n",
              "            humidity from 2 days ago  humidity from 3 days ago  \\\n",
              "date                                                             \n",
              "2016-12-29                 87.000000                100.000000   \n",
              "2016-12-28                 89.666667                 87.000000   \n",
              "2016-12-27                 87.857143                 89.666667   \n",
              "2016-12-26                 68.043478                 87.857143   \n",
              "2016-12-25                 67.550000                 68.043478   \n",
              "...                              ...                       ...   \n",
              "2013-01-05                 78.600000                 63.714286   \n",
              "2013-01-04                 82.800000                 78.600000   \n",
              "2013-01-03                 86.833333                 82.800000   \n",
              "2013-01-02                 71.333333                 86.833333   \n",
              "2013-01-01                 87.000000                 71.333333   \n",
              "\n",
              "            wind_speed from 1 days ago  wind_speed from 2 days ago  \\\n",
              "date                                                                 \n",
              "2016-12-29                    6.266667                    7.325000   \n",
              "2016-12-28                    6.000000                    6.266667   \n",
              "2016-12-27                    3.547826                    6.000000   \n",
              "2016-12-26                    8.335000                    3.547826   \n",
              "2016-12-25                    8.784211                    8.335000   \n",
              "...                                ...                         ...   \n",
              "2013-01-05                    1.480000                    6.300000   \n",
              "2013-01-04                    3.700000                    1.480000   \n",
              "2013-01-03                    1.233333                    3.700000   \n",
              "2013-01-02                    4.633333                    1.233333   \n",
              "2013-01-01                    2.980000                    4.633333   \n",
              "\n",
              "            wind_speed from 3 days ago  meanpressure from 1 days ago  \\\n",
              "date                                                                   \n",
              "2016-12-29                    0.000000                   1017.904762   \n",
              "2016-12-28                    7.325000                   1016.904762   \n",
              "2016-12-27                    6.266667                   1015.565217   \n",
              "2016-12-26                    6.000000                   1017.200000   \n",
              "2016-12-25                    3.547826                   1016.952381   \n",
              "...                                ...                           ...   \n",
              "2013-01-05                    7.142857                   1018.000000   \n",
              "2013-01-04                    6.300000                   1016.500000   \n",
              "2013-01-03                    1.480000                   1017.166667   \n",
              "2013-01-02                    3.700000                   1018.666667   \n",
              "2013-01-01                    1.233333                   1017.800000   \n",
              "\n",
              "            meanpressure from 2 days ago  meanpressure from 3 days ago  \n",
              "date                                                                    \n",
              "2016-12-29                   1016.100000                   1016.000000  \n",
              "2016-12-28                   1017.904762                   1016.100000  \n",
              "2016-12-27                   1016.904762                   1017.904762  \n",
              "2016-12-26                   1015.565217                   1016.904762  \n",
              "2016-12-25                   1017.200000                   1015.565217  \n",
              "...                                  ...                           ...  \n",
              "2013-01-05                   1020.000000                   1018.714286  \n",
              "2013-01-04                   1018.000000                   1020.000000  \n",
              "2013-01-03                   1016.500000                   1018.000000  \n",
              "2013-01-02                   1017.166667                   1016.500000  \n",
              "2013-01-01                   1018.666667                   1017.166667  \n",
              "\n",
              "[1459 rows x 13 columns]"
            ],
            "text/html": [
              "\n",
              "  <div id=\"df-98f848f5-0ee1-4d91-979f-c1dbaba28f5e\" class=\"colab-df-container\">\n",
              "    <div>\n",
              "<style scoped>\n",
              "    .dataframe tbody tr th:only-of-type {\n",
              "        vertical-align: middle;\n",
              "    }\n",
              "\n",
              "    .dataframe tbody tr th {\n",
              "        vertical-align: top;\n",
              "    }\n",
              "\n",
              "    .dataframe thead th {\n",
              "        text-align: right;\n",
              "    }\n",
              "</style>\n",
              "<table border=\"1\" class=\"dataframe\">\n",
              "  <thead>\n",
              "    <tr style=\"text-align: right;\">\n",
              "      <th></th>\n",
              "      <th>meantemp</th>\n",
              "      <th>meantemp from 1 days ago</th>\n",
              "      <th>meantemp from 2 days ago</th>\n",
              "      <th>meantemp from 3 days ago</th>\n",
              "      <th>humidity from 1 days ago</th>\n",
              "      <th>humidity from 2 days ago</th>\n",
              "      <th>humidity from 3 days ago</th>\n",
              "      <th>wind_speed from 1 days ago</th>\n",
              "      <th>wind_speed from 2 days ago</th>\n",
              "      <th>wind_speed from 3 days ago</th>\n",
              "      <th>meanpressure from 1 days ago</th>\n",
              "      <th>meanpressure from 2 days ago</th>\n",
              "      <th>meanpressure from 3 days ago</th>\n",
              "    </tr>\n",
              "    <tr>\n",
              "      <th>date</th>\n",
              "      <th></th>\n",
              "      <th></th>\n",
              "      <th></th>\n",
              "      <th></th>\n",
              "      <th></th>\n",
              "      <th></th>\n",
              "      <th></th>\n",
              "      <th></th>\n",
              "      <th></th>\n",
              "      <th></th>\n",
              "      <th></th>\n",
              "      <th></th>\n",
              "      <th></th>\n",
              "    </tr>\n",
              "  </thead>\n",
              "  <tbody>\n",
              "    <tr>\n",
              "      <th>2016-12-29</th>\n",
              "      <td>15.238095</td>\n",
              "      <td>14.095238</td>\n",
              "      <td>15.052632</td>\n",
              "      <td>10.000000</td>\n",
              "      <td>89.666667</td>\n",
              "      <td>87.000000</td>\n",
              "      <td>100.000000</td>\n",
              "      <td>6.266667</td>\n",
              "      <td>7.325000</td>\n",
              "      <td>0.000000</td>\n",
              "      <td>1017.904762</td>\n",
              "      <td>1016.100000</td>\n",
              "      <td>1016.000000</td>\n",
              "    </tr>\n",
              "    <tr>\n",
              "      <th>2016-12-28</th>\n",
              "      <td>17.217391</td>\n",
              "      <td>15.238095</td>\n",
              "      <td>14.095238</td>\n",
              "      <td>15.052632</td>\n",
              "      <td>87.857143</td>\n",
              "      <td>89.666667</td>\n",
              "      <td>87.000000</td>\n",
              "      <td>6.000000</td>\n",
              "      <td>6.266667</td>\n",
              "      <td>7.325000</td>\n",
              "      <td>1016.904762</td>\n",
              "      <td>1017.904762</td>\n",
              "      <td>1016.100000</td>\n",
              "    </tr>\n",
              "    <tr>\n",
              "      <th>2016-12-27</th>\n",
              "      <td>16.850000</td>\n",
              "      <td>17.217391</td>\n",
              "      <td>15.238095</td>\n",
              "      <td>14.095238</td>\n",
              "      <td>68.043478</td>\n",
              "      <td>87.857143</td>\n",
              "      <td>89.666667</td>\n",
              "      <td>3.547826</td>\n",
              "      <td>6.000000</td>\n",
              "      <td>6.266667</td>\n",
              "      <td>1015.565217</td>\n",
              "      <td>1016.904762</td>\n",
              "      <td>1017.904762</td>\n",
              "    </tr>\n",
              "    <tr>\n",
              "      <th>2016-12-26</th>\n",
              "      <td>17.142857</td>\n",
              "      <td>16.850000</td>\n",
              "      <td>17.217391</td>\n",
              "      <td>15.238095</td>\n",
              "      <td>67.550000</td>\n",
              "      <td>68.043478</td>\n",
              "      <td>87.857143</td>\n",
              "      <td>8.335000</td>\n",
              "      <td>3.547826</td>\n",
              "      <td>6.000000</td>\n",
              "      <td>1017.200000</td>\n",
              "      <td>1015.565217</td>\n",
              "      <td>1016.904762</td>\n",
              "    </tr>\n",
              "    <tr>\n",
              "      <th>2016-12-25</th>\n",
              "      <td>14.000000</td>\n",
              "      <td>17.142857</td>\n",
              "      <td>16.850000</td>\n",
              "      <td>17.217391</td>\n",
              "      <td>74.857143</td>\n",
              "      <td>67.550000</td>\n",
              "      <td>68.043478</td>\n",
              "      <td>8.784211</td>\n",
              "      <td>8.335000</td>\n",
              "      <td>3.547826</td>\n",
              "      <td>1016.952381</td>\n",
              "      <td>1017.200000</td>\n",
              "      <td>1015.565217</td>\n",
              "    </tr>\n",
              "    <tr>\n",
              "      <th>...</th>\n",
              "      <td>...</td>\n",
              "      <td>...</td>\n",
              "      <td>...</td>\n",
              "      <td>...</td>\n",
              "      <td>...</td>\n",
              "      <td>...</td>\n",
              "      <td>...</td>\n",
              "      <td>...</td>\n",
              "      <td>...</td>\n",
              "      <td>...</td>\n",
              "      <td>...</td>\n",
              "      <td>...</td>\n",
              "      <td>...</td>\n",
              "    </tr>\n",
              "    <tr>\n",
              "      <th>2013-01-05</th>\n",
              "      <td>6.000000</td>\n",
              "      <td>7.000000</td>\n",
              "      <td>7.000000</td>\n",
              "      <td>8.857143</td>\n",
              "      <td>82.800000</td>\n",
              "      <td>78.600000</td>\n",
              "      <td>63.714286</td>\n",
              "      <td>1.480000</td>\n",
              "      <td>6.300000</td>\n",
              "      <td>7.142857</td>\n",
              "      <td>1018.000000</td>\n",
              "      <td>1020.000000</td>\n",
              "      <td>1018.714286</td>\n",
              "    </tr>\n",
              "    <tr>\n",
              "      <th>2013-01-04</th>\n",
              "      <td>8.666667</td>\n",
              "      <td>6.000000</td>\n",
              "      <td>7.000000</td>\n",
              "      <td>7.000000</td>\n",
              "      <td>86.833333</td>\n",
              "      <td>82.800000</td>\n",
              "      <td>78.600000</td>\n",
              "      <td>3.700000</td>\n",
              "      <td>1.480000</td>\n",
              "      <td>6.300000</td>\n",
              "      <td>1016.500000</td>\n",
              "      <td>1018.000000</td>\n",
              "      <td>1020.000000</td>\n",
              "    </tr>\n",
              "    <tr>\n",
              "      <th>2013-01-03</th>\n",
              "      <td>7.166667</td>\n",
              "      <td>8.666667</td>\n",
              "      <td>6.000000</td>\n",
              "      <td>7.000000</td>\n",
              "      <td>71.333333</td>\n",
              "      <td>86.833333</td>\n",
              "      <td>82.800000</td>\n",
              "      <td>1.233333</td>\n",
              "      <td>3.700000</td>\n",
              "      <td>1.480000</td>\n",
              "      <td>1017.166667</td>\n",
              "      <td>1016.500000</td>\n",
              "      <td>1018.000000</td>\n",
              "    </tr>\n",
              "    <tr>\n",
              "      <th>2013-01-02</th>\n",
              "      <td>7.400000</td>\n",
              "      <td>7.166667</td>\n",
              "      <td>8.666667</td>\n",
              "      <td>6.000000</td>\n",
              "      <td>87.000000</td>\n",
              "      <td>71.333333</td>\n",
              "      <td>86.833333</td>\n",
              "      <td>4.633333</td>\n",
              "      <td>1.233333</td>\n",
              "      <td>3.700000</td>\n",
              "      <td>1018.666667</td>\n",
              "      <td>1017.166667</td>\n",
              "      <td>1016.500000</td>\n",
              "    </tr>\n",
              "    <tr>\n",
              "      <th>2013-01-01</th>\n",
              "      <td>10.000000</td>\n",
              "      <td>7.400000</td>\n",
              "      <td>7.166667</td>\n",
              "      <td>8.666667</td>\n",
              "      <td>92.000000</td>\n",
              "      <td>87.000000</td>\n",
              "      <td>71.333333</td>\n",
              "      <td>2.980000</td>\n",
              "      <td>4.633333</td>\n",
              "      <td>1.233333</td>\n",
              "      <td>1017.800000</td>\n",
              "      <td>1018.666667</td>\n",
              "      <td>1017.166667</td>\n",
              "    </tr>\n",
              "  </tbody>\n",
              "</table>\n",
              "<p>1459 rows × 13 columns</p>\n",
              "</div>\n",
              "    <div class=\"colab-df-buttons\">\n",
              "\n",
              "  <div class=\"colab-df-container\">\n",
              "    <button class=\"colab-df-convert\" onclick=\"convertToInteractive('df-98f848f5-0ee1-4d91-979f-c1dbaba28f5e')\"\n",
              "            title=\"Convert this dataframe to an interactive table.\"\n",
              "            style=\"display:none;\">\n",
              "\n",
              "  <svg xmlns=\"http://www.w3.org/2000/svg\" height=\"24px\" viewBox=\"0 -960 960 960\">\n",
              "    <path d=\"M120-120v-720h720v720H120Zm60-500h600v-160H180v160Zm220 220h160v-160H400v160Zm0 220h160v-160H400v160ZM180-400h160v-160H180v160Zm440 0h160v-160H620v160ZM180-180h160v-160H180v160Zm440 0h160v-160H620v160Z\"/>\n",
              "  </svg>\n",
              "    </button>\n",
              "\n",
              "  <style>\n",
              "    .colab-df-container {\n",
              "      display:flex;\n",
              "      gap: 12px;\n",
              "    }\n",
              "\n",
              "    .colab-df-convert {\n",
              "      background-color: #E8F0FE;\n",
              "      border: none;\n",
              "      border-radius: 50%;\n",
              "      cursor: pointer;\n",
              "      display: none;\n",
              "      fill: #1967D2;\n",
              "      height: 32px;\n",
              "      padding: 0 0 0 0;\n",
              "      width: 32px;\n",
              "    }\n",
              "\n",
              "    .colab-df-convert:hover {\n",
              "      background-color: #E2EBFA;\n",
              "      box-shadow: 0px 1px 2px rgba(60, 64, 67, 0.3), 0px 1px 3px 1px rgba(60, 64, 67, 0.15);\n",
              "      fill: #174EA6;\n",
              "    }\n",
              "\n",
              "    .colab-df-buttons div {\n",
              "      margin-bottom: 4px;\n",
              "    }\n",
              "\n",
              "    [theme=dark] .colab-df-convert {\n",
              "      background-color: #3B4455;\n",
              "      fill: #D2E3FC;\n",
              "    }\n",
              "\n",
              "    [theme=dark] .colab-df-convert:hover {\n",
              "      background-color: #434B5C;\n",
              "      box-shadow: 0px 1px 3px 1px rgba(0, 0, 0, 0.15);\n",
              "      filter: drop-shadow(0px 1px 2px rgba(0, 0, 0, 0.3));\n",
              "      fill: #FFFFFF;\n",
              "    }\n",
              "  </style>\n",
              "\n",
              "    <script>\n",
              "      const buttonEl =\n",
              "        document.querySelector('#df-98f848f5-0ee1-4d91-979f-c1dbaba28f5e button.colab-df-convert');\n",
              "      buttonEl.style.display =\n",
              "        google.colab.kernel.accessAllowed ? 'block' : 'none';\n",
              "\n",
              "      async function convertToInteractive(key) {\n",
              "        const element = document.querySelector('#df-98f848f5-0ee1-4d91-979f-c1dbaba28f5e');\n",
              "        const dataTable =\n",
              "          await google.colab.kernel.invokeFunction('convertToInteractive',\n",
              "                                                    [key], {});\n",
              "        if (!dataTable) return;\n",
              "\n",
              "        const docLinkHtml = 'Like what you see? Visit the ' +\n",
              "          '<a target=\"_blank\" href=https://colab.research.google.com/notebooks/data_table.ipynb>data table notebook</a>'\n",
              "          + ' to learn more about interactive tables.';\n",
              "        element.innerHTML = '';\n",
              "        dataTable['output_type'] = 'display_data';\n",
              "        await google.colab.output.renderOutput(dataTable, element);\n",
              "        const docLink = document.createElement('div');\n",
              "        docLink.innerHTML = docLinkHtml;\n",
              "        element.appendChild(docLink);\n",
              "      }\n",
              "    </script>\n",
              "  </div>\n",
              "\n",
              "\n",
              "<div id=\"df-dd4dfe91-b595-4f64-891c-34000dfe3cd3\">\n",
              "  <button class=\"colab-df-quickchart\" onclick=\"quickchart('df-dd4dfe91-b595-4f64-891c-34000dfe3cd3')\"\n",
              "            title=\"Suggest charts\"\n",
              "            style=\"display:none;\">\n",
              "\n",
              "<svg xmlns=\"http://www.w3.org/2000/svg\" height=\"24px\"viewBox=\"0 0 24 24\"\n",
              "     width=\"24px\">\n",
              "    <g>\n",
              "        <path d=\"M19 3H5c-1.1 0-2 .9-2 2v14c0 1.1.9 2 2 2h14c1.1 0 2-.9 2-2V5c0-1.1-.9-2-2-2zM9 17H7v-7h2v7zm4 0h-2V7h2v10zm4 0h-2v-4h2v4z\"/>\n",
              "    </g>\n",
              "</svg>\n",
              "  </button>\n",
              "\n",
              "<style>\n",
              "  .colab-df-quickchart {\n",
              "      --bg-color: #E8F0FE;\n",
              "      --fill-color: #1967D2;\n",
              "      --hover-bg-color: #E2EBFA;\n",
              "      --hover-fill-color: #174EA6;\n",
              "      --disabled-fill-color: #AAA;\n",
              "      --disabled-bg-color: #DDD;\n",
              "  }\n",
              "\n",
              "  [theme=dark] .colab-df-quickchart {\n",
              "      --bg-color: #3B4455;\n",
              "      --fill-color: #D2E3FC;\n",
              "      --hover-bg-color: #434B5C;\n",
              "      --hover-fill-color: #FFFFFF;\n",
              "      --disabled-bg-color: #3B4455;\n",
              "      --disabled-fill-color: #666;\n",
              "  }\n",
              "\n",
              "  .colab-df-quickchart {\n",
              "    background-color: var(--bg-color);\n",
              "    border: none;\n",
              "    border-radius: 50%;\n",
              "    cursor: pointer;\n",
              "    display: none;\n",
              "    fill: var(--fill-color);\n",
              "    height: 32px;\n",
              "    padding: 0;\n",
              "    width: 32px;\n",
              "  }\n",
              "\n",
              "  .colab-df-quickchart:hover {\n",
              "    background-color: var(--hover-bg-color);\n",
              "    box-shadow: 0 1px 2px rgba(60, 64, 67, 0.3), 0 1px 3px 1px rgba(60, 64, 67, 0.15);\n",
              "    fill: var(--button-hover-fill-color);\n",
              "  }\n",
              "\n",
              "  .colab-df-quickchart-complete:disabled,\n",
              "  .colab-df-quickchart-complete:disabled:hover {\n",
              "    background-color: var(--disabled-bg-color);\n",
              "    fill: var(--disabled-fill-color);\n",
              "    box-shadow: none;\n",
              "  }\n",
              "\n",
              "  .colab-df-spinner {\n",
              "    border: 2px solid var(--fill-color);\n",
              "    border-color: transparent;\n",
              "    border-bottom-color: var(--fill-color);\n",
              "    animation:\n",
              "      spin 1s steps(1) infinite;\n",
              "  }\n",
              "\n",
              "  @keyframes spin {\n",
              "    0% {\n",
              "      border-color: transparent;\n",
              "      border-bottom-color: var(--fill-color);\n",
              "      border-left-color: var(--fill-color);\n",
              "    }\n",
              "    20% {\n",
              "      border-color: transparent;\n",
              "      border-left-color: var(--fill-color);\n",
              "      border-top-color: var(--fill-color);\n",
              "    }\n",
              "    30% {\n",
              "      border-color: transparent;\n",
              "      border-left-color: var(--fill-color);\n",
              "      border-top-color: var(--fill-color);\n",
              "      border-right-color: var(--fill-color);\n",
              "    }\n",
              "    40% {\n",
              "      border-color: transparent;\n",
              "      border-right-color: var(--fill-color);\n",
              "      border-top-color: var(--fill-color);\n",
              "    }\n",
              "    60% {\n",
              "      border-color: transparent;\n",
              "      border-right-color: var(--fill-color);\n",
              "    }\n",
              "    80% {\n",
              "      border-color: transparent;\n",
              "      border-right-color: var(--fill-color);\n",
              "      border-bottom-color: var(--fill-color);\n",
              "    }\n",
              "    90% {\n",
              "      border-color: transparent;\n",
              "      border-bottom-color: var(--fill-color);\n",
              "    }\n",
              "  }\n",
              "</style>\n",
              "\n",
              "  <script>\n",
              "    async function quickchart(key) {\n",
              "      const quickchartButtonEl =\n",
              "        document.querySelector('#' + key + ' button');\n",
              "      quickchartButtonEl.disabled = true;  // To prevent multiple clicks.\n",
              "      quickchartButtonEl.classList.add('colab-df-spinner');\n",
              "      try {\n",
              "        const charts = await google.colab.kernel.invokeFunction(\n",
              "            'suggestCharts', [key], {});\n",
              "      } catch (error) {\n",
              "        console.error('Error during call to suggestCharts:', error);\n",
              "      }\n",
              "      quickchartButtonEl.classList.remove('colab-df-spinner');\n",
              "      quickchartButtonEl.classList.add('colab-df-quickchart-complete');\n",
              "    }\n",
              "    (() => {\n",
              "      let quickchartButtonEl =\n",
              "        document.querySelector('#df-dd4dfe91-b595-4f64-891c-34000dfe3cd3 button');\n",
              "      quickchartButtonEl.style.display =\n",
              "        google.colab.kernel.accessAllowed ? 'block' : 'none';\n",
              "    })();\n",
              "  </script>\n",
              "</div>\n",
              "    </div>\n",
              "  </div>\n"
            ]
          },
          "metadata": {},
          "execution_count": 51
        }
      ]
    },
    {
      "cell_type": "markdown",
      "source": [
        "## Dataset Splitting\n",
        "Partition the dataset into training and testing sets with an 80:20 ratio.\n",
        "\n",
        "**WARNING: DO NOT SHUFFLE THE DATASET.**\n",
        "\n"
      ],
      "metadata": {
        "id": "tls69_PrbJKW"
      }
    },
    {
      "cell_type": "code",
      "source": [
        "# Write your code here. Add as many boxes as you need.\n",
        "data = data.reset_index()\n",
        "data.drop('date',axis=1,inplace=True)"
      ],
      "metadata": {
        "id": "PjGGGMxebeoB"
      },
      "execution_count": null,
      "outputs": []
    },
    {
      "cell_type": "code",
      "source": [
        "from sklearn.model_selection import train_test_split\n",
        "\n",
        "y=data['meantemp']\n",
        "\n",
        "X = data.drop('meantemp',axis=1)\n",
        "\n",
        "X_train, X_test, y_train, y_test = train_test_split(X, y, test_size=0.2, shuffle=False, random_state=42)"
      ],
      "metadata": {
        "id": "F_eljJZ_Vmm3"
      },
      "execution_count": null,
      "outputs": []
    },
    {
      "cell_type": "markdown",
      "source": [
        "## Ensemble Learning Methods"
      ],
      "metadata": {
        "id": "VIkAR1Hibiwr"
      }
    },
    {
      "cell_type": "markdown",
      "source": [
        "### Bagging"
      ],
      "metadata": {
        "id": "-XPgBlD7jgI5"
      }
    },
    {
      "cell_type": "markdown",
      "source": [
        "Create an instance of a Random Forest model and train it using the `fit` function."
      ],
      "metadata": {
        "id": "qWn1pafKbnxH"
      }
    },
    {
      "cell_type": "code",
      "source": [
        "# Write your code here. Add as many boxes as you need.\n",
        "from sklearn.ensemble import RandomForestRegressor\n",
        "random_forest_model = RandomForestRegressor(n_estimators=100, random_state=42)\n",
        "random_forest_model.fit(X_train, y_train)"
      ],
      "metadata": {
        "id": "IXFIrQthbnkb",
        "colab": {
          "base_uri": "https://localhost:8080/",
          "height": 74
        },
        "outputId": "7c3b58f6-490d-4f54-91ea-dd91d52981a8"
      },
      "execution_count": null,
      "outputs": [
        {
          "output_type": "execute_result",
          "data": {
            "text/plain": [
              "RandomForestRegressor(random_state=42)"
            ],
            "text/html": [
              "<style>#sk-container-id-4 {color: black;background-color: white;}#sk-container-id-4 pre{padding: 0;}#sk-container-id-4 div.sk-toggleable {background-color: white;}#sk-container-id-4 label.sk-toggleable__label {cursor: pointer;display: block;width: 100%;margin-bottom: 0;padding: 0.3em;box-sizing: border-box;text-align: center;}#sk-container-id-4 label.sk-toggleable__label-arrow:before {content: \"▸\";float: left;margin-right: 0.25em;color: #696969;}#sk-container-id-4 label.sk-toggleable__label-arrow:hover:before {color: black;}#sk-container-id-4 div.sk-estimator:hover label.sk-toggleable__label-arrow:before {color: black;}#sk-container-id-4 div.sk-toggleable__content {max-height: 0;max-width: 0;overflow: hidden;text-align: left;background-color: #f0f8ff;}#sk-container-id-4 div.sk-toggleable__content pre {margin: 0.2em;color: black;border-radius: 0.25em;background-color: #f0f8ff;}#sk-container-id-4 input.sk-toggleable__control:checked~div.sk-toggleable__content {max-height: 200px;max-width: 100%;overflow: auto;}#sk-container-id-4 input.sk-toggleable__control:checked~label.sk-toggleable__label-arrow:before {content: \"▾\";}#sk-container-id-4 div.sk-estimator input.sk-toggleable__control:checked~label.sk-toggleable__label {background-color: #d4ebff;}#sk-container-id-4 div.sk-label input.sk-toggleable__control:checked~label.sk-toggleable__label {background-color: #d4ebff;}#sk-container-id-4 input.sk-hidden--visually {border: 0;clip: rect(1px 1px 1px 1px);clip: rect(1px, 1px, 1px, 1px);height: 1px;margin: -1px;overflow: hidden;padding: 0;position: absolute;width: 1px;}#sk-container-id-4 div.sk-estimator {font-family: monospace;background-color: #f0f8ff;border: 1px dotted black;border-radius: 0.25em;box-sizing: border-box;margin-bottom: 0.5em;}#sk-container-id-4 div.sk-estimator:hover {background-color: #d4ebff;}#sk-container-id-4 div.sk-parallel-item::after {content: \"\";width: 100%;border-bottom: 1px solid gray;flex-grow: 1;}#sk-container-id-4 div.sk-label:hover label.sk-toggleable__label {background-color: #d4ebff;}#sk-container-id-4 div.sk-serial::before {content: \"\";position: absolute;border-left: 1px solid gray;box-sizing: border-box;top: 0;bottom: 0;left: 50%;z-index: 0;}#sk-container-id-4 div.sk-serial {display: flex;flex-direction: column;align-items: center;background-color: white;padding-right: 0.2em;padding-left: 0.2em;position: relative;}#sk-container-id-4 div.sk-item {position: relative;z-index: 1;}#sk-container-id-4 div.sk-parallel {display: flex;align-items: stretch;justify-content: center;background-color: white;position: relative;}#sk-container-id-4 div.sk-item::before, #sk-container-id-4 div.sk-parallel-item::before {content: \"\";position: absolute;border-left: 1px solid gray;box-sizing: border-box;top: 0;bottom: 0;left: 50%;z-index: -1;}#sk-container-id-4 div.sk-parallel-item {display: flex;flex-direction: column;z-index: 1;position: relative;background-color: white;}#sk-container-id-4 div.sk-parallel-item:first-child::after {align-self: flex-end;width: 50%;}#sk-container-id-4 div.sk-parallel-item:last-child::after {align-self: flex-start;width: 50%;}#sk-container-id-4 div.sk-parallel-item:only-child::after {width: 0;}#sk-container-id-4 div.sk-dashed-wrapped {border: 1px dashed gray;margin: 0 0.4em 0.5em 0.4em;box-sizing: border-box;padding-bottom: 0.4em;background-color: white;}#sk-container-id-4 div.sk-label label {font-family: monospace;font-weight: bold;display: inline-block;line-height: 1.2em;}#sk-container-id-4 div.sk-label-container {text-align: center;}#sk-container-id-4 div.sk-container {/* jupyter's `normalize.less` sets `[hidden] { display: none; }` but bootstrap.min.css set `[hidden] { display: none !important; }` so we also need the `!important` here to be able to override the default hidden behavior on the sphinx rendered scikit-learn.org. See: https://github.com/scikit-learn/scikit-learn/issues/21755 */display: inline-block !important;position: relative;}#sk-container-id-4 div.sk-text-repr-fallback {display: none;}</style><div id=\"sk-container-id-4\" class=\"sk-top-container\"><div class=\"sk-text-repr-fallback\"><pre>RandomForestRegressor(random_state=42)</pre><b>In a Jupyter environment, please rerun this cell to show the HTML representation or trust the notebook. <br />On GitHub, the HTML representation is unable to render, please try loading this page with nbviewer.org.</b></div><div class=\"sk-container\" hidden><div class=\"sk-item\"><div class=\"sk-estimator sk-toggleable\"><input class=\"sk-toggleable__control sk-hidden--visually\" id=\"sk-estimator-id-4\" type=\"checkbox\" checked><label for=\"sk-estimator-id-4\" class=\"sk-toggleable__label sk-toggleable__label-arrow\">RandomForestRegressor</label><div class=\"sk-toggleable__content\"><pre>RandomForestRegressor(random_state=42)</pre></div></div></div></div></div>"
            ]
          },
          "metadata": {},
          "execution_count": 73
        }
      ]
    },
    {
      "cell_type": "markdown",
      "source": [
        "Use the trained model to make predictions for the test set."
      ],
      "metadata": {
        "id": "gyXZwAVab8Cp"
      }
    },
    {
      "cell_type": "code",
      "source": [
        "# Write your code here. Add as many boxes as you need.\n",
        "y_pred = random_forest_model.predict(X_test)"
      ],
      "metadata": {
        "id": "EvMfVum6b_9b"
      },
      "execution_count": null,
      "outputs": []
    },
    {
      "cell_type": "markdown",
      "source": [
        "Assess the performance of the model by using different metrics provided by the `scikit-learn` library."
      ],
      "metadata": {
        "id": "3VxAvDPtcNCh"
      }
    },
    {
      "cell_type": "code",
      "source": [
        "# Write your code here. Add as many boxes as you need.\n",
        "from sklearn.metrics import mean_squared_error, mean_absolute_error\n",
        "\n",
        "print(\"Mean Absolute Error : \" + str(mean_absolute_error(y_pred, y_test)))\n",
        "print(\"Mean Squared Error : \" + str(mean_squared_error(y_pred, y_test)))\n",
        "print(\"Root Mean Squared Error : \" + str(np.sqrt(mean_squared_error(y_pred, y_test))))"
      ],
      "metadata": {
        "id": "V4axpktycQhp",
        "colab": {
          "base_uri": "https://localhost:8080/"
        },
        "outputId": "8ebf602d-e5e8-4d1e-d979-3c45b611b75e"
      },
      "execution_count": null,
      "outputs": [
        {
          "output_type": "stream",
          "name": "stdout",
          "text": [
            "Mean Absolute Error : 1.5255690091106928\n",
            "Mean Squared Error : 3.770128777072364\n",
            "Root Mean Squared Error : 1.9416819453948588\n"
          ]
        }
      ]
    },
    {
      "cell_type": "markdown",
      "source": [
        "### Boosting"
      ],
      "metadata": {
        "id": "4LF1v6lbjcGL"
      }
    },
    {
      "cell_type": "markdown",
      "source": [
        "Create an instance of an XGBoost model and train it using the `fit` function."
      ],
      "metadata": {
        "id": "VpuBInwyjkRr"
      }
    },
    {
      "cell_type": "code",
      "source": [
        "y=data['meantemp']\n",
        "\n",
        "X = data.drop('meantemp',axis=1)\n",
        "\n",
        "X_train, X_test, y_train, y_test = train_test_split(X, y, test_size=0.2, shuffle=False, random_state=42)"
      ],
      "metadata": {
        "id": "_zhjAAiNa_7H"
      },
      "execution_count": null,
      "outputs": []
    },
    {
      "cell_type": "code",
      "source": [
        "# Write your code here. Add as many boxes as you need.\n",
        "from xgboost import XGBRegressor\n",
        "\n",
        "model = XGBRegressor(objective ='reg:linear',colsample_bytree=0.3,learning_rate=0.1,max_depth=5,alpha=2,n_estimators=10)\n",
        "model.fit(X_train, y_train)"
      ],
      "metadata": {
        "id": "f7IPuXNMjb3K",
        "colab": {
          "base_uri": "https://localhost:8080/",
          "height": 284
        },
        "outputId": "d4838ee9-82db-4cbf-af55-30bbe3baf0bb"
      },
      "execution_count": null,
      "outputs": [
        {
          "output_type": "stream",
          "name": "stderr",
          "text": [
            "/usr/local/lib/python3.10/dist-packages/xgboost/core.py:160: UserWarning: [13:47:59] WARNING: /workspace/src/objective/regression_obj.cu:209: reg:linear is now deprecated in favor of reg:squarederror.\n",
            "  warnings.warn(smsg, UserWarning)\n"
          ]
        },
        {
          "output_type": "execute_result",
          "data": {
            "text/plain": [
              "XGBRegressor(alpha=2, base_score=None, booster=None, callbacks=None,\n",
              "             colsample_bylevel=None, colsample_bynode=None,\n",
              "             colsample_bytree=0.3, device=None, early_stopping_rounds=None,\n",
              "             enable_categorical=False, eval_metric=None, feature_types=None,\n",
              "             gamma=None, grow_policy=None, importance_type=None,\n",
              "             interaction_constraints=None, learning_rate=0.1, max_bin=None,\n",
              "             max_cat_threshold=None, max_cat_to_onehot=None,\n",
              "             max_delta_step=None, max_depth=5, max_leaves=None,\n",
              "             min_child_weight=None, missing=nan, monotone_constraints=None,\n",
              "             multi_strategy=None, n_estimators=10, n_jobs=None,\n",
              "             num_parallel_tree=None, ...)"
            ],
            "text/html": [
              "<style>#sk-container-id-5 {color: black;background-color: white;}#sk-container-id-5 pre{padding: 0;}#sk-container-id-5 div.sk-toggleable {background-color: white;}#sk-container-id-5 label.sk-toggleable__label {cursor: pointer;display: block;width: 100%;margin-bottom: 0;padding: 0.3em;box-sizing: border-box;text-align: center;}#sk-container-id-5 label.sk-toggleable__label-arrow:before {content: \"▸\";float: left;margin-right: 0.25em;color: #696969;}#sk-container-id-5 label.sk-toggleable__label-arrow:hover:before {color: black;}#sk-container-id-5 div.sk-estimator:hover label.sk-toggleable__label-arrow:before {color: black;}#sk-container-id-5 div.sk-toggleable__content {max-height: 0;max-width: 0;overflow: hidden;text-align: left;background-color: #f0f8ff;}#sk-container-id-5 div.sk-toggleable__content pre {margin: 0.2em;color: black;border-radius: 0.25em;background-color: #f0f8ff;}#sk-container-id-5 input.sk-toggleable__control:checked~div.sk-toggleable__content {max-height: 200px;max-width: 100%;overflow: auto;}#sk-container-id-5 input.sk-toggleable__control:checked~label.sk-toggleable__label-arrow:before {content: \"▾\";}#sk-container-id-5 div.sk-estimator input.sk-toggleable__control:checked~label.sk-toggleable__label {background-color: #d4ebff;}#sk-container-id-5 div.sk-label input.sk-toggleable__control:checked~label.sk-toggleable__label {background-color: #d4ebff;}#sk-container-id-5 input.sk-hidden--visually {border: 0;clip: rect(1px 1px 1px 1px);clip: rect(1px, 1px, 1px, 1px);height: 1px;margin: -1px;overflow: hidden;padding: 0;position: absolute;width: 1px;}#sk-container-id-5 div.sk-estimator {font-family: monospace;background-color: #f0f8ff;border: 1px dotted black;border-radius: 0.25em;box-sizing: border-box;margin-bottom: 0.5em;}#sk-container-id-5 div.sk-estimator:hover {background-color: #d4ebff;}#sk-container-id-5 div.sk-parallel-item::after {content: \"\";width: 100%;border-bottom: 1px solid gray;flex-grow: 1;}#sk-container-id-5 div.sk-label:hover label.sk-toggleable__label {background-color: #d4ebff;}#sk-container-id-5 div.sk-serial::before {content: \"\";position: absolute;border-left: 1px solid gray;box-sizing: border-box;top: 0;bottom: 0;left: 50%;z-index: 0;}#sk-container-id-5 div.sk-serial {display: flex;flex-direction: column;align-items: center;background-color: white;padding-right: 0.2em;padding-left: 0.2em;position: relative;}#sk-container-id-5 div.sk-item {position: relative;z-index: 1;}#sk-container-id-5 div.sk-parallel {display: flex;align-items: stretch;justify-content: center;background-color: white;position: relative;}#sk-container-id-5 div.sk-item::before, #sk-container-id-5 div.sk-parallel-item::before {content: \"\";position: absolute;border-left: 1px solid gray;box-sizing: border-box;top: 0;bottom: 0;left: 50%;z-index: -1;}#sk-container-id-5 div.sk-parallel-item {display: flex;flex-direction: column;z-index: 1;position: relative;background-color: white;}#sk-container-id-5 div.sk-parallel-item:first-child::after {align-self: flex-end;width: 50%;}#sk-container-id-5 div.sk-parallel-item:last-child::after {align-self: flex-start;width: 50%;}#sk-container-id-5 div.sk-parallel-item:only-child::after {width: 0;}#sk-container-id-5 div.sk-dashed-wrapped {border: 1px dashed gray;margin: 0 0.4em 0.5em 0.4em;box-sizing: border-box;padding-bottom: 0.4em;background-color: white;}#sk-container-id-5 div.sk-label label {font-family: monospace;font-weight: bold;display: inline-block;line-height: 1.2em;}#sk-container-id-5 div.sk-label-container {text-align: center;}#sk-container-id-5 div.sk-container {/* jupyter's `normalize.less` sets `[hidden] { display: none; }` but bootstrap.min.css set `[hidden] { display: none !important; }` so we also need the `!important` here to be able to override the default hidden behavior on the sphinx rendered scikit-learn.org. See: https://github.com/scikit-learn/scikit-learn/issues/21755 */display: inline-block !important;position: relative;}#sk-container-id-5 div.sk-text-repr-fallback {display: none;}</style><div id=\"sk-container-id-5\" class=\"sk-top-container\"><div class=\"sk-text-repr-fallback\"><pre>XGBRegressor(alpha=2, base_score=None, booster=None, callbacks=None,\n",
              "             colsample_bylevel=None, colsample_bynode=None,\n",
              "             colsample_bytree=0.3, device=None, early_stopping_rounds=None,\n",
              "             enable_categorical=False, eval_metric=None, feature_types=None,\n",
              "             gamma=None, grow_policy=None, importance_type=None,\n",
              "             interaction_constraints=None, learning_rate=0.1, max_bin=None,\n",
              "             max_cat_threshold=None, max_cat_to_onehot=None,\n",
              "             max_delta_step=None, max_depth=5, max_leaves=None,\n",
              "             min_child_weight=None, missing=nan, monotone_constraints=None,\n",
              "             multi_strategy=None, n_estimators=10, n_jobs=None,\n",
              "             num_parallel_tree=None, ...)</pre><b>In a Jupyter environment, please rerun this cell to show the HTML representation or trust the notebook. <br />On GitHub, the HTML representation is unable to render, please try loading this page with nbviewer.org.</b></div><div class=\"sk-container\" hidden><div class=\"sk-item\"><div class=\"sk-estimator sk-toggleable\"><input class=\"sk-toggleable__control sk-hidden--visually\" id=\"sk-estimator-id-5\" type=\"checkbox\" checked><label for=\"sk-estimator-id-5\" class=\"sk-toggleable__label sk-toggleable__label-arrow\">XGBRegressor</label><div class=\"sk-toggleable__content\"><pre>XGBRegressor(alpha=2, base_score=None, booster=None, callbacks=None,\n",
              "             colsample_bylevel=None, colsample_bynode=None,\n",
              "             colsample_bytree=0.3, device=None, early_stopping_rounds=None,\n",
              "             enable_categorical=False, eval_metric=None, feature_types=None,\n",
              "             gamma=None, grow_policy=None, importance_type=None,\n",
              "             interaction_constraints=None, learning_rate=0.1, max_bin=None,\n",
              "             max_cat_threshold=None, max_cat_to_onehot=None,\n",
              "             max_delta_step=None, max_depth=5, max_leaves=None,\n",
              "             min_child_weight=None, missing=nan, monotone_constraints=None,\n",
              "             multi_strategy=None, n_estimators=10, n_jobs=None,\n",
              "             num_parallel_tree=None, ...)</pre></div></div></div></div></div>"
            ]
          },
          "metadata": {},
          "execution_count": 77
        }
      ]
    },
    {
      "cell_type": "markdown",
      "source": [
        "Use the trained model to make predictions for the test set."
      ],
      "metadata": {
        "id": "30u245l0jnhE"
      }
    },
    {
      "cell_type": "code",
      "source": [
        "# Write your code here. Add as many boxes as you need.\n",
        "y_pred = model.predict(X_test)"
      ],
      "metadata": {
        "id": "ykXWljGFjnDr"
      },
      "execution_count": null,
      "outputs": []
    },
    {
      "cell_type": "markdown",
      "source": [
        "Assess the performance of the model by using different metrics provided by the `scikit-learn` library."
      ],
      "metadata": {
        "id": "UWnX_tVNjqGl"
      }
    },
    {
      "cell_type": "code",
      "source": [
        "# Write your code here. Add as many boxes as you need.\n",
        "from sklearn.metrics import mean_squared_error, mean_absolute_error\n",
        "\n",
        "print(\"Mean Absolute Error : \" + str(mean_absolute_error(y_pred, y_test)))\n",
        "print(\"Mean Squared Error : \" + str(mean_squared_error(y_pred, y_test)))\n",
        "print(\"Root Mean Squared Error : \" + str(np.sqrt(mean_squared_error(y_pred, y_test))))"
      ],
      "metadata": {
        "id": "FNFvmZ0Zjp1X",
        "colab": {
          "base_uri": "https://localhost:8080/"
        },
        "outputId": "ad2aac4d-384c-42fb-cbce-1bfc5c9abe03"
      },
      "execution_count": null,
      "outputs": [
        {
          "output_type": "stream",
          "name": "stdout",
          "text": [
            "Mean Absolute Error : 2.723422842965123\n",
            "Mean Squared Error : 12.274823044534957\n",
            "Root Mean Squared Error : 3.503544354583649\n"
          ]
        }
      ]
    },
    {
      "cell_type": "markdown",
      "source": [
        "# Laboratory Exercise - Bonus Task (+ 2 points)"
      ],
      "metadata": {
        "id": "RwnD_qSpIeXG"
      }
    },
    {
      "cell_type": "markdown",
      "source": [
        "As part of the bonus task in this laboratory assignment, your objective is to fine-tune the number of estimators (`n_estimators`) for the XGBoost model using a cross-validation with grid search and time series split. This involves systematically experimenting with various values for `n_estimators` and evaluating the model's performance using cross-validation. Upon determining the most suitable `n_estimators` value, evaluate the model's performance on a test set for final assessment.\n",
        "\n",
        "Hints:\n",
        "- For grid search use the `GridCVSearch` from the `scikit-learn` library. Check the documentation at https://scikit-learn.org/stable/modules/generated/sklearn.model_selection.GridSearchCV.html.\n",
        "- For cross-validation use the `TimeSeriesSplit` from the `scikit-learn` library. Check the documentation at https://scikit-learn.org/stable/modules/generated/sklearn.model_selection.TimeSeriesSplit.html."
      ],
      "metadata": {
        "id": "lSTuVpyYd2is"
      }
    },
    {
      "cell_type": "markdown",
      "source": [
        "## Dataset Splitting\n",
        "Partition the dataset into training and testing sets with an 90:10 ratio.\n",
        "\n",
        "**WARNING: DO NOT SHUFFLE THE DATASET.**"
      ],
      "metadata": {
        "id": "yZriA4d4eWLJ"
      }
    },
    {
      "cell_type": "code",
      "source": [
        "# Write your code here. Add as many boxes as you need.\n",
        "from sklearn.model_selection import train_test_split\n",
        "\n",
        "y=data['meantemp']\n",
        "\n",
        "X = data.drop('meantemp',axis=1)\n",
        "\n",
        "X_train, X_test, y_train, y_test = train_test_split(X, y, test_size=0.1, shuffle=False, random_state=42)"
      ],
      "metadata": {
        "id": "ile-T3vmIfsm"
      },
      "execution_count": null,
      "outputs": []
    },
    {
      "cell_type": "markdown",
      "source": [
        "## Fine-tuning the XGBoost Hyperparameter\n",
        "Experiment with various values for `n_estimators` and evaluate the model's performance using cross-validation."
      ],
      "metadata": {
        "id": "E9myidoNgjmy"
      }
    },
    {
      "cell_type": "code",
      "source": [
        "from xgboost import XGBRegressor\n",
        "from sklearn.model_selection import TimeSeriesSplit, GridSearchCV, train_test_split"
      ],
      "metadata": {
        "id": "W9zYLb3WdKkc"
      },
      "execution_count": null,
      "outputs": []
    },
    {
      "cell_type": "code",
      "source": [
        "# Write your code here. Add as many boxes as you need.\n",
        "\n",
        "xgb_model = XGBRegressor()\n",
        "param_grid = {\n",
        "    'n_estimators': [50, 100, 150, 200],\n",
        "}\n",
        "\n",
        "tscv = TimeSeriesSplit()\n",
        "\n",
        "grid_search = GridSearchCV(estimator=xgb_model, param_grid=param_grid, scoring='neg_mean_squared_error', cv=tscv)\n",
        "grid_search.fit(X_train, y_train)"
      ],
      "metadata": {
        "id": "Vb5WJwEggm1f",
        "colab": {
          "base_uri": "https://localhost:8080/",
          "height": 117
        },
        "outputId": "39fe1ccb-14d7-4bb7-a0dc-b283db55dc11"
      },
      "execution_count": null,
      "outputs": [
        {
          "output_type": "execute_result",
          "data": {
            "text/plain": [
              "GridSearchCV(cv=TimeSeriesSplit(gap=0, max_train_size=None, n_splits=5, test_size=None),\n",
              "             estimator=XGBRegressor(base_score=None, booster=None,\n",
              "                                    callbacks=None, colsample_bylevel=None,\n",
              "                                    colsample_bynode=None,\n",
              "                                    colsample_bytree=None, device=None,\n",
              "                                    early_stopping_rounds=None,\n",
              "                                    enable_categorical=False, eval_metric=None,\n",
              "                                    feature_types=None, gamma=None,\n",
              "                                    grow_policy=None, imp...\n",
              "                                    learning_rate=None, max_bin=None,\n",
              "                                    max_cat_threshold=None,\n",
              "                                    max_cat_to_onehot=None, max_delta_step=None,\n",
              "                                    max_depth=None, max_leaves=None,\n",
              "                                    min_child_weight=None, missing=nan,\n",
              "                                    monotone_constraints=None,\n",
              "                                    multi_strategy=None, n_estimators=None,\n",
              "                                    n_jobs=None, num_parallel_tree=None,\n",
              "                                    random_state=None, ...),\n",
              "             param_grid={'n_estimators': [50, 100, 150, 200]},\n",
              "             scoring='neg_mean_squared_error')"
            ],
            "text/html": [
              "<style>#sk-container-id-8 {color: black;background-color: white;}#sk-container-id-8 pre{padding: 0;}#sk-container-id-8 div.sk-toggleable {background-color: white;}#sk-container-id-8 label.sk-toggleable__label {cursor: pointer;display: block;width: 100%;margin-bottom: 0;padding: 0.3em;box-sizing: border-box;text-align: center;}#sk-container-id-8 label.sk-toggleable__label-arrow:before {content: \"▸\";float: left;margin-right: 0.25em;color: #696969;}#sk-container-id-8 label.sk-toggleable__label-arrow:hover:before {color: black;}#sk-container-id-8 div.sk-estimator:hover label.sk-toggleable__label-arrow:before {color: black;}#sk-container-id-8 div.sk-toggleable__content {max-height: 0;max-width: 0;overflow: hidden;text-align: left;background-color: #f0f8ff;}#sk-container-id-8 div.sk-toggleable__content pre {margin: 0.2em;color: black;border-radius: 0.25em;background-color: #f0f8ff;}#sk-container-id-8 input.sk-toggleable__control:checked~div.sk-toggleable__content {max-height: 200px;max-width: 100%;overflow: auto;}#sk-container-id-8 input.sk-toggleable__control:checked~label.sk-toggleable__label-arrow:before {content: \"▾\";}#sk-container-id-8 div.sk-estimator input.sk-toggleable__control:checked~label.sk-toggleable__label {background-color: #d4ebff;}#sk-container-id-8 div.sk-label input.sk-toggleable__control:checked~label.sk-toggleable__label {background-color: #d4ebff;}#sk-container-id-8 input.sk-hidden--visually {border: 0;clip: rect(1px 1px 1px 1px);clip: rect(1px, 1px, 1px, 1px);height: 1px;margin: -1px;overflow: hidden;padding: 0;position: absolute;width: 1px;}#sk-container-id-8 div.sk-estimator {font-family: monospace;background-color: #f0f8ff;border: 1px dotted black;border-radius: 0.25em;box-sizing: border-box;margin-bottom: 0.5em;}#sk-container-id-8 div.sk-estimator:hover {background-color: #d4ebff;}#sk-container-id-8 div.sk-parallel-item::after {content: \"\";width: 100%;border-bottom: 1px solid gray;flex-grow: 1;}#sk-container-id-8 div.sk-label:hover label.sk-toggleable__label {background-color: #d4ebff;}#sk-container-id-8 div.sk-serial::before {content: \"\";position: absolute;border-left: 1px solid gray;box-sizing: border-box;top: 0;bottom: 0;left: 50%;z-index: 0;}#sk-container-id-8 div.sk-serial {display: flex;flex-direction: column;align-items: center;background-color: white;padding-right: 0.2em;padding-left: 0.2em;position: relative;}#sk-container-id-8 div.sk-item {position: relative;z-index: 1;}#sk-container-id-8 div.sk-parallel {display: flex;align-items: stretch;justify-content: center;background-color: white;position: relative;}#sk-container-id-8 div.sk-item::before, #sk-container-id-8 div.sk-parallel-item::before {content: \"\";position: absolute;border-left: 1px solid gray;box-sizing: border-box;top: 0;bottom: 0;left: 50%;z-index: -1;}#sk-container-id-8 div.sk-parallel-item {display: flex;flex-direction: column;z-index: 1;position: relative;background-color: white;}#sk-container-id-8 div.sk-parallel-item:first-child::after {align-self: flex-end;width: 50%;}#sk-container-id-8 div.sk-parallel-item:last-child::after {align-self: flex-start;width: 50%;}#sk-container-id-8 div.sk-parallel-item:only-child::after {width: 0;}#sk-container-id-8 div.sk-dashed-wrapped {border: 1px dashed gray;margin: 0 0.4em 0.5em 0.4em;box-sizing: border-box;padding-bottom: 0.4em;background-color: white;}#sk-container-id-8 div.sk-label label {font-family: monospace;font-weight: bold;display: inline-block;line-height: 1.2em;}#sk-container-id-8 div.sk-label-container {text-align: center;}#sk-container-id-8 div.sk-container {/* jupyter's `normalize.less` sets `[hidden] { display: none; }` but bootstrap.min.css set `[hidden] { display: none !important; }` so we also need the `!important` here to be able to override the default hidden behavior on the sphinx rendered scikit-learn.org. See: https://github.com/scikit-learn/scikit-learn/issues/21755 */display: inline-block !important;position: relative;}#sk-container-id-8 div.sk-text-repr-fallback {display: none;}</style><div id=\"sk-container-id-8\" class=\"sk-top-container\"><div class=\"sk-text-repr-fallback\"><pre>GridSearchCV(cv=TimeSeriesSplit(gap=0, max_train_size=None, n_splits=5, test_size=None),\n",
              "             estimator=XGBRegressor(base_score=None, booster=None,\n",
              "                                    callbacks=None, colsample_bylevel=None,\n",
              "                                    colsample_bynode=None,\n",
              "                                    colsample_bytree=None, device=None,\n",
              "                                    early_stopping_rounds=None,\n",
              "                                    enable_categorical=False, eval_metric=None,\n",
              "                                    feature_types=None, gamma=None,\n",
              "                                    grow_policy=None, imp...\n",
              "                                    learning_rate=None, max_bin=None,\n",
              "                                    max_cat_threshold=None,\n",
              "                                    max_cat_to_onehot=None, max_delta_step=None,\n",
              "                                    max_depth=None, max_leaves=None,\n",
              "                                    min_child_weight=None, missing=nan,\n",
              "                                    monotone_constraints=None,\n",
              "                                    multi_strategy=None, n_estimators=None,\n",
              "                                    n_jobs=None, num_parallel_tree=None,\n",
              "                                    random_state=None, ...),\n",
              "             param_grid={&#x27;n_estimators&#x27;: [50, 100, 150, 200]},\n",
              "             scoring=&#x27;neg_mean_squared_error&#x27;)</pre><b>In a Jupyter environment, please rerun this cell to show the HTML representation or trust the notebook. <br />On GitHub, the HTML representation is unable to render, please try loading this page with nbviewer.org.</b></div><div class=\"sk-container\" hidden><div class=\"sk-item sk-dashed-wrapped\"><div class=\"sk-label-container\"><div class=\"sk-label sk-toggleable\"><input class=\"sk-toggleable__control sk-hidden--visually\" id=\"sk-estimator-id-12\" type=\"checkbox\" ><label for=\"sk-estimator-id-12\" class=\"sk-toggleable__label sk-toggleable__label-arrow\">GridSearchCV</label><div class=\"sk-toggleable__content\"><pre>GridSearchCV(cv=TimeSeriesSplit(gap=0, max_train_size=None, n_splits=5, test_size=None),\n",
              "             estimator=XGBRegressor(base_score=None, booster=None,\n",
              "                                    callbacks=None, colsample_bylevel=None,\n",
              "                                    colsample_bynode=None,\n",
              "                                    colsample_bytree=None, device=None,\n",
              "                                    early_stopping_rounds=None,\n",
              "                                    enable_categorical=False, eval_metric=None,\n",
              "                                    feature_types=None, gamma=None,\n",
              "                                    grow_policy=None, imp...\n",
              "                                    learning_rate=None, max_bin=None,\n",
              "                                    max_cat_threshold=None,\n",
              "                                    max_cat_to_onehot=None, max_delta_step=None,\n",
              "                                    max_depth=None, max_leaves=None,\n",
              "                                    min_child_weight=None, missing=nan,\n",
              "                                    monotone_constraints=None,\n",
              "                                    multi_strategy=None, n_estimators=None,\n",
              "                                    n_jobs=None, num_parallel_tree=None,\n",
              "                                    random_state=None, ...),\n",
              "             param_grid={&#x27;n_estimators&#x27;: [50, 100, 150, 200]},\n",
              "             scoring=&#x27;neg_mean_squared_error&#x27;)</pre></div></div></div><div class=\"sk-parallel\"><div class=\"sk-parallel-item\"><div class=\"sk-item\"><div class=\"sk-label-container\"><div class=\"sk-label sk-toggleable\"><input class=\"sk-toggleable__control sk-hidden--visually\" id=\"sk-estimator-id-13\" type=\"checkbox\" ><label for=\"sk-estimator-id-13\" class=\"sk-toggleable__label sk-toggleable__label-arrow\">estimator: XGBRegressor</label><div class=\"sk-toggleable__content\"><pre>XGBRegressor(base_score=None, booster=None, callbacks=None,\n",
              "             colsample_bylevel=None, colsample_bynode=None,\n",
              "             colsample_bytree=None, device=None, early_stopping_rounds=None,\n",
              "             enable_categorical=False, eval_metric=None, feature_types=None,\n",
              "             gamma=None, grow_policy=None, importance_type=None,\n",
              "             interaction_constraints=None, learning_rate=None, max_bin=None,\n",
              "             max_cat_threshold=None, max_cat_to_onehot=None,\n",
              "             max_delta_step=None, max_depth=None, max_leaves=None,\n",
              "             min_child_weight=None, missing=nan, monotone_constraints=None,\n",
              "             multi_strategy=None, n_estimators=None, n_jobs=None,\n",
              "             num_parallel_tree=None, random_state=None, ...)</pre></div></div></div><div class=\"sk-serial\"><div class=\"sk-item\"><div class=\"sk-estimator sk-toggleable\"><input class=\"sk-toggleable__control sk-hidden--visually\" id=\"sk-estimator-id-14\" type=\"checkbox\" ><label for=\"sk-estimator-id-14\" class=\"sk-toggleable__label sk-toggleable__label-arrow\">XGBRegressor</label><div class=\"sk-toggleable__content\"><pre>XGBRegressor(base_score=None, booster=None, callbacks=None,\n",
              "             colsample_bylevel=None, colsample_bynode=None,\n",
              "             colsample_bytree=None, device=None, early_stopping_rounds=None,\n",
              "             enable_categorical=False, eval_metric=None, feature_types=None,\n",
              "             gamma=None, grow_policy=None, importance_type=None,\n",
              "             interaction_constraints=None, learning_rate=None, max_bin=None,\n",
              "             max_cat_threshold=None, max_cat_to_onehot=None,\n",
              "             max_delta_step=None, max_depth=None, max_leaves=None,\n",
              "             min_child_weight=None, missing=nan, monotone_constraints=None,\n",
              "             multi_strategy=None, n_estimators=None, n_jobs=None,\n",
              "             num_parallel_tree=None, random_state=None, ...)</pre></div></div></div></div></div></div></div></div></div></div>"
            ]
          },
          "metadata": {},
          "execution_count": 92
        }
      ]
    },
    {
      "cell_type": "markdown",
      "source": [
        "## Final Assessment of the Model Performance\n",
        "Upon determining the most suitable `n_estimators` value, evaluate the model's performance on a test set for final assessment."
      ],
      "metadata": {
        "id": "OzxTQJABiWAp"
      }
    },
    {
      "cell_type": "code",
      "source": [
        "# Write your code here. Add as many boxes as you need.\n",
        "print(\"Best Parameters:\", grid_search.best_params_)\n",
        "print(\"Best Cross-Validation MSE:\", -grid_search.best_score_)\n",
        "\n",
        "best_model = grid_search.best_estimator_\n",
        "y_pred_test = best_model.predict(X_test)\n",
        "mse_test = mean_squared_error(y_test, y_pred_test)\n",
        "print(\"Final Model MSE on Test Set:\", mse_test)"
      ],
      "metadata": {
        "id": "oK__muPhicCr",
        "colab": {
          "base_uri": "https://localhost:8080/"
        },
        "outputId": "18656a7f-1df5-4d13-aca2-76eb2e6b3d79"
      },
      "execution_count": null,
      "outputs": [
        {
          "output_type": "stream",
          "name": "stdout",
          "text": [
            "Best Parameters: {'n_estimators': 50}\n",
            "Best Cross-Validation MSE: 3.783829618331443\n",
            "Final Model MSE on Test Set: 4.692214889967455\n"
          ]
        }
      ]
    }
  ]
}